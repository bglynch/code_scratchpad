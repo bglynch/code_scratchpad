{
 "cells": [
  {
   "cell_type": "code",
   "execution_count": 1,
   "metadata": {
    "ExecuteTime": {
     "end_time": "2021-04-25T09:52:02.554670Z",
     "start_time": "2021-04-25T09:52:02.064691Z"
    }
   },
   "outputs": [],
   "source": [
    "import os\n",
    "import pandas as pd\n",
    "import re\n",
    "import sqlite3\n",
    "from hashlib import blake2b"
   ]
  },
  {
   "cell_type": "markdown",
   "metadata": {},
   "source": [
    "### Prepare Data"
   ]
  },
  {
   "cell_type": "code",
   "execution_count": 2,
   "metadata": {
    "ExecuteTime": {
     "end_time": "2021-04-25T09:52:11.192300Z",
     "start_time": "2021-04-25T09:52:03.194202Z"
    }
   },
   "outputs": [
    {
     "name": "stderr",
     "output_type": "stream",
     "text": [
      "/Users/br20069521/Desktop/Date-Dump/21-03-07/code_scratchpad/blog/parsing-the-property-price-register-part-1/venv/lib/python3.9/site-packages/IPython/core/interactiveshell.py:3165: DtypeWarning: Columns (8) have mixed types.Specify dtype option on import or set low_memory=False.\n",
      "  has_raised = await self.run_ast_nodes(code_ast.body, cell_name,\n"
     ]
    }
   ],
   "source": [
    "# load data\n",
    "df = pd.read_csv(\"../data/raw/PPR-ALL.csv\", encoding='latin-1')\n",
    "# create uuid\n",
    "df = df.rename(columns={\n",
    "    'Date of Sale (dd/mm/yyyy)': 'date',\n",
    "    'Address': 'address',\n",
    "    'Postal Code': 'postcode',\n",
    "    'County': 'county',\n",
    "    'Price (\\x80)': 'price',\n",
    "    'Not Full Market Price': 'not_full_market_price',\n",
    "    'VAT Exclusive': 'vat_exclusive',\n",
    "    'Property Size Description': 'floor_area',\n",
    "    'Description of Property': 'construction',\n",
    "})\n",
    "\n",
    "# create uuid for each\n",
    "for row in df.copy().itertuples():\n",
    "    # hash_id_string = f\"{row.date}{row.address}{row.price}\"\n",
    "    hash_id_string = f\"{row.date}{row.address}{row.postcode}{row.county}{row.price}{row.not_full_market_price}{row.vat_exclusive}{row.floor_area}{row.construction}\"\n",
    "    df.at[row.Index, 'uuid'] = blake2b(bytes(hash_id_string, \"utf-8\"), digest_size=5).hexdigest()\n",
    "\n",
    "# remove duplicates\n",
    "df.drop_duplicates(inplace=True)\n",
    "\n",
    "df.set_index('uuid', inplace=True)\n"
   ]
  },
  {
   "cell_type": "code",
   "execution_count": 4,
   "metadata": {
    "ExecuteTime": {
     "end_time": "2021-04-25T09:52:28.865509Z",
     "start_time": "2021-04-25T09:52:24.171918Z"
    }
   },
   "outputs": [],
   "source": [
    "db_url = \"../data/database.db\"\n",
    "conn = sqlite3.connect(db_url)\n",
    "cur = conn.cursor()\n",
    "df.to_sql('ppr_all', conn)\n",
    "cur.close()\n",
    "conn.close()"
   ]
  },
  {
   "cell_type": "markdown",
   "metadata": {},
   "source": [
    "### Create tempoary data table"
   ]
  },
  {
   "cell_type": "code",
   "execution_count": 13,
   "metadata": {
    "ExecuteTime": {
     "end_time": "2021-04-25T15:55:54.558299Z",
     "start_time": "2021-04-25T15:55:46.586781Z"
    }
   },
   "outputs": [],
   "source": [
    "conn = sqlite3.connect('../data/database.db')\n",
    "df = pd.read_sql_query('SELECT * FROM ppr_all', conn)\n",
    "df.set_index('uuid', inplace=True)\n",
    "\n",
    "df = df.drop([\"date\",\"price\",\"not_full_market_price\",\"construction\",\"floor_area\",\"vat_exclusive\"], axis=1)\n",
    "df.insert(3, 'ex_eircode', None)\n",
    "df.insert(3, 'ex_county', None)\n",
    "df.insert(3, 'ex_postcode', None)\n",
    "df.insert(3, 'address_mod', None)\n",
    "df.address_mod = df.address.str.lower()\n",
    "\n",
    "\n",
    "cur = conn.cursor()\n",
    "cur.execute(f\"DROP TABLE IF EXISTS temp;\")\n",
    "df.to_sql('temp', conn)\n",
    "cur.close()\n",
    "conn.close()"
   ]
  },
  {
   "cell_type": "code",
   "execution_count": 14,
   "metadata": {
    "ExecuteTime": {
     "end_time": "2021-04-25T15:55:54.574220Z",
     "start_time": "2021-04-25T15:55:54.560218Z"
    }
   },
   "outputs": [
    {
     "data": {
      "text/html": [
       "<div>\n",
       "<style scoped>\n",
       "    .dataframe tbody tr th:only-of-type {\n",
       "        vertical-align: middle;\n",
       "    }\n",
       "\n",
       "    .dataframe tbody tr th {\n",
       "        vertical-align: top;\n",
       "    }\n",
       "\n",
       "    .dataframe thead th {\n",
       "        text-align: right;\n",
       "    }\n",
       "</style>\n",
       "<table border=\"1\" class=\"dataframe\">\n",
       "  <thead>\n",
       "    <tr style=\"text-align: right;\">\n",
       "      <th></th>\n",
       "      <th>address</th>\n",
       "      <th>postcode</th>\n",
       "      <th>county</th>\n",
       "      <th>address_mod</th>\n",
       "      <th>ex_postcode</th>\n",
       "      <th>ex_county</th>\n",
       "      <th>ex_eircode</th>\n",
       "    </tr>\n",
       "    <tr>\n",
       "      <th>uuid</th>\n",
       "      <th></th>\n",
       "      <th></th>\n",
       "      <th></th>\n",
       "      <th></th>\n",
       "      <th></th>\n",
       "      <th></th>\n",
       "      <th></th>\n",
       "    </tr>\n",
       "  </thead>\n",
       "  <tbody>\n",
       "    <tr>\n",
       "      <th>b306a21836</th>\n",
       "      <td>5 Braemor Drive, Churchtown, Co.Dublin</td>\n",
       "      <td>None</td>\n",
       "      <td>Dublin</td>\n",
       "      <td>5 braemor drive, churchtown, co.dublin</td>\n",
       "      <td>None</td>\n",
       "      <td>None</td>\n",
       "      <td>None</td>\n",
       "    </tr>\n",
       "    <tr>\n",
       "      <th>42e8eed8ad</th>\n",
       "      <td>134 Ashewood Walk, Summerhill Lane, Portlaoise</td>\n",
       "      <td>None</td>\n",
       "      <td>Laois</td>\n",
       "      <td>134 ashewood walk, summerhill lane, portlaoise</td>\n",
       "      <td>None</td>\n",
       "      <td>None</td>\n",
       "      <td>None</td>\n",
       "    </tr>\n",
       "    <tr>\n",
       "      <th>7b08b5e03d</th>\n",
       "      <td>1 Meadow Avenue, Dundrum, Dublin 14</td>\n",
       "      <td>None</td>\n",
       "      <td>Dublin</td>\n",
       "      <td>1 meadow avenue, dundrum, dublin 14</td>\n",
       "      <td>None</td>\n",
       "      <td>None</td>\n",
       "      <td>None</td>\n",
       "    </tr>\n",
       "    <tr>\n",
       "      <th>2352e180f5</th>\n",
       "      <td>1 The Haven, Mornington</td>\n",
       "      <td>None</td>\n",
       "      <td>Meath</td>\n",
       "      <td>1 the haven, mornington</td>\n",
       "      <td>None</td>\n",
       "      <td>None</td>\n",
       "      <td>None</td>\n",
       "    </tr>\n",
       "    <tr>\n",
       "      <th>cbac7ce7bd</th>\n",
       "      <td>11 Melville Heights, Kilkenny</td>\n",
       "      <td>None</td>\n",
       "      <td>Kilkenny</td>\n",
       "      <td>11 melville heights, kilkenny</td>\n",
       "      <td>None</td>\n",
       "      <td>None</td>\n",
       "      <td>None</td>\n",
       "    </tr>\n",
       "    <tr>\n",
       "      <th>...</th>\n",
       "      <td>...</td>\n",
       "      <td>...</td>\n",
       "      <td>...</td>\n",
       "      <td>...</td>\n",
       "      <td>...</td>\n",
       "      <td>...</td>\n",
       "      <td>...</td>\n",
       "    </tr>\n",
       "    <tr>\n",
       "      <th>b39bcc2471</th>\n",
       "      <td>CROSSNEEN, GRAIGUECULLEN, CARLOW</td>\n",
       "      <td>None</td>\n",
       "      <td>Laois</td>\n",
       "      <td>crossneen, graiguecullen, carlow</td>\n",
       "      <td>None</td>\n",
       "      <td>None</td>\n",
       "      <td>None</td>\n",
       "    </tr>\n",
       "    <tr>\n",
       "      <th>b65b929588</th>\n",
       "      <td>GORTADERRA, SCARRIFF, CLARE</td>\n",
       "      <td>None</td>\n",
       "      <td>Clare</td>\n",
       "      <td>gortaderra, scarriff, clare</td>\n",
       "      <td>None</td>\n",
       "      <td>None</td>\n",
       "      <td>None</td>\n",
       "    </tr>\n",
       "    <tr>\n",
       "      <th>3e02f239ba</th>\n",
       "      <td>HALSEYRATH, DUNCORMICK, WEXFORD</td>\n",
       "      <td>None</td>\n",
       "      <td>Wexford</td>\n",
       "      <td>halseyrath, duncormick, wexford</td>\n",
       "      <td>None</td>\n",
       "      <td>None</td>\n",
       "      <td>None</td>\n",
       "    </tr>\n",
       "    <tr>\n",
       "      <th>b99e66ddea</th>\n",
       "      <td>RIVERSIDE, BEHEENAGH, KNOCKNAGOSHEL</td>\n",
       "      <td>None</td>\n",
       "      <td>Kerry</td>\n",
       "      <td>riverside, beheenagh, knocknagoshel</td>\n",
       "      <td>None</td>\n",
       "      <td>None</td>\n",
       "      <td>None</td>\n",
       "    </tr>\n",
       "    <tr>\n",
       "      <th>fe602cd8ea</th>\n",
       "      <td>SMEAR, AUGHNACLIFFE, LONGFORD</td>\n",
       "      <td>None</td>\n",
       "      <td>Longford</td>\n",
       "      <td>smear, aughnacliffe, longford</td>\n",
       "      <td>None</td>\n",
       "      <td>None</td>\n",
       "      <td>None</td>\n",
       "    </tr>\n",
       "  </tbody>\n",
       "</table>\n",
       "<p>468967 rows × 7 columns</p>\n",
       "</div>"
      ],
      "text/plain": [
       "                                                   address postcode    county  \\\n",
       "uuid                                                                            \n",
       "b306a21836          5 Braemor Drive, Churchtown, Co.Dublin     None    Dublin   \n",
       "42e8eed8ad  134 Ashewood Walk, Summerhill Lane, Portlaoise     None     Laois   \n",
       "7b08b5e03d             1 Meadow Avenue, Dundrum, Dublin 14     None    Dublin   \n",
       "2352e180f5                         1 The Haven, Mornington     None     Meath   \n",
       "cbac7ce7bd                   11 Melville Heights, Kilkenny     None  Kilkenny   \n",
       "...                                                    ...      ...       ...   \n",
       "b39bcc2471                CROSSNEEN, GRAIGUECULLEN, CARLOW     None     Laois   \n",
       "b65b929588                     GORTADERRA, SCARRIFF, CLARE     None     Clare   \n",
       "3e02f239ba                 HALSEYRATH, DUNCORMICK, WEXFORD     None   Wexford   \n",
       "b99e66ddea             RIVERSIDE, BEHEENAGH, KNOCKNAGOSHEL     None     Kerry   \n",
       "fe602cd8ea                   SMEAR, AUGHNACLIFFE, LONGFORD     None  Longford   \n",
       "\n",
       "                                               address_mod ex_postcode  \\\n",
       "uuid                                                                     \n",
       "b306a21836          5 braemor drive, churchtown, co.dublin        None   \n",
       "42e8eed8ad  134 ashewood walk, summerhill lane, portlaoise        None   \n",
       "7b08b5e03d             1 meadow avenue, dundrum, dublin 14        None   \n",
       "2352e180f5                         1 the haven, mornington        None   \n",
       "cbac7ce7bd                   11 melville heights, kilkenny        None   \n",
       "...                                                    ...         ...   \n",
       "b39bcc2471                crossneen, graiguecullen, carlow        None   \n",
       "b65b929588                     gortaderra, scarriff, clare        None   \n",
       "3e02f239ba                 halseyrath, duncormick, wexford        None   \n",
       "b99e66ddea             riverside, beheenagh, knocknagoshel        None   \n",
       "fe602cd8ea                   smear, aughnacliffe, longford        None   \n",
       "\n",
       "           ex_county ex_eircode  \n",
       "uuid                             \n",
       "b306a21836      None       None  \n",
       "42e8eed8ad      None       None  \n",
       "7b08b5e03d      None       None  \n",
       "2352e180f5      None       None  \n",
       "cbac7ce7bd      None       None  \n",
       "...              ...        ...  \n",
       "b39bcc2471      None       None  \n",
       "b65b929588      None       None  \n",
       "3e02f239ba      None       None  \n",
       "b99e66ddea      None       None  \n",
       "fe602cd8ea      None       None  \n",
       "\n",
       "[468967 rows x 7 columns]"
      ]
     },
     "execution_count": 14,
     "metadata": {},
     "output_type": "execute_result"
    }
   ],
   "source": [
    "df"
   ]
  },
  {
   "cell_type": "markdown",
   "metadata": {},
   "source": [
    "---"
   ]
  },
  {
   "cell_type": "code",
   "execution_count": 11,
   "metadata": {
    "ExecuteTime": {
     "end_time": "2021-04-25T15:20:03.610093Z",
     "start_time": "2021-04-25T15:20:03.603335Z"
    }
   },
   "outputs": [],
   "source": [
    "eircode_routing_keys = [\n",
    "    \"A41\",\"A42\",\"A45\",\"A63\",\"A67\",\"A75\",\"A81\",\"A82\",\"A83\",\"A84\",\"A85\",\"A86\",\"A91\",\"A92\",\"A94\",\"A96\",\"A98\",\n",
    "    \"C15\",\"D01\",\"D02\",\"D03\",\"D04\",\"D05\",\"D06\",\"D6W\",\"D07\",\"D08\",\"D09\",\"D10\",\"D11\",\"D12\",\"D13\",\"D14\",\"D15\",\n",
    "    \"D16\",\"D17\",\"D18\",\"D20\",\"D22\",\"D24\",\"E21\",\"E25\",\"E32\",\"E34\",\"E41\",\"E45\",\"E53\",\"E91\",\"F12\",\"F23\",\"F26\",\n",
    "    \"F28\",\"F31\",\"F35\",\"F42\",\"F45\",\"F52\",\"F56\",\"F91\",\"F92\",\"F93\",\"F94\",\"H12\",\"H14\",\"H16\",\"H18\",\"H23\",\"H53\",\n",
    "    \"H54\",\"H62\",\"H65\",\"H71\",\"H91\",\"K32\",\"K34\",\"K36\",\"K45\",\"K56\",\"K67\",\"K78\",\"N37\",\"N39\",\"N41\",\"N91\",\"P12\",\n",
    "    \"P14\",\"P17\",\"P24\",\"P25\",\"P31\",\"P32\",\"P36\",\"P43\",\"P47\",\"P51\",\"P56\",\"P61\",\"P67\",\"P72\",\"P75\",\"P81\",\"P85\",\n",
    "    \"R14\",\"R21\",\"R32\",\"R35\",\"R42\",\"R45\",\"R51\",\"R56\",\"R93\",\"R95\",\"T12\",\"T23\",\"T34\",\"T45\",\"T56\",\"V14\",\"V15\",\n",
    "    \"V23\",\"V31\",\"V35\",\"V42\",\"V92\",\"V93\",\"V94\",\"V95\",\"W12\",\"W23\",\"W34\",\"W91\",\"X35\",\"X42\",\"X91\",\"Y14\",\"Y21\",\n",
    "    \"Y25\",\"Y34\",\"Y35\"]"
   ]
  },
  {
   "cell_type": "code",
   "execution_count": 12,
   "metadata": {
    "ExecuteTime": {
     "end_time": "2021-04-25T15:29:13.417678Z",
     "start_time": "2021-04-25T15:29:13.414400Z"
    }
   },
   "outputs": [],
   "source": [
    "regex_query = r\"\\b(\"+'|'.join(eircode_routing_keys) + r\") ?[a-z0-9]{4}$\"\n"
   ]
  },
  {
   "cell_type": "code",
   "execution_count": null,
   "metadata": {},
   "outputs": [],
   "source": [
    "conn = sqlite3.connect('../data/database.db')\n",
    "df = pd.read_sql_query('SELECT * FROM temp', conn)"
   ]
  },
  {
   "cell_type": "code",
   "execution_count": 17,
   "metadata": {
    "ExecuteTime": {
     "end_time": "2021-04-25T16:23:35.995812Z",
     "start_time": "2021-04-25T16:23:35.990994Z"
    }
   },
   "outputs": [
    {
     "data": {
      "text/plain": [
       "388978990000"
      ]
     },
     "execution_count": 17,
     "metadata": {},
     "output_type": "execute_result"
    }
   ],
   "source": [
    "230*230*230*230*139"
   ]
  },
  {
   "cell_type": "code",
   "execution_count": null,
   "metadata": {},
   "outputs": [],
   "source": [
    "388,978,990,000"
   ]
  },
  {
   "cell_type": "code",
   "execution_count": null,
   "metadata": {},
   "outputs": [],
   "source": [
    "2,798,410,000"
   ]
  }
 ],
 "metadata": {
  "kernelspec": {
   "display_name": "Python 3",
   "language": "python",
   "name": "python3"
  },
  "language_info": {
   "codemirror_mode": {
    "name": "ipython",
    "version": 3
   },
   "file_extension": ".py",
   "mimetype": "text/x-python",
   "name": "python",
   "nbconvert_exporter": "python",
   "pygments_lexer": "ipython3",
   "version": "3.9.0"
  }
 },
 "nbformat": 4,
 "nbformat_minor": 4
}
