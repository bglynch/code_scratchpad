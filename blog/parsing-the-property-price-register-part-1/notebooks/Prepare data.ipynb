{
 "cells": [
  {
   "cell_type": "code",
   "execution_count": 1,
   "metadata": {
    "ExecuteTime": {
     "end_time": "2021-04-26T09:22:43.137939Z",
     "start_time": "2021-04-26T09:22:42.632620Z"
    }
   },
   "outputs": [],
   "source": [
    "import os\n",
    "import pandas as pd\n",
    "import re\n",
    "import sqlite3\n",
    "from hashlib import blake2b"
   ]
  },
  {
   "cell_type": "code",
   "execution_count": 5,
   "metadata": {
    "ExecuteTime": {
     "end_time": "2021-04-26T09:40:37.781737Z",
     "start_time": "2021-04-26T09:40:37.778653Z"
    }
   },
   "outputs": [],
   "source": [
    "import os\n",
    "os.chdir('../')"
   ]
  },
  {
   "cell_type": "code",
   "execution_count": 6,
   "metadata": {
    "ExecuteTime": {
     "end_time": "2021-04-26T09:40:44.273577Z",
     "start_time": "2021-04-26T09:40:44.268800Z"
    }
   },
   "outputs": [
    {
     "data": {
      "text/plain": [
       "'/Users/br20069521/Desktop/Date-Dump/21-03-07/code_scratchpad/blog/parsing-the-property-price-register-part-1'"
      ]
     },
     "execution_count": 6,
     "metadata": {},
     "output_type": "execute_result"
    }
   ],
   "source": [
    "os.getcwd()"
   ]
  },
  {
   "cell_type": "code",
   "execution_count": 11,
   "metadata": {
    "ExecuteTime": {
     "end_time": "2021-04-26T10:48:24.032259Z",
     "start_time": "2021-04-26T10:48:24.026864Z"
    }
   },
   "outputs": [],
   "source": [
    "from src import extract as ex\n",
    "from src import parse as pr\n",
    "from src import normalise as nm"
   ]
  },
  {
   "cell_type": "markdown",
   "metadata": {},
   "source": [
    "### Prepare Data"
   ]
  },
  {
   "cell_type": "code",
   "execution_count": 2,
   "metadata": {
    "ExecuteTime": {
     "end_time": "2021-04-25T09:52:11.192300Z",
     "start_time": "2021-04-25T09:52:03.194202Z"
    }
   },
   "outputs": [
    {
     "name": "stderr",
     "output_type": "stream",
     "text": [
      "/Users/br20069521/Desktop/Date-Dump/21-03-07/code_scratchpad/blog/parsing-the-property-price-register-part-1/venv/lib/python3.9/site-packages/IPython/core/interactiveshell.py:3165: DtypeWarning: Columns (8) have mixed types.Specify dtype option on import or set low_memory=False.\n",
      "  has_raised = await self.run_ast_nodes(code_ast.body, cell_name,\n"
     ]
    }
   ],
   "source": [
    "# load data\n",
    "df = pd.read_csv(\"../data/raw/PPR-ALL.csv\", encoding='latin-1')\n",
    "# create uuid\n",
    "df = df.rename(columns={\n",
    "    'Date of Sale (dd/mm/yyyy)': 'date',\n",
    "    'Address': 'address',\n",
    "    'Postal Code': 'postcode',\n",
    "    'County': 'county',\n",
    "    'Price (\\x80)': 'price',\n",
    "    'Not Full Market Price': 'not_full_market_price',\n",
    "    'VAT Exclusive': 'vat_exclusive',\n",
    "    'Property Size Description': 'floor_area',\n",
    "    'Description of Property': 'construction',\n",
    "})\n",
    "\n",
    "# create uuid for each\n",
    "for row in df.copy().itertuples():\n",
    "    # hash_id_string = f\"{row.date}{row.address}{row.price}\"\n",
    "    hash_id_string = f\"{row.date}{row.address}{row.postcode}{row.county}{row.price}{row.not_full_market_price}{row.vat_exclusive}{row.floor_area}{row.construction}\"\n",
    "    df.at[row.Index, 'uuid'] = blake2b(bytes(hash_id_string, \"utf-8\"), digest_size=5).hexdigest()\n",
    "\n",
    "# remove duplicates\n",
    "df.drop_duplicates(inplace=True)\n",
    "\n",
    "df.set_index('uuid', inplace=True)\n"
   ]
  },
  {
   "cell_type": "code",
   "execution_count": 4,
   "metadata": {
    "ExecuteTime": {
     "end_time": "2021-04-25T09:52:28.865509Z",
     "start_time": "2021-04-25T09:52:24.171918Z"
    }
   },
   "outputs": [],
   "source": [
    "db_url = \"../data/database.db\"\n",
    "conn = sqlite3.connect(db_url)\n",
    "cur = conn.cursor()\n",
    "df.to_sql('ppr_all', conn)\n",
    "cur.close()\n",
    "conn.close()"
   ]
  },
  {
   "cell_type": "markdown",
   "metadata": {},
   "source": [
    "### Create tempoary data table"
   ]
  },
  {
   "cell_type": "code",
   "execution_count": 13,
   "metadata": {
    "ExecuteTime": {
     "end_time": "2021-04-25T15:55:54.558299Z",
     "start_time": "2021-04-25T15:55:46.586781Z"
    }
   },
   "outputs": [],
   "source": [
    "conn = sqlite3.connect('../data/database.db')\n",
    "df = pd.read_sql_query('SELECT * FROM ppr_all', conn)\n",
    "df.set_index('uuid', inplace=True)\n",
    "\n",
    "df = df.drop([\"date\",\"price\",\"not_full_market_price\",\"construction\",\"floor_area\",\"vat_exclusive\"], axis=1)\n",
    "df.insert(3, 'ex_eircode', None)\n",
    "df.insert(3, 'ex_county', None)\n",
    "df.insert(3, 'ex_postcode', None)\n",
    "df.insert(3, 'address_mod', None)\n",
    "df.address_mod = df.address.str.lower()\n",
    "\n",
    "\n",
    "cur = conn.cursor()\n",
    "cur.execute(f\"DROP TABLE IF EXISTS temp;\")\n",
    "df.to_sql('temp', conn)\n",
    "cur.close()\n",
    "conn.close()"
   ]
  },
  {
   "cell_type": "code",
   "execution_count": 14,
   "metadata": {
    "ExecuteTime": {
     "end_time": "2021-04-25T15:55:54.574220Z",
     "start_time": "2021-04-25T15:55:54.560218Z"
    }
   },
   "outputs": [
    {
     "data": {
      "text/html": [
       "<div>\n",
       "<style scoped>\n",
       "    .dataframe tbody tr th:only-of-type {\n",
       "        vertical-align: middle;\n",
       "    }\n",
       "\n",
       "    .dataframe tbody tr th {\n",
       "        vertical-align: top;\n",
       "    }\n",
       "\n",
       "    .dataframe thead th {\n",
       "        text-align: right;\n",
       "    }\n",
       "</style>\n",
       "<table border=\"1\" class=\"dataframe\">\n",
       "  <thead>\n",
       "    <tr style=\"text-align: right;\">\n",
       "      <th></th>\n",
       "      <th>address</th>\n",
       "      <th>postcode</th>\n",
       "      <th>county</th>\n",
       "      <th>address_mod</th>\n",
       "      <th>ex_postcode</th>\n",
       "      <th>ex_county</th>\n",
       "      <th>ex_eircode</th>\n",
       "    </tr>\n",
       "    <tr>\n",
       "      <th>uuid</th>\n",
       "      <th></th>\n",
       "      <th></th>\n",
       "      <th></th>\n",
       "      <th></th>\n",
       "      <th></th>\n",
       "      <th></th>\n",
       "      <th></th>\n",
       "    </tr>\n",
       "  </thead>\n",
       "  <tbody>\n",
       "    <tr>\n",
       "      <th>b306a21836</th>\n",
       "      <td>5 Braemor Drive, Churchtown, Co.Dublin</td>\n",
       "      <td>None</td>\n",
       "      <td>Dublin</td>\n",
       "      <td>5 braemor drive, churchtown, co.dublin</td>\n",
       "      <td>None</td>\n",
       "      <td>None</td>\n",
       "      <td>None</td>\n",
       "    </tr>\n",
       "    <tr>\n",
       "      <th>42e8eed8ad</th>\n",
       "      <td>134 Ashewood Walk, Summerhill Lane, Portlaoise</td>\n",
       "      <td>None</td>\n",
       "      <td>Laois</td>\n",
       "      <td>134 ashewood walk, summerhill lane, portlaoise</td>\n",
       "      <td>None</td>\n",
       "      <td>None</td>\n",
       "      <td>None</td>\n",
       "    </tr>\n",
       "    <tr>\n",
       "      <th>7b08b5e03d</th>\n",
       "      <td>1 Meadow Avenue, Dundrum, Dublin 14</td>\n",
       "      <td>None</td>\n",
       "      <td>Dublin</td>\n",
       "      <td>1 meadow avenue, dundrum, dublin 14</td>\n",
       "      <td>None</td>\n",
       "      <td>None</td>\n",
       "      <td>None</td>\n",
       "    </tr>\n",
       "    <tr>\n",
       "      <th>2352e180f5</th>\n",
       "      <td>1 The Haven, Mornington</td>\n",
       "      <td>None</td>\n",
       "      <td>Meath</td>\n",
       "      <td>1 the haven, mornington</td>\n",
       "      <td>None</td>\n",
       "      <td>None</td>\n",
       "      <td>None</td>\n",
       "    </tr>\n",
       "    <tr>\n",
       "      <th>cbac7ce7bd</th>\n",
       "      <td>11 Melville Heights, Kilkenny</td>\n",
       "      <td>None</td>\n",
       "      <td>Kilkenny</td>\n",
       "      <td>11 melville heights, kilkenny</td>\n",
       "      <td>None</td>\n",
       "      <td>None</td>\n",
       "      <td>None</td>\n",
       "    </tr>\n",
       "    <tr>\n",
       "      <th>...</th>\n",
       "      <td>...</td>\n",
       "      <td>...</td>\n",
       "      <td>...</td>\n",
       "      <td>...</td>\n",
       "      <td>...</td>\n",
       "      <td>...</td>\n",
       "      <td>...</td>\n",
       "    </tr>\n",
       "    <tr>\n",
       "      <th>b39bcc2471</th>\n",
       "      <td>CROSSNEEN, GRAIGUECULLEN, CARLOW</td>\n",
       "      <td>None</td>\n",
       "      <td>Laois</td>\n",
       "      <td>crossneen, graiguecullen, carlow</td>\n",
       "      <td>None</td>\n",
       "      <td>None</td>\n",
       "      <td>None</td>\n",
       "    </tr>\n",
       "    <tr>\n",
       "      <th>b65b929588</th>\n",
       "      <td>GORTADERRA, SCARRIFF, CLARE</td>\n",
       "      <td>None</td>\n",
       "      <td>Clare</td>\n",
       "      <td>gortaderra, scarriff, clare</td>\n",
       "      <td>None</td>\n",
       "      <td>None</td>\n",
       "      <td>None</td>\n",
       "    </tr>\n",
       "    <tr>\n",
       "      <th>3e02f239ba</th>\n",
       "      <td>HALSEYRATH, DUNCORMICK, WEXFORD</td>\n",
       "      <td>None</td>\n",
       "      <td>Wexford</td>\n",
       "      <td>halseyrath, duncormick, wexford</td>\n",
       "      <td>None</td>\n",
       "      <td>None</td>\n",
       "      <td>None</td>\n",
       "    </tr>\n",
       "    <tr>\n",
       "      <th>b99e66ddea</th>\n",
       "      <td>RIVERSIDE, BEHEENAGH, KNOCKNAGOSHEL</td>\n",
       "      <td>None</td>\n",
       "      <td>Kerry</td>\n",
       "      <td>riverside, beheenagh, knocknagoshel</td>\n",
       "      <td>None</td>\n",
       "      <td>None</td>\n",
       "      <td>None</td>\n",
       "    </tr>\n",
       "    <tr>\n",
       "      <th>fe602cd8ea</th>\n",
       "      <td>SMEAR, AUGHNACLIFFE, LONGFORD</td>\n",
       "      <td>None</td>\n",
       "      <td>Longford</td>\n",
       "      <td>smear, aughnacliffe, longford</td>\n",
       "      <td>None</td>\n",
       "      <td>None</td>\n",
       "      <td>None</td>\n",
       "    </tr>\n",
       "  </tbody>\n",
       "</table>\n",
       "<p>468967 rows × 7 columns</p>\n",
       "</div>"
      ],
      "text/plain": [
       "                                                   address postcode    county  \\\n",
       "uuid                                                                            \n",
       "b306a21836          5 Braemor Drive, Churchtown, Co.Dublin     None    Dublin   \n",
       "42e8eed8ad  134 Ashewood Walk, Summerhill Lane, Portlaoise     None     Laois   \n",
       "7b08b5e03d             1 Meadow Avenue, Dundrum, Dublin 14     None    Dublin   \n",
       "2352e180f5                         1 The Haven, Mornington     None     Meath   \n",
       "cbac7ce7bd                   11 Melville Heights, Kilkenny     None  Kilkenny   \n",
       "...                                                    ...      ...       ...   \n",
       "b39bcc2471                CROSSNEEN, GRAIGUECULLEN, CARLOW     None     Laois   \n",
       "b65b929588                     GORTADERRA, SCARRIFF, CLARE     None     Clare   \n",
       "3e02f239ba                 HALSEYRATH, DUNCORMICK, WEXFORD     None   Wexford   \n",
       "b99e66ddea             RIVERSIDE, BEHEENAGH, KNOCKNAGOSHEL     None     Kerry   \n",
       "fe602cd8ea                   SMEAR, AUGHNACLIFFE, LONGFORD     None  Longford   \n",
       "\n",
       "                                               address_mod ex_postcode  \\\n",
       "uuid                                                                     \n",
       "b306a21836          5 braemor drive, churchtown, co.dublin        None   \n",
       "42e8eed8ad  134 ashewood walk, summerhill lane, portlaoise        None   \n",
       "7b08b5e03d             1 meadow avenue, dundrum, dublin 14        None   \n",
       "2352e180f5                         1 the haven, mornington        None   \n",
       "cbac7ce7bd                   11 melville heights, kilkenny        None   \n",
       "...                                                    ...         ...   \n",
       "b39bcc2471                crossneen, graiguecullen, carlow        None   \n",
       "b65b929588                     gortaderra, scarriff, clare        None   \n",
       "3e02f239ba                 halseyrath, duncormick, wexford        None   \n",
       "b99e66ddea             riverside, beheenagh, knocknagoshel        None   \n",
       "fe602cd8ea                   smear, aughnacliffe, longford        None   \n",
       "\n",
       "           ex_county ex_eircode  \n",
       "uuid                             \n",
       "b306a21836      None       None  \n",
       "42e8eed8ad      None       None  \n",
       "7b08b5e03d      None       None  \n",
       "2352e180f5      None       None  \n",
       "cbac7ce7bd      None       None  \n",
       "...              ...        ...  \n",
       "b39bcc2471      None       None  \n",
       "b65b929588      None       None  \n",
       "3e02f239ba      None       None  \n",
       "b99e66ddea      None       None  \n",
       "fe602cd8ea      None       None  \n",
       "\n",
       "[468967 rows x 7 columns]"
      ]
     },
     "execution_count": 14,
     "metadata": {},
     "output_type": "execute_result"
    }
   ],
   "source": [
    "df"
   ]
  },
  {
   "cell_type": "markdown",
   "metadata": {},
   "source": [
    "---"
   ]
  },
  {
   "cell_type": "markdown",
   "metadata": {},
   "source": [
    "### Load data and extract/remove eircode"
   ]
  },
  {
   "cell_type": "code",
   "execution_count": 2,
   "metadata": {
    "ExecuteTime": {
     "end_time": "2021-04-26T09:24:10.516134Z",
     "start_time": "2021-04-26T09:24:07.949363Z"
    }
   },
   "outputs": [
    {
     "data": {
      "text/html": [
       "<div>\n",
       "<style scoped>\n",
       "    .dataframe tbody tr th:only-of-type {\n",
       "        vertical-align: middle;\n",
       "    }\n",
       "\n",
       "    .dataframe tbody tr th {\n",
       "        vertical-align: top;\n",
       "    }\n",
       "\n",
       "    .dataframe thead th {\n",
       "        text-align: right;\n",
       "    }\n",
       "</style>\n",
       "<table border=\"1\" class=\"dataframe\">\n",
       "  <thead>\n",
       "    <tr style=\"text-align: right;\">\n",
       "      <th></th>\n",
       "      <th>address</th>\n",
       "      <th>postcode</th>\n",
       "      <th>county</th>\n",
       "      <th>address_mod</th>\n",
       "      <th>ex_postcode</th>\n",
       "      <th>ex_county</th>\n",
       "      <th>ex_eircode</th>\n",
       "    </tr>\n",
       "    <tr>\n",
       "      <th>uuid</th>\n",
       "      <th></th>\n",
       "      <th></th>\n",
       "      <th></th>\n",
       "      <th></th>\n",
       "      <th></th>\n",
       "      <th></th>\n",
       "      <th></th>\n",
       "    </tr>\n",
       "  </thead>\n",
       "  <tbody>\n",
       "    <tr>\n",
       "      <th>b306a21836</th>\n",
       "      <td>5 Braemor Drive, Churchtown, Co.Dublin</td>\n",
       "      <td>None</td>\n",
       "      <td>Dublin</td>\n",
       "      <td>5 braemor drive, churchtown, co.dublin</td>\n",
       "      <td>None</td>\n",
       "      <td>None</td>\n",
       "      <td>None</td>\n",
       "    </tr>\n",
       "    <tr>\n",
       "      <th>42e8eed8ad</th>\n",
       "      <td>134 Ashewood Walk, Summerhill Lane, Portlaoise</td>\n",
       "      <td>None</td>\n",
       "      <td>Laois</td>\n",
       "      <td>134 ashewood walk, summerhill lane, portlaoise</td>\n",
       "      <td>None</td>\n",
       "      <td>None</td>\n",
       "      <td>None</td>\n",
       "    </tr>\n",
       "    <tr>\n",
       "      <th>7b08b5e03d</th>\n",
       "      <td>1 Meadow Avenue, Dundrum, Dublin 14</td>\n",
       "      <td>None</td>\n",
       "      <td>Dublin</td>\n",
       "      <td>1 meadow avenue, dundrum, dublin 14</td>\n",
       "      <td>None</td>\n",
       "      <td>None</td>\n",
       "      <td>None</td>\n",
       "    </tr>\n",
       "    <tr>\n",
       "      <th>2352e180f5</th>\n",
       "      <td>1 The Haven, Mornington</td>\n",
       "      <td>None</td>\n",
       "      <td>Meath</td>\n",
       "      <td>1 the haven, mornington</td>\n",
       "      <td>None</td>\n",
       "      <td>None</td>\n",
       "      <td>None</td>\n",
       "    </tr>\n",
       "    <tr>\n",
       "      <th>cbac7ce7bd</th>\n",
       "      <td>11 Melville Heights, Kilkenny</td>\n",
       "      <td>None</td>\n",
       "      <td>Kilkenny</td>\n",
       "      <td>11 melville heights, kilkenny</td>\n",
       "      <td>None</td>\n",
       "      <td>None</td>\n",
       "      <td>None</td>\n",
       "    </tr>\n",
       "    <tr>\n",
       "      <th>...</th>\n",
       "      <td>...</td>\n",
       "      <td>...</td>\n",
       "      <td>...</td>\n",
       "      <td>...</td>\n",
       "      <td>...</td>\n",
       "      <td>...</td>\n",
       "      <td>...</td>\n",
       "    </tr>\n",
       "    <tr>\n",
       "      <th>b39bcc2471</th>\n",
       "      <td>CROSSNEEN, GRAIGUECULLEN, CARLOW</td>\n",
       "      <td>None</td>\n",
       "      <td>Laois</td>\n",
       "      <td>crossneen, graiguecullen, carlow</td>\n",
       "      <td>None</td>\n",
       "      <td>None</td>\n",
       "      <td>None</td>\n",
       "    </tr>\n",
       "    <tr>\n",
       "      <th>b65b929588</th>\n",
       "      <td>GORTADERRA, SCARRIFF, CLARE</td>\n",
       "      <td>None</td>\n",
       "      <td>Clare</td>\n",
       "      <td>gortaderra, scarriff, clare</td>\n",
       "      <td>None</td>\n",
       "      <td>None</td>\n",
       "      <td>None</td>\n",
       "    </tr>\n",
       "    <tr>\n",
       "      <th>3e02f239ba</th>\n",
       "      <td>HALSEYRATH, DUNCORMICK, WEXFORD</td>\n",
       "      <td>None</td>\n",
       "      <td>Wexford</td>\n",
       "      <td>halseyrath, duncormick, wexford</td>\n",
       "      <td>None</td>\n",
       "      <td>None</td>\n",
       "      <td>None</td>\n",
       "    </tr>\n",
       "    <tr>\n",
       "      <th>b99e66ddea</th>\n",
       "      <td>RIVERSIDE, BEHEENAGH, KNOCKNAGOSHEL</td>\n",
       "      <td>None</td>\n",
       "      <td>Kerry</td>\n",
       "      <td>riverside, beheenagh, knocknagoshel</td>\n",
       "      <td>None</td>\n",
       "      <td>None</td>\n",
       "      <td>None</td>\n",
       "    </tr>\n",
       "    <tr>\n",
       "      <th>fe602cd8ea</th>\n",
       "      <td>SMEAR, AUGHNACLIFFE, LONGFORD</td>\n",
       "      <td>None</td>\n",
       "      <td>Longford</td>\n",
       "      <td>smear, aughnacliffe, longford</td>\n",
       "      <td>None</td>\n",
       "      <td>None</td>\n",
       "      <td>None</td>\n",
       "    </tr>\n",
       "  </tbody>\n",
       "</table>\n",
       "<p>468967 rows × 7 columns</p>\n",
       "</div>"
      ],
      "text/plain": [
       "                                                   address postcode    county  \\\n",
       "uuid                                                                            \n",
       "b306a21836          5 Braemor Drive, Churchtown, Co.Dublin     None    Dublin   \n",
       "42e8eed8ad  134 Ashewood Walk, Summerhill Lane, Portlaoise     None     Laois   \n",
       "7b08b5e03d             1 Meadow Avenue, Dundrum, Dublin 14     None    Dublin   \n",
       "2352e180f5                         1 The Haven, Mornington     None     Meath   \n",
       "cbac7ce7bd                   11 Melville Heights, Kilkenny     None  Kilkenny   \n",
       "...                                                    ...      ...       ...   \n",
       "b39bcc2471                CROSSNEEN, GRAIGUECULLEN, CARLOW     None     Laois   \n",
       "b65b929588                     GORTADERRA, SCARRIFF, CLARE     None     Clare   \n",
       "3e02f239ba                 HALSEYRATH, DUNCORMICK, WEXFORD     None   Wexford   \n",
       "b99e66ddea             RIVERSIDE, BEHEENAGH, KNOCKNAGOSHEL     None     Kerry   \n",
       "fe602cd8ea                   SMEAR, AUGHNACLIFFE, LONGFORD     None  Longford   \n",
       "\n",
       "                                               address_mod ex_postcode  \\\n",
       "uuid                                                                     \n",
       "b306a21836          5 braemor drive, churchtown, co.dublin        None   \n",
       "42e8eed8ad  134 ashewood walk, summerhill lane, portlaoise        None   \n",
       "7b08b5e03d             1 meadow avenue, dundrum, dublin 14        None   \n",
       "2352e180f5                         1 the haven, mornington        None   \n",
       "cbac7ce7bd                   11 melville heights, kilkenny        None   \n",
       "...                                                    ...         ...   \n",
       "b39bcc2471                crossneen, graiguecullen, carlow        None   \n",
       "b65b929588                     gortaderra, scarriff, clare        None   \n",
       "3e02f239ba                 halseyrath, duncormick, wexford        None   \n",
       "b99e66ddea             riverside, beheenagh, knocknagoshel        None   \n",
       "fe602cd8ea                   smear, aughnacliffe, longford        None   \n",
       "\n",
       "           ex_county ex_eircode  \n",
       "uuid                             \n",
       "b306a21836      None       None  \n",
       "42e8eed8ad      None       None  \n",
       "7b08b5e03d      None       None  \n",
       "2352e180f5      None       None  \n",
       "cbac7ce7bd      None       None  \n",
       "...              ...        ...  \n",
       "b39bcc2471      None       None  \n",
       "b65b929588      None       None  \n",
       "3e02f239ba      None       None  \n",
       "b99e66ddea      None       None  \n",
       "fe602cd8ea      None       None  \n",
       "\n",
       "[468967 rows x 7 columns]"
      ]
     },
     "execution_count": 2,
     "metadata": {},
     "output_type": "execute_result"
    }
   ],
   "source": [
    "conn = sqlite3.connect('../data/database.db')\n",
    "df = pd.read_sql_query('SELECT * FROM temp;', conn)\n",
    "df.set_index('uuid', inplace=True)\n",
    "\n",
    "df"
   ]
  },
  {
   "cell_type": "code",
   "execution_count": 9,
   "metadata": {
    "ExecuteTime": {
     "end_time": "2021-04-26T09:43:15.478427Z",
     "start_time": "2021-04-26T09:43:09.837049Z"
    }
   },
   "outputs": [],
   "source": [
    "for row in df.copy().itertuples():\n",
    "    eircode = ex.extract_eircode_from_end_of_address(row.address_mod)\n",
    "    if eircode is not None:\n",
    "        df.at[row.Index, 'ex_eircode'] = eircode\n",
    "        df.at[row.Index, 'address_mod'] = pr.parse_address_of_eircode(row.address_mod)"
   ]
  },
  {
   "cell_type": "code",
   "execution_count": 10,
   "metadata": {
    "ExecuteTime": {
     "end_time": "2021-04-26T09:43:35.621515Z",
     "start_time": "2021-04-26T09:43:30.527053Z"
    }
   },
   "outputs": [],
   "source": [
    "cur = conn.cursor()\n",
    "cur.execute(f\"DROP TABLE IF EXISTS temp;\")\n",
    "df.to_sql('temp', conn)\n",
    "cur.close()\n",
    "conn.close()"
   ]
  },
  {
   "cell_type": "markdown",
   "metadata": {},
   "source": [
    "### Normalise County"
   ]
  },
  {
   "cell_type": "code",
   "execution_count": 13,
   "metadata": {
    "ExecuteTime": {
     "end_time": "2021-04-26T10:49:15.539377Z",
     "start_time": "2021-04-26T10:49:00.312227Z"
    }
   },
   "outputs": [],
   "source": [
    "conn = sqlite3.connect('data/database.db')\n",
    "df = pd.read_sql_query('SELECT * FROM temp;', conn)\n",
    "df.set_index('uuid', inplace=True)\n",
    "\n",
    "df.address_mod = df.address_mod.apply(nm.normalise_county_name)\n",
    "\n",
    "cur = conn.cursor()\n",
    "cur.execute(f\"DROP TABLE IF EXISTS temp;\")\n",
    "df.to_sql('temp', conn)\n",
    "cur.close()\n",
    "conn.close()"
   ]
  },
  {
   "cell_type": "code",
   "execution_count": null,
   "metadata": {},
   "outputs": [],
   "source": []
  }
 ],
 "metadata": {
  "kernelspec": {
   "display_name": "Python 3",
   "language": "python",
   "name": "python3"
  },
  "language_info": {
   "codemirror_mode": {
    "name": "ipython",
    "version": 3
   },
   "file_extension": ".py",
   "mimetype": "text/x-python",
   "name": "python",
   "nbconvert_exporter": "python",
   "pygments_lexer": "ipython3",
   "version": "3.9.0"
  }
 },
 "nbformat": 4,
 "nbformat_minor": 4
}
