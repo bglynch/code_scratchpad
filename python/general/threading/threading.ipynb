{
 "cells": [
  {
   "cell_type": "markdown",
   "metadata": {},
   "source": [
    "**CPU** => hardware that executes code   \n",
    "**OS**  => handles the scheduling of when the CPU can be used  \n",
    "**Process**  => program as its being executed  \n",
    "**Thread**   => part of a process  \n",
    "  \n",
    "Simple programs only need one thread  \n",
    "More complicated ones may require many threads (Multi-thread)"
   ]
  },
  {
   "cell_type": "markdown",
   "metadata": {},
   "source": [
    "## Single Thread"
   ]
  },
  {
   "cell_type": "code",
   "execution_count": 3,
   "metadata": {
    "ExecuteTime": {
     "end_time": "2020-10-23T09:12:50.492929Z",
     "start_time": "2020-10-23T09:12:50.490173Z"
    }
   },
   "outputs": [],
   "source": [
    "import time\n",
    "\n",
    "def myfunc():\n",
    "    print(\"hello\")\n",
    "    time.sleep(10)\n",
    "    return True"
   ]
  },
  {
   "cell_type": "code",
   "execution_count": 4,
   "metadata": {
    "ExecuteTime": {
     "end_time": "2020-10-23T09:13:00.990626Z",
     "start_time": "2020-10-23T09:12:50.986914Z"
    }
   },
   "outputs": [
    {
     "name": "stdout",
     "output_type": "stream",
     "text": [
      "hello\n"
     ]
    },
    {
     "data": {
      "text/plain": [
       "True"
      ]
     },
     "execution_count": 4,
     "metadata": {},
     "output_type": "execute_result"
    }
   ],
   "source": [
    "myfunc()"
   ]
  },
  {
   "cell_type": "markdown",
   "metadata": {},
   "source": [
    "## Two Threads"
   ]
  },
  {
   "cell_type": "code",
   "execution_count": 5,
   "metadata": {
    "ExecuteTime": {
     "end_time": "2020-10-23T09:18:15.278855Z",
     "start_time": "2020-10-23T09:18:15.275572Z"
    }
   },
   "outputs": [],
   "source": [
    "import time\n",
    "\n",
    "def myfunc(name):\n",
    "    print(f\"my func started with {name}\")\n",
    "    time.sleep(10)\n",
    "    print(\"myfunc ended\")"
   ]
  },
  {
   "cell_type": "code",
   "execution_count": 6,
   "metadata": {
    "ExecuteTime": {
     "end_time": "2020-10-23T09:19:20.846079Z",
     "start_time": "2020-10-23T09:19:10.839943Z"
    }
   },
   "outputs": [
    {
     "name": "stdout",
     "output_type": "stream",
     "text": [
      "main started\n",
      "my func started with brian\n",
      "myfunc ended\n",
      "main ended\n"
     ]
    }
   ],
   "source": [
    "print('main started')\n",
    "myfunc('brian')\n",
    "print('main ended')"
   ]
  },
  {
   "cell_type": "code",
   "execution_count": 9,
   "metadata": {
    "ExecuteTime": {
     "end_time": "2020-10-23T09:21:35.316897Z",
     "start_time": "2020-10-23T09:21:35.312634Z"
    }
   },
   "outputs": [
    {
     "name": "stdout",
     "output_type": "stream",
     "text": [
      "main started\n",
      "my func started with brian\n",
      "main ended\n",
      "myfunc ended\n"
     ]
    }
   ],
   "source": [
    "import threading\n",
    "\n",
    "print('main started')\n",
    "t = threading.Thread(target=myfunc, args=['brian'])\n",
    "t.start()\n",
    "print('main ended')"
   ]
  },
  {
   "cell_type": "markdown",
   "metadata": {},
   "source": [
    "## Daemon Thread\n",
    "- process thats running, but in the background\n",
    "- regular thread vs. daemon thread:\n",
    "    - **main thread** will **not wait** for **daemon threads to complete** before exiting"
   ]
  },
  {
   "cell_type": "code",
   "execution_count": 11,
   "metadata": {
    "ExecuteTime": {
     "end_time": "2020-10-23T09:27:09.573925Z",
     "start_time": "2020-10-23T09:27:09.569004Z"
    }
   },
   "outputs": [
    {
     "name": "stdout",
     "output_type": "stream",
     "text": [
      "main started\n",
      "my func started with brian\n",
      "main ended\n",
      "myfunc ended\n"
     ]
    }
   ],
   "source": [
    "# this doesn't print properly, as the main thread is still running the notebook\n",
    "print('main started')\n",
    "t = threading.Thread(target=myfunc, args=['brian'], daemon=True)\n",
    "t.start()\n",
    "print('main ended')"
   ]
  },
  {
   "cell_type": "markdown",
   "metadata": {},
   "source": [
    "## Joining Threads\n",
    "-  bring all your threads together before the main thread exits"
   ]
  },
  {
   "cell_type": "code",
   "execution_count": 12,
   "metadata": {
    "ExecuteTime": {
     "end_time": "2020-10-23T09:28:58.648917Z",
     "start_time": "2020-10-23T09:28:48.638156Z"
    }
   },
   "outputs": [
    {
     "name": "stdout",
     "output_type": "stream",
     "text": [
      "main started\n",
      "my func started with brian\n",
      "myfunc ended\n",
      "main ended\n"
     ]
    }
   ],
   "source": [
    "print('main started')\n",
    "t = threading.Thread(target=myfunc, args=['brian'])\n",
    "t.start()\n",
    "t.join()\n",
    "print('main ended')"
   ]
  },
  {
   "cell_type": "markdown",
   "metadata": {},
   "source": [
    "## Multiple Threads"
   ]
  },
  {
   "cell_type": "code",
   "execution_count": 17,
   "metadata": {
    "ExecuteTime": {
     "end_time": "2020-10-23T10:59:51.989069Z",
     "start_time": "2020-10-23T10:59:41.976467Z"
    }
   },
   "outputs": [
    {
     "name": "stdout",
     "output_type": "stream",
     "text": [
      "main started\n",
      "my func1 started with brian\n",
      "my func2 started with ciran\n",
      "my func3 started with david\n",
      "myfunc3 endedmyfunc1 ended\n",
      "\n",
      "myfunc2 ended\n",
      "main ended\n"
     ]
    }
   ],
   "source": [
    "def myfunc1(name):\n",
    "    print(f\"my func1 started with {name}\")\n",
    "    time.sleep(10)\n",
    "    print(\"myfunc1 ended\")\n",
    "\n",
    "def myfunc2(name):\n",
    "    print(f\"my func2 started with {name}\")\n",
    "    time.sleep(10)\n",
    "    print(\"myfunc2 ended\")\n",
    "\n",
    "def myfunc3(name):\n",
    "    print(f\"my func3 started with {name}\")\n",
    "    time.sleep(10)\n",
    "    print(\"myfunc3 ended\")\n",
    "\n",
    "print('main started')\n",
    "t1 = threading.Thread(target=myfunc1, args=['brian'])\n",
    "t1.start()\n",
    "t2 = threading.Thread(target=myfunc2, args=['ciran'])\n",
    "t2.start()\n",
    "t3 = threading.Thread(target=myfunc3, args=['david'])\n",
    "t3.start()\n",
    "t1.join()\n",
    "t2.join()\n",
    "t3.join()\n",
    "print('main ended')"
   ]
  },
  {
   "cell_type": "markdown",
   "metadata": {},
   "source": [
    "## Thread Pool"
   ]
  },
  {
   "cell_type": "code",
   "execution_count": 19,
   "metadata": {
    "ExecuteTime": {
     "end_time": "2020-10-23T11:05:09.501431Z",
     "start_time": "2020-10-23T11:04:59.490670Z"
    }
   },
   "outputs": [
    {
     "name": "stdout",
     "output_type": "stream",
     "text": [
      "main started\n",
      "my func started with brian\n",
      "my func started with ciran\n",
      "my func started with david\n",
      "main ended\n",
      "myfunc ended with brian\n",
      "myfunc ended with ciran\n",
      "myfunc ended with david\n"
     ]
    }
   ],
   "source": [
    "import time\n",
    "import concurrent.futures\n",
    "\n",
    "def myfunc(name):\n",
    "    print(f\"my func started with {name}\")\n",
    "    time.sleep(10)\n",
    "    print(f\"myfunc ended with {name}\")\n",
    "\n",
    "with concurrent.futures.ThreadPoolExecutor(max_workers=3) as e:\n",
    "    print('main started')\n",
    "    e.map(myfunc, ['brian', 'ciran', 'david'])\n",
    "    print('main ended')\n",
    "\n",
    "# doesnt print out correctly as main doees not finish"
   ]
  },
  {
   "cell_type": "markdown",
   "metadata": {},
   "source": [
    "## Race Conditions\n",
    "- happens when more than one thread is trying to access a shared piece of data at the same time"
   ]
  },
  {
   "cell_type": "markdown",
   "metadata": {},
   "source": [
    "### Bank Account Program"
   ]
  },
  {
   "cell_type": "code",
   "execution_count": 26,
   "metadata": {
    "ExecuteTime": {
     "end_time": "2020-10-23T11:13:03.162075Z",
     "start_time": "2020-10-23T11:13:03.158291Z"
    }
   },
   "outputs": [],
   "source": [
    "import concurrent.futures\n",
    "import time\n",
    "\n",
    "class Account:\n",
    "    def __init__(self):\n",
    "        self.balance = 100 # shared data\n",
    "    def update(self, transaction, amount):\n",
    "        print(f\"{transaction} thread updating...\")\n",
    "        local_copy = self.balance\n",
    "        local_copy += amount\n",
    "        time.sleep(1)\n",
    "        self.balance = local_copy \n",
    "        print(f\"{transaction} thread finishing...\")"
   ]
  },
  {
   "cell_type": "code",
   "execution_count": 40,
   "metadata": {
    "ExecuteTime": {
     "end_time": "2020-10-23T11:21:24.286254Z",
     "start_time": "2020-10-23T11:21:22.276653Z"
    }
   },
   "outputs": [
    {
     "name": "stdout",
     "output_type": "stream",
     "text": [
      "starting with balance of 100\n",
      "deposit thread updating...\n",
      "withdraw thread updating...\n",
      "deposit thread finishing...\n",
      "withdraw thread finishing...\n",
      "ending balance with 100\n"
     ]
    }
   ],
   "source": [
    "account = Account()\n",
    "print(f\"starting with balance of {account.balance}\")\n",
    "with concurrent.futures.ThreadPoolExecutor(max_workers=2) as ex:\n",
    "    for transaction, amount in [('deposit', 150), ('withdraw', -150)]:\n",
    "        ex.submit(account.update, transaction, amount)\n",
    "print(f'ending balance with {account.balance}')\n",
    "\n",
    "# should have finished with 100\n",
    "# finishes with -50 as the balance value was access before it was updated"
   ]
  },
  {
   "cell_type": "markdown",
   "metadata": {},
   "source": [
    "## Lock Objects\n",
    "- used to prevent more than one thread from accessing a part of your program at the same time."
   ]
  },
  {
   "cell_type": "code",
   "execution_count": 31,
   "metadata": {
    "ExecuteTime": {
     "end_time": "2020-10-23T11:17:05.123259Z",
     "start_time": "2020-10-23T11:17:05.119393Z"
    }
   },
   "outputs": [
    {
     "name": "stdout",
     "output_type": "stream",
     "text": [
      "<unlocked _thread.lock object at 0x111042990>\n",
      "<locked _thread.lock object at 0x111042990>\n",
      "<unlocked _thread.lock object at 0x111042990>\n"
     ]
    }
   ],
   "source": [
    "import threading\n",
    "\n",
    "# create lock\n",
    "lock = threading.Lock()\n",
    "print(lock)\n",
    "\n",
    "# lock the lock\n",
    "lock.acquire()\n",
    "print(lock)\n",
    "\n",
    "# open/release the lock\n",
    "lock.release()\n",
    "print(lock)"
   ]
  },
  {
   "cell_type": "code",
   "execution_count": 38,
   "metadata": {
    "ExecuteTime": {
     "end_time": "2020-10-23T11:20:22.902627Z",
     "start_time": "2020-10-23T11:20:22.898051Z"
    }
   },
   "outputs": [],
   "source": [
    "# add lock to the update to prevent two threads from modifying the balance at the same time\n",
    "import concurrent.futures\n",
    "import time\n",
    "\n",
    "class Account:\n",
    "    def __init__(self):\n",
    "        self.balance = 100 # shared data\n",
    "        self.lock = threading.Lock()\n",
    "    def update(self, transaction, amount):\n",
    "        print(f\"{transaction} thread updating...\")\n",
    "        with self.lock:\n",
    "            local_copy = self.balance\n",
    "            local_copy += amount\n",
    "            time.sleep(1)\n",
    "            self.balance = local_copy \n",
    "        print(f\"{transaction} thread finishing...\")"
   ]
  },
  {
   "cell_type": "code",
   "execution_count": 39,
   "metadata": {
    "ExecuteTime": {
     "end_time": "2020-10-23T11:20:26.315350Z",
     "start_time": "2020-10-23T11:20:24.303450Z"
    }
   },
   "outputs": [
    {
     "name": "stdout",
     "output_type": "stream",
     "text": [
      "starting with balance of 100\n",
      "deposit thread updating...\n",
      "withdraw thread updating...\n",
      "deposit thread finishing...\n",
      "withdraw thread finishing...\n",
      "ending balance with 100\n"
     ]
    }
   ],
   "source": [
    "account = Account()\n",
    "print(f\"starting with balance of {account.balance}\")\n",
    "with concurrent.futures.ThreadPoolExecutor(max_workers=2) as ex:\n",
    "    for transaction, amount in [('deposit', 150), ('withdraw', -150)]:\n",
    "        ex.submit(account.update, transaction, amount)\n",
    "print(f'ending balance with {account.balance}')"
   ]
  },
  {
   "cell_type": "markdown",
   "metadata": {},
   "source": [
    "### Deadlocks\n",
    "- when a thread trys to lock a lock which it has already locked"
   ]
  },
  {
   "cell_type": "code",
   "execution_count": 42,
   "metadata": {
    "ExecuteTime": {
     "end_time": "2020-10-23T11:24:16.143725Z",
     "start_time": "2020-10-23T11:23:40.980954Z"
    }
   },
   "outputs": [
    {
     "ename": "KeyboardInterrupt",
     "evalue": "",
     "output_type": "error",
     "traceback": [
      "\u001b[0;31m---------------------------------------------------------------------------\u001b[0m",
      "\u001b[0;31mKeyboardInterrupt\u001b[0m                         Traceback (most recent call last)",
      "\u001b[0;32m<ipython-input-42-52bd7c554425>\u001b[0m in \u001b[0;36m<module>\u001b[0;34m\u001b[0m\n\u001b[1;32m      3\u001b[0m \u001b[0mlock\u001b[0m \u001b[0;34m=\u001b[0m \u001b[0mthreading\u001b[0m\u001b[0;34m.\u001b[0m\u001b[0mLock\u001b[0m\u001b[0;34m(\u001b[0m\u001b[0;34m)\u001b[0m\u001b[0;34m\u001b[0m\u001b[0;34m\u001b[0m\u001b[0m\n\u001b[1;32m      4\u001b[0m \u001b[0mlock\u001b[0m\u001b[0;34m.\u001b[0m\u001b[0macquire\u001b[0m\u001b[0;34m(\u001b[0m\u001b[0;34m)\u001b[0m\u001b[0;34m\u001b[0m\u001b[0;34m\u001b[0m\u001b[0m\n\u001b[0;32m----> 5\u001b[0;31m \u001b[0mlock\u001b[0m\u001b[0;34m.\u001b[0m\u001b[0macquire\u001b[0m\u001b[0;34m(\u001b[0m\u001b[0;34m)\u001b[0m\u001b[0;34m\u001b[0m\u001b[0;34m\u001b[0m\u001b[0m\n\u001b[0m",
      "\u001b[0;31mKeyboardInterrupt\u001b[0m: "
     ]
    }
   ],
   "source": [
    "import threading\n",
    "\n",
    "lock = threading.Lock()\n",
    "lock.acquire()\n",
    "# causes deadlock by calling acquire before calling release\n",
    "lock.acquire()"
   ]
  },
  {
   "cell_type": "code",
   "execution_count": 45,
   "metadata": {
    "ExecuteTime": {
     "end_time": "2020-10-23T11:26:15.910015Z",
     "start_time": "2020-10-23T11:26:15.905810Z"
    }
   },
   "outputs": [
    {
     "name": "stdout",
     "output_type": "stream",
     "text": [
      "<locked _thread.RLock object owner=4706420160 count=2 at 0x1113e3750>\n",
      "<locked _thread.RLock object owner=4706420160 count=1 at 0x1113e3750>\n",
      "<_MainThread(MainThread, started 4706420160)>\n"
     ]
    }
   ],
   "source": [
    "# can use RLock with prevents deadlock\n",
    "lock = threading.RLock()\n",
    "lock.acquire()\n",
    "lock.acquire()\n",
    "print(lock)\n",
    "lock.release()\n",
    "print(lock)\n",
    "print(threading.current_thread())"
   ]
  },
  {
   "cell_type": "markdown",
   "metadata": {},
   "source": [
    "## Producer-Consumer Pipeline"
   ]
  },
  {
   "cell_type": "code",
   "execution_count": 20,
   "metadata": {
    "ExecuteTime": {
     "end_time": "2020-10-23T11:57:34.803299Z",
     "start_time": "2020-10-23T11:57:34.794360Z"
    }
   },
   "outputs": [],
   "source": [
    "import random\n",
    "import threading\n",
    "\n",
    "FINISH = 'THE END'\n",
    "class Pipeline:\n",
    "    def __init__(self, capacity):\n",
    "        self.capacity = capacity\n",
    "        self.message = None\n",
    "        self.producer_lock = threading.Lock()\n",
    "        self.consumer_lock = threading.Lock()\n",
    "        print()\n",
    "        self.consumer_lock.acquire()\n",
    "    def set_message(self, message):\n",
    "        print(f'producing message of {message}')\n",
    "        producer_pipeline.append(message)\n",
    "        self.producer_lock.acquire()\n",
    "        self.message = message\n",
    "        self.consumer_lock.release()\n",
    "    def get_message(self):\n",
    "        print(f'consuming message of {self.message}')\n",
    "        self.consumer_lock.acquire()\n",
    "        message = self.message\n",
    "        self.producer_lock.release()\n",
    "        consumer_pipeline.append(message)\n",
    "        return message\n",
    "\n",
    "def producer(pipeline):\n",
    "    for _ in range(pipeline.capacity):\n",
    "        message = random.randint(1, 100)\n",
    "        pipeline.set_message(message)\n",
    "    pipeline.set_message(FINISH)\n",
    "\n",
    "def consumer(pipeline):\n",
    "    message = None\n",
    "    while message is not FINISH:\n",
    "        message = pipeline.get_message()\n",
    "        if message is not FINISH:\n",
    "            time.sleep(random.random())"
   ]
  },
  {
   "cell_type": "code",
   "execution_count": 24,
   "metadata": {
    "ExecuteTime": {
     "end_time": "2020-10-23T13:12:41.238542Z",
     "start_time": "2020-10-23T13:12:03.866690Z"
    }
   },
   "outputs": [
    {
     "name": "stdout",
     "output_type": "stream",
     "text": [
      "producing message of 33\n",
      "producing message of 15\n",
      "consuming message of 33\n",
      "producing message of 65\n"
     ]
    },
    {
     "ename": "KeyboardInterrupt",
     "evalue": "",
     "output_type": "error",
     "traceback": [
      "\u001b[0;31m---------------------------------------------------------------------------\u001b[0m",
      "\u001b[0;31mKeyboardInterrupt\u001b[0m                         Traceback (most recent call last)",
      "\u001b[0;32m<ipython-input-24-024440221051>\u001b[0m in \u001b[0;36m<module>\u001b[0;34m\u001b[0m\n\u001b[1;32m      6\u001b[0m \u001b[0;32mwith\u001b[0m \u001b[0mconcurrent\u001b[0m\u001b[0;34m.\u001b[0m\u001b[0mfutures\u001b[0m\u001b[0;34m.\u001b[0m\u001b[0mThreadPoolExecutor\u001b[0m\u001b[0;34m(\u001b[0m\u001b[0mmax_workers\u001b[0m\u001b[0;34m=\u001b[0m\u001b[0;36m2\u001b[0m\u001b[0;34m)\u001b[0m \u001b[0;32mas\u001b[0m \u001b[0mex\u001b[0m\u001b[0;34m:\u001b[0m\u001b[0;34m\u001b[0m\u001b[0;34m\u001b[0m\u001b[0m\n\u001b[1;32m      7\u001b[0m     \u001b[0mex\u001b[0m\u001b[0;34m.\u001b[0m\u001b[0msubmit\u001b[0m\u001b[0;34m(\u001b[0m\u001b[0mproducer\u001b[0m\u001b[0;34m,\u001b[0m \u001b[0mpipeline\u001b[0m\u001b[0;34m)\u001b[0m\u001b[0;34m\u001b[0m\u001b[0;34m\u001b[0m\u001b[0m\n\u001b[0;32m----> 8\u001b[0;31m     \u001b[0mex\u001b[0m\u001b[0;34m.\u001b[0m\u001b[0msubmit\u001b[0m\u001b[0;34m(\u001b[0m\u001b[0mconsumer\u001b[0m\u001b[0;34m,\u001b[0m \u001b[0mpipeline\u001b[0m\u001b[0;34m)\u001b[0m\u001b[0;34m\u001b[0m\u001b[0;34m\u001b[0m\u001b[0m\n\u001b[0m\u001b[1;32m      9\u001b[0m \u001b[0mprint\u001b[0m\u001b[0;34m(\u001b[0m\u001b[0;34mf'producer: {producer_pipeline}'\u001b[0m\u001b[0;34m)\u001b[0m\u001b[0;34m\u001b[0m\u001b[0;34m\u001b[0m\u001b[0m\n\u001b[1;32m     10\u001b[0m \u001b[0mprint\u001b[0m\u001b[0;34m(\u001b[0m\u001b[0;34mf'consumer: {consumer_pipeline}'\u001b[0m\u001b[0;34m)\u001b[0m\u001b[0;34m\u001b[0m\u001b[0;34m\u001b[0m\u001b[0m\n",
      "\u001b[0;32m/usr/local/Cellar/python@3.8/3.8.5/Frameworks/Python.framework/Versions/3.8/lib/python3.8/concurrent/futures/_base.py\u001b[0m in \u001b[0;36m__exit__\u001b[0;34m(self, exc_type, exc_val, exc_tb)\u001b[0m\n\u001b[1;32m    634\u001b[0m \u001b[0;34m\u001b[0m\u001b[0m\n\u001b[1;32m    635\u001b[0m     \u001b[0;32mdef\u001b[0m \u001b[0m__exit__\u001b[0m\u001b[0;34m(\u001b[0m\u001b[0mself\u001b[0m\u001b[0;34m,\u001b[0m \u001b[0mexc_type\u001b[0m\u001b[0;34m,\u001b[0m \u001b[0mexc_val\u001b[0m\u001b[0;34m,\u001b[0m \u001b[0mexc_tb\u001b[0m\u001b[0;34m)\u001b[0m\u001b[0;34m:\u001b[0m\u001b[0;34m\u001b[0m\u001b[0;34m\u001b[0m\u001b[0m\n\u001b[0;32m--> 636\u001b[0;31m         \u001b[0mself\u001b[0m\u001b[0;34m.\u001b[0m\u001b[0mshutdown\u001b[0m\u001b[0;34m(\u001b[0m\u001b[0mwait\u001b[0m\u001b[0;34m=\u001b[0m\u001b[0;32mTrue\u001b[0m\u001b[0;34m)\u001b[0m\u001b[0;34m\u001b[0m\u001b[0;34m\u001b[0m\u001b[0m\n\u001b[0m\u001b[1;32m    637\u001b[0m         \u001b[0;32mreturn\u001b[0m \u001b[0;32mFalse\u001b[0m\u001b[0;34m\u001b[0m\u001b[0;34m\u001b[0m\u001b[0m\n\u001b[1;32m    638\u001b[0m \u001b[0;34m\u001b[0m\u001b[0m\n",
      "\u001b[0;32m/usr/local/Cellar/python@3.8/3.8.5/Frameworks/Python.framework/Versions/3.8/lib/python3.8/concurrent/futures/thread.py\u001b[0m in \u001b[0;36mshutdown\u001b[0;34m(self, wait)\u001b[0m\n\u001b[1;32m    234\u001b[0m         \u001b[0;32mif\u001b[0m \u001b[0mwait\u001b[0m\u001b[0;34m:\u001b[0m\u001b[0;34m\u001b[0m\u001b[0;34m\u001b[0m\u001b[0m\n\u001b[1;32m    235\u001b[0m             \u001b[0;32mfor\u001b[0m \u001b[0mt\u001b[0m \u001b[0;32min\u001b[0m \u001b[0mself\u001b[0m\u001b[0;34m.\u001b[0m\u001b[0m_threads\u001b[0m\u001b[0;34m:\u001b[0m\u001b[0;34m\u001b[0m\u001b[0;34m\u001b[0m\u001b[0m\n\u001b[0;32m--> 236\u001b[0;31m                 \u001b[0mt\u001b[0m\u001b[0;34m.\u001b[0m\u001b[0mjoin\u001b[0m\u001b[0;34m(\u001b[0m\u001b[0;34m)\u001b[0m\u001b[0;34m\u001b[0m\u001b[0;34m\u001b[0m\u001b[0m\n\u001b[0m\u001b[1;32m    237\u001b[0m     \u001b[0mshutdown\u001b[0m\u001b[0;34m.\u001b[0m\u001b[0m__doc__\u001b[0m \u001b[0;34m=\u001b[0m \u001b[0m_base\u001b[0m\u001b[0;34m.\u001b[0m\u001b[0mExecutor\u001b[0m\u001b[0;34m.\u001b[0m\u001b[0mshutdown\u001b[0m\u001b[0;34m.\u001b[0m\u001b[0m__doc__\u001b[0m\u001b[0;34m\u001b[0m\u001b[0;34m\u001b[0m\u001b[0m\n",
      "\u001b[0;32m/usr/local/Cellar/python@3.8/3.8.5/Frameworks/Python.framework/Versions/3.8/lib/python3.8/threading.py\u001b[0m in \u001b[0;36mjoin\u001b[0;34m(self, timeout)\u001b[0m\n\u001b[1;32m   1009\u001b[0m \u001b[0;34m\u001b[0m\u001b[0m\n\u001b[1;32m   1010\u001b[0m         \u001b[0;32mif\u001b[0m \u001b[0mtimeout\u001b[0m \u001b[0;32mis\u001b[0m \u001b[0;32mNone\u001b[0m\u001b[0;34m:\u001b[0m\u001b[0;34m\u001b[0m\u001b[0;34m\u001b[0m\u001b[0m\n\u001b[0;32m-> 1011\u001b[0;31m             \u001b[0mself\u001b[0m\u001b[0;34m.\u001b[0m\u001b[0m_wait_for_tstate_lock\u001b[0m\u001b[0;34m(\u001b[0m\u001b[0;34m)\u001b[0m\u001b[0;34m\u001b[0m\u001b[0;34m\u001b[0m\u001b[0m\n\u001b[0m\u001b[1;32m   1012\u001b[0m         \u001b[0;32melse\u001b[0m\u001b[0;34m:\u001b[0m\u001b[0;34m\u001b[0m\u001b[0;34m\u001b[0m\u001b[0m\n\u001b[1;32m   1013\u001b[0m             \u001b[0;31m# the behavior of a negative timeout isn't documented, but\u001b[0m\u001b[0;34m\u001b[0m\u001b[0;34m\u001b[0m\u001b[0;34m\u001b[0m\u001b[0m\n",
      "\u001b[0;32m/usr/local/Cellar/python@3.8/3.8.5/Frameworks/Python.framework/Versions/3.8/lib/python3.8/threading.py\u001b[0m in \u001b[0;36m_wait_for_tstate_lock\u001b[0;34m(self, block, timeout)\u001b[0m\n\u001b[1;32m   1025\u001b[0m         \u001b[0;32mif\u001b[0m \u001b[0mlock\u001b[0m \u001b[0;32mis\u001b[0m \u001b[0;32mNone\u001b[0m\u001b[0;34m:\u001b[0m  \u001b[0;31m# already determined that the C code is done\u001b[0m\u001b[0;34m\u001b[0m\u001b[0;34m\u001b[0m\u001b[0m\n\u001b[1;32m   1026\u001b[0m             \u001b[0;32massert\u001b[0m \u001b[0mself\u001b[0m\u001b[0;34m.\u001b[0m\u001b[0m_is_stopped\u001b[0m\u001b[0;34m\u001b[0m\u001b[0;34m\u001b[0m\u001b[0m\n\u001b[0;32m-> 1027\u001b[0;31m         \u001b[0;32melif\u001b[0m \u001b[0mlock\u001b[0m\u001b[0;34m.\u001b[0m\u001b[0macquire\u001b[0m\u001b[0;34m(\u001b[0m\u001b[0mblock\u001b[0m\u001b[0;34m,\u001b[0m \u001b[0mtimeout\u001b[0m\u001b[0;34m)\u001b[0m\u001b[0;34m:\u001b[0m\u001b[0;34m\u001b[0m\u001b[0;34m\u001b[0m\u001b[0m\n\u001b[0m\u001b[1;32m   1028\u001b[0m             \u001b[0mlock\u001b[0m\u001b[0;34m.\u001b[0m\u001b[0mrelease\u001b[0m\u001b[0;34m(\u001b[0m\u001b[0;34m)\u001b[0m\u001b[0;34m\u001b[0m\u001b[0;34m\u001b[0m\u001b[0m\n\u001b[1;32m   1029\u001b[0m             \u001b[0mself\u001b[0m\u001b[0;34m.\u001b[0m\u001b[0m_stop\u001b[0m\u001b[0;34m(\u001b[0m\u001b[0;34m)\u001b[0m\u001b[0;34m\u001b[0m\u001b[0;34m\u001b[0m\u001b[0m\n",
      "\u001b[0;31mKeyboardInterrupt\u001b[0m: "
     ]
    }
   ],
   "source": [
    "import concurrent.futures\n",
    "\n",
    "producer_pipeline = []\n",
    "consumer_pipeline = []\n",
    "\n",
    "pipeline = Pipeline(10)\n",
    "with concurrent.futures.ThreadPoolExecutor(max_workers=2) as ex:\n",
    "    ex.submit(producer, pipeline)\n",
    "    ex.submit(consumer, pipeline)\n",
    "print(f'producer: {producer_pipeline}')\n",
    "print(f'consumer: {consumer_pipeline}')"
   ]
  },
  {
   "cell_type": "markdown",
   "metadata": {},
   "source": [
    "## Queue Model\n",
    "previous pipeline class was limited\n",
    "- limited by capacity\n",
    "- was one-to-one ratio"
   ]
  },
  {
   "cell_type": "code",
   "execution_count": 29,
   "metadata": {
    "ExecuteTime": {
     "end_time": "2020-10-23T13:27:53.817373Z",
     "start_time": "2020-10-23T13:27:53.811187Z"
    }
   },
   "outputs": [],
   "source": [
    "import random\n",
    "import threading\n",
    "import queue\n",
    "import time\n",
    "\n",
    "class Pipeline(queue.Queue): #pipeline inherits from Queue class\n",
    "    def __init__(self):\n",
    "        super().__init__(maxsize=10) # inherit the init method\n",
    "    def set_message(self, message):\n",
    "        print(f'producing message of {message}')\n",
    "        producer_pipeline.append(message)\n",
    "        self.put(message)\n",
    "    def get_message(self):\n",
    "        message = self.get()\n",
    "        print(f'consuming message of {message}')\n",
    "        consumer_pipeline.append(message)\n",
    "        return message\n",
    "\n",
    "def producer(pipeline, event):\n",
    "    while not event.is_set(): \n",
    "        message = random.randint(1, 100)\n",
    "        pipeline.set_message(message)\n",
    "\n",
    "def consumer(pipeline, event):\n",
    "    while not pipeline.empty or not event.is_set():\n",
    "        print(f'queue size is {pipeline.qsize()}')\n",
    "        message = pipeline.get_message()\n",
    "        time.sleep(random.random())"
   ]
  },
  {
   "cell_type": "code",
   "execution_count": 30,
   "metadata": {
    "ExecuteTime": {
     "end_time": "2020-10-23T13:28:08.537754Z",
     "start_time": "2020-10-23T13:27:55.003976Z"
    }
   },
   "outputs": [
    {
     "name": "stdout",
     "output_type": "stream",
     "text": [
      "producing message of 58\n",
      "producing message of 49\n",
      "producing message of 82\n",
      "queue size is 2producing message of 53\n",
      "producing message of 88\n",
      "producing message of 81\n",
      "producing message of 20\n",
      "producing message of 98\n",
      "producing message of 33\n",
      "producing message of 37\n",
      "producing message of 9\n",
      "\n",
      "consuming message of 58\n",
      "producing message of 90\n",
      "queue size is 10\n",
      "consuming message of 49\n",
      "producing message of 13\n"
     ]
    },
    {
     "ename": "KeyboardInterrupt",
     "evalue": "",
     "output_type": "error",
     "traceback": [
      "\u001b[0;31m---------------------------------------------------------------------------\u001b[0m",
      "\u001b[0;31mKeyboardInterrupt\u001b[0m                         Traceback (most recent call last)",
      "\u001b[0;32m<ipython-input-30-bd6d879a14d9>\u001b[0m in \u001b[0;36m<module>\u001b[0;34m\u001b[0m\n\u001b[1;32m     10\u001b[0m     \u001b[0mex\u001b[0m\u001b[0;34m.\u001b[0m\u001b[0msubmit\u001b[0m\u001b[0;34m(\u001b[0m\u001b[0mconsumer\u001b[0m\u001b[0;34m,\u001b[0m \u001b[0mpipeline\u001b[0m\u001b[0;34m,\u001b[0m \u001b[0mevent\u001b[0m\u001b[0;34m)\u001b[0m\u001b[0;34m\u001b[0m\u001b[0;34m\u001b[0m\u001b[0m\n\u001b[1;32m     11\u001b[0m     \u001b[0mtime\u001b[0m\u001b[0;34m.\u001b[0m\u001b[0msleep\u001b[0m\u001b[0;34m(\u001b[0m\u001b[0;36m0.5\u001b[0m\u001b[0;34m)\u001b[0m\u001b[0;34m\u001b[0m\u001b[0;34m\u001b[0m\u001b[0m\n\u001b[0;32m---> 12\u001b[0;31m     \u001b[0mevent\u001b[0m\u001b[0;34m.\u001b[0m\u001b[0mset\u001b[0m\u001b[0;34m(\u001b[0m\u001b[0;34m)\u001b[0m\u001b[0;34m\u001b[0m\u001b[0;34m\u001b[0m\u001b[0m\n\u001b[0m\u001b[1;32m     13\u001b[0m \u001b[0mprint\u001b[0m\u001b[0;34m(\u001b[0m\u001b[0;34mf'producer: {producer_pipeline}'\u001b[0m\u001b[0;34m)\u001b[0m\u001b[0;34m\u001b[0m\u001b[0;34m\u001b[0m\u001b[0m\n\u001b[1;32m     14\u001b[0m \u001b[0mprint\u001b[0m\u001b[0;34m(\u001b[0m\u001b[0;34mf'consumer: {consumer_pipeline}'\u001b[0m\u001b[0;34m)\u001b[0m\u001b[0;34m\u001b[0m\u001b[0;34m\u001b[0m\u001b[0m\n",
      "\u001b[0;32m/usr/local/Cellar/python@3.8/3.8.5/Frameworks/Python.framework/Versions/3.8/lib/python3.8/concurrent/futures/_base.py\u001b[0m in \u001b[0;36m__exit__\u001b[0;34m(self, exc_type, exc_val, exc_tb)\u001b[0m\n\u001b[1;32m    634\u001b[0m \u001b[0;34m\u001b[0m\u001b[0m\n\u001b[1;32m    635\u001b[0m     \u001b[0;32mdef\u001b[0m \u001b[0m__exit__\u001b[0m\u001b[0;34m(\u001b[0m\u001b[0mself\u001b[0m\u001b[0;34m,\u001b[0m \u001b[0mexc_type\u001b[0m\u001b[0;34m,\u001b[0m \u001b[0mexc_val\u001b[0m\u001b[0;34m,\u001b[0m \u001b[0mexc_tb\u001b[0m\u001b[0;34m)\u001b[0m\u001b[0;34m:\u001b[0m\u001b[0;34m\u001b[0m\u001b[0;34m\u001b[0m\u001b[0m\n\u001b[0;32m--> 636\u001b[0;31m         \u001b[0mself\u001b[0m\u001b[0;34m.\u001b[0m\u001b[0mshutdown\u001b[0m\u001b[0;34m(\u001b[0m\u001b[0mwait\u001b[0m\u001b[0;34m=\u001b[0m\u001b[0;32mTrue\u001b[0m\u001b[0;34m)\u001b[0m\u001b[0;34m\u001b[0m\u001b[0;34m\u001b[0m\u001b[0m\n\u001b[0m\u001b[1;32m    637\u001b[0m         \u001b[0;32mreturn\u001b[0m \u001b[0;32mFalse\u001b[0m\u001b[0;34m\u001b[0m\u001b[0;34m\u001b[0m\u001b[0m\n\u001b[1;32m    638\u001b[0m \u001b[0;34m\u001b[0m\u001b[0m\n",
      "\u001b[0;32m/usr/local/Cellar/python@3.8/3.8.5/Frameworks/Python.framework/Versions/3.8/lib/python3.8/concurrent/futures/thread.py\u001b[0m in \u001b[0;36mshutdown\u001b[0;34m(self, wait)\u001b[0m\n\u001b[1;32m    234\u001b[0m         \u001b[0;32mif\u001b[0m \u001b[0mwait\u001b[0m\u001b[0;34m:\u001b[0m\u001b[0;34m\u001b[0m\u001b[0;34m\u001b[0m\u001b[0m\n\u001b[1;32m    235\u001b[0m             \u001b[0;32mfor\u001b[0m \u001b[0mt\u001b[0m \u001b[0;32min\u001b[0m \u001b[0mself\u001b[0m\u001b[0;34m.\u001b[0m\u001b[0m_threads\u001b[0m\u001b[0;34m:\u001b[0m\u001b[0;34m\u001b[0m\u001b[0;34m\u001b[0m\u001b[0m\n\u001b[0;32m--> 236\u001b[0;31m                 \u001b[0mt\u001b[0m\u001b[0;34m.\u001b[0m\u001b[0mjoin\u001b[0m\u001b[0;34m(\u001b[0m\u001b[0;34m)\u001b[0m\u001b[0;34m\u001b[0m\u001b[0;34m\u001b[0m\u001b[0m\n\u001b[0m\u001b[1;32m    237\u001b[0m     \u001b[0mshutdown\u001b[0m\u001b[0;34m.\u001b[0m\u001b[0m__doc__\u001b[0m \u001b[0;34m=\u001b[0m \u001b[0m_base\u001b[0m\u001b[0;34m.\u001b[0m\u001b[0mExecutor\u001b[0m\u001b[0;34m.\u001b[0m\u001b[0mshutdown\u001b[0m\u001b[0;34m.\u001b[0m\u001b[0m__doc__\u001b[0m\u001b[0;34m\u001b[0m\u001b[0;34m\u001b[0m\u001b[0m\n",
      "\u001b[0;32m/usr/local/Cellar/python@3.8/3.8.5/Frameworks/Python.framework/Versions/3.8/lib/python3.8/threading.py\u001b[0m in \u001b[0;36mjoin\u001b[0;34m(self, timeout)\u001b[0m\n\u001b[1;32m   1009\u001b[0m \u001b[0;34m\u001b[0m\u001b[0m\n\u001b[1;32m   1010\u001b[0m         \u001b[0;32mif\u001b[0m \u001b[0mtimeout\u001b[0m \u001b[0;32mis\u001b[0m \u001b[0;32mNone\u001b[0m\u001b[0;34m:\u001b[0m\u001b[0;34m\u001b[0m\u001b[0;34m\u001b[0m\u001b[0m\n\u001b[0;32m-> 1011\u001b[0;31m             \u001b[0mself\u001b[0m\u001b[0;34m.\u001b[0m\u001b[0m_wait_for_tstate_lock\u001b[0m\u001b[0;34m(\u001b[0m\u001b[0;34m)\u001b[0m\u001b[0;34m\u001b[0m\u001b[0;34m\u001b[0m\u001b[0m\n\u001b[0m\u001b[1;32m   1012\u001b[0m         \u001b[0;32melse\u001b[0m\u001b[0;34m:\u001b[0m\u001b[0;34m\u001b[0m\u001b[0;34m\u001b[0m\u001b[0m\n\u001b[1;32m   1013\u001b[0m             \u001b[0;31m# the behavior of a negative timeout isn't documented, but\u001b[0m\u001b[0;34m\u001b[0m\u001b[0;34m\u001b[0m\u001b[0;34m\u001b[0m\u001b[0m\n",
      "\u001b[0;32m/usr/local/Cellar/python@3.8/3.8.5/Frameworks/Python.framework/Versions/3.8/lib/python3.8/threading.py\u001b[0m in \u001b[0;36m_wait_for_tstate_lock\u001b[0;34m(self, block, timeout)\u001b[0m\n\u001b[1;32m   1025\u001b[0m         \u001b[0;32mif\u001b[0m \u001b[0mlock\u001b[0m \u001b[0;32mis\u001b[0m \u001b[0;32mNone\u001b[0m\u001b[0;34m:\u001b[0m  \u001b[0;31m# already determined that the C code is done\u001b[0m\u001b[0;34m\u001b[0m\u001b[0;34m\u001b[0m\u001b[0m\n\u001b[1;32m   1026\u001b[0m             \u001b[0;32massert\u001b[0m \u001b[0mself\u001b[0m\u001b[0;34m.\u001b[0m\u001b[0m_is_stopped\u001b[0m\u001b[0;34m\u001b[0m\u001b[0;34m\u001b[0m\u001b[0m\n\u001b[0;32m-> 1027\u001b[0;31m         \u001b[0;32melif\u001b[0m \u001b[0mlock\u001b[0m\u001b[0;34m.\u001b[0m\u001b[0macquire\u001b[0m\u001b[0;34m(\u001b[0m\u001b[0mblock\u001b[0m\u001b[0;34m,\u001b[0m \u001b[0mtimeout\u001b[0m\u001b[0;34m)\u001b[0m\u001b[0;34m:\u001b[0m\u001b[0;34m\u001b[0m\u001b[0;34m\u001b[0m\u001b[0m\n\u001b[0m\u001b[1;32m   1028\u001b[0m             \u001b[0mlock\u001b[0m\u001b[0;34m.\u001b[0m\u001b[0mrelease\u001b[0m\u001b[0;34m(\u001b[0m\u001b[0;34m)\u001b[0m\u001b[0;34m\u001b[0m\u001b[0;34m\u001b[0m\u001b[0m\n\u001b[1;32m   1029\u001b[0m             \u001b[0mself\u001b[0m\u001b[0;34m.\u001b[0m\u001b[0m_stop\u001b[0m\u001b[0;34m(\u001b[0m\u001b[0;34m)\u001b[0m\u001b[0;34m\u001b[0m\u001b[0;34m\u001b[0m\u001b[0m\n",
      "\u001b[0;31mKeyboardInterrupt\u001b[0m: "
     ]
    }
   ],
   "source": [
    "import concurrent.futures\n",
    "\n",
    "producer_pipeline = []\n",
    "consumer_pipeline = []\n",
    "\n",
    "pipeline = Pipeline()\n",
    "event = threading.Event() # is either true or false. Initialised as False\n",
    "with concurrent.futures.ThreadPoolExecutor(max_workers=2) as ex:\n",
    "    ex.submit(producer, pipeline, event)\n",
    "    ex.submit(consumer, pipeline, event)\n",
    "    time.sleep(0.5)\n",
    "    event.set()\n",
    "print(f'producer: {producer_pipeline}')\n",
    "print(f'consumer: {consumer_pipeline}')"
   ]
  },
  {
   "cell_type": "markdown",
   "metadata": {},
   "source": [
    "## Semaphore"
   ]
  },
  {
   "cell_type": "code",
   "execution_count": 31,
   "metadata": {
    "ExecuteTime": {
     "end_time": "2020-10-23T13:34:06.399486Z",
     "start_time": "2020-10-23T13:34:06.396144Z"
    }
   },
   "outputs": [
    {
     "name": "stdout",
     "output_type": "stream",
     "text": [
      "['__class__', '__delattr__', '__dict__', '__dir__', '__doc__', '__enter__', '__eq__', '__exit__', '__format__', '__ge__', '__getattribute__', '__gt__', '__hash__', '__init__', '__init_subclass__', '__le__', '__lt__', '__module__', '__ne__', '__new__', '__reduce__', '__reduce_ex__', '__repr__', '__setattr__', '__sizeof__', '__str__', '__subclasshook__', '__weakref__', '_cond', '_value', 'acquire', 'release']\n"
     ]
    }
   ],
   "source": [
    "import threading\n",
    "\n",
    "sem = threading.Semaphore()\n",
    "print(dir(sem))"
   ]
  },
  {
   "cell_type": "code",
   "execution_count": 32,
   "metadata": {
    "ExecuteTime": {
     "end_time": "2020-10-23T13:35:04.823887Z",
     "start_time": "2020-10-23T13:35:04.820422Z"
    }
   },
   "outputs": [
    {
     "name": "stdout",
     "output_type": "stream",
     "text": [
      "50\n"
     ]
    }
   ],
   "source": [
    "sem = threading.Semaphore(value=50)\n",
    "print(sem._value)"
   ]
  },
  {
   "cell_type": "code",
   "execution_count": 33,
   "metadata": {
    "ExecuteTime": {
     "end_time": "2020-10-23T13:35:20.866280Z",
     "start_time": "2020-10-23T13:35:20.862940Z"
    }
   },
   "outputs": [
    {
     "name": "stdout",
     "output_type": "stream",
     "text": [
      "47\n"
     ]
    }
   ],
   "source": [
    "sem.acquire()\n",
    "sem.acquire()\n",
    "sem.acquire()\n",
    "print(sem._value)"
   ]
  },
  {
   "cell_type": "code",
   "execution_count": 34,
   "metadata": {
    "ExecuteTime": {
     "end_time": "2020-10-23T13:35:37.851639Z",
     "start_time": "2020-10-23T13:35:37.848658Z"
    }
   },
   "outputs": [
    {
     "name": "stdout",
     "output_type": "stream",
     "text": [
      "48\n"
     ]
    }
   ],
   "source": [
    "sem.release()\n",
    "print(sem._value)"
   ]
  },
  {
   "cell_type": "code",
   "execution_count": null,
   "metadata": {},
   "outputs": [],
   "source": []
  }
 ],
 "metadata": {
  "kernelspec": {
   "display_name": "Python 3",
   "language": "python",
   "name": "python3"
  },
  "language_info": {
   "codemirror_mode": {
    "name": "ipython",
    "version": 3
   },
   "file_extension": ".py",
   "mimetype": "text/x-python",
   "name": "python",
   "nbconvert_exporter": "python",
   "pygments_lexer": "ipython3",
   "version": "3.8.5"
  }
 },
 "nbformat": 4,
 "nbformat_minor": 4
}
