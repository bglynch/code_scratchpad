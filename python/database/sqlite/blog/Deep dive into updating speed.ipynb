{
 "cells": [
  {
   "cell_type": "code",
   "execution_count": 1,
   "metadata": {
    "ExecuteTime": {
     "end_time": "2021-04-22T11:05:04.054792Z",
     "start_time": "2021-04-22T11:05:03.729989Z"
    }
   },
   "outputs": [],
   "source": [
    "import random\n",
    "import sqlite3\n",
    "from hashlib import blake2b\n",
    "from importlib import reload\n",
    "import pandas as pd\n",
    "import library as lb"
   ]
  },
  {
   "cell_type": "code",
   "execution_count": 2,
   "metadata": {
    "ExecuteTime": {
     "end_time": "2021-04-22T11:05:04.067644Z",
     "start_time": "2021-04-22T11:05:04.056765Z"
    }
   },
   "outputs": [
    {
     "data": {
      "text/plain": [
       "<module 'library' from '/Users/br20069521/Desktop/Date-Dump/21-03-07/code_scratchpad/python/database/sqlite/blog/library.py'>"
      ]
     },
     "execution_count": 2,
     "metadata": {},
     "output_type": "execute_result"
    }
   ],
   "source": [
    "reload(lb)"
   ]
  },
  {
   "cell_type": "markdown",
   "metadata": {},
   "source": [
    "### Create Sample Dataset\n",
    "- load csv into pandas\n",
    "- rename cols\n",
    "- create uuid\n",
    "- drop table\n",
    "- create tables of 1000, 10,000, 100,000 and 400,000 rows"
   ]
  },
  {
   "cell_type": "code",
   "execution_count": 90,
   "metadata": {
    "ExecuteTime": {
     "end_time": "2021-04-23T09:46:01.332463Z",
     "start_time": "2021-04-23T09:45:41.900975Z"
    },
    "scrolled": true
   },
   "outputs": [],
   "source": [
    "# load data\n",
    "df = pd.read_csv(\"data/PPR-ALL.csv\", encoding='latin-1')\n",
    "# create uuid\n",
    "df = df.rename(columns={\n",
    "    'Date of Sale (dd/mm/yyyy)': 'date',\n",
    "    'Address': 'address',\n",
    "    'Postal Code': 'postcode',\n",
    "    'County': 'county',\n",
    "    'Price (\\x80)': 'price',\n",
    "    'Not Full Market Price': 'not_full_market_price',\n",
    "    'VAT Exclusive': 'vat_exclusive',\n",
    "    'Property Size Description': 'floor_area',\n",
    "    'Description of Property': 'construction',\n",
    "})\n",
    "\n",
    "# create uuid for each\n",
    "for row in df.itertuples():\n",
    "    # hash_id_string = f\"{row.date}{row.address}{row.price}\"\n",
    "    hash_id_string = f\"{row.date}{row.address}{row.postcode}{row.county}{row.price}{row.not_full_market_price}{row.vat_exclusive}{row.floor_area}{row.construction}\"\n",
    "    df.at[row.Index, 'uuid'] = blake2b(bytes(hash_id_string, \"utf-8\"), digest_size=5).hexdigest()\n",
    "\n",
    "# remove duplicates\n",
    "df.drop_duplicates(inplace=True)\n",
    "\n",
    "\n",
    "conn = sqlite3.connect('data/database.db')\n",
    "cur = conn.cursor()\n",
    "cur.execute(f\"DROP TABLE IF EXISTS tb_basic_1000;\")\n",
    "cur.execute(f\"DROP TABLE IF EXISTS tb_basic_10000;\")\n",
    "cur.execute(f\"DROP TABLE IF EXISTS tb_basic_100000;\")\n",
    "cur.execute(f\"DROP TABLE IF EXISTS tb_basic_400000;\")\n",
    "\n",
    "cur.execute(f\"DROP TABLE IF EXISTS tb_index_1000;\")\n",
    "cur.execute(f\"DROP TABLE IF EXISTS tb_index_10000;\")\n",
    "cur.execute(f\"DROP TABLE IF EXISTS tb_index_100000;\")\n",
    "cur.execute(f\"DROP TABLE IF EXISTS tb_index_400000;\")\n",
    "\n",
    "cur.execute(f\"DROP TABLE IF EXISTS tb_unique_index_400000;\")\n",
    "\n",
    "df.head(1000).to_sql(name='tb_basic_1000', con=conn, index=False)\n",
    "df.head(10000).to_sql(name='tb_basic_10000', con=conn, index=False)\n",
    "df.head(100000).to_sql(name='tb_basic_100000', con=conn, index=False)\n",
    "df.head(400000).to_sql(name='tb_basic_400000', con=conn, index=False)\n",
    "\n",
    "df.head(400000).to_sql(name='tb_unique_index_400000', con=conn, index=False)\n",
    "cur.execute(f'''CREATE UNIQUE INDEX \"ix_tb_unique_index_400000_uuid\" ON \"tb_unique_index_400000\" (\"uuid\")''')\n",
    "\n",
    "df.set_index('uuid', inplace=True)\n",
    "df.head(1000).to_sql(name='tb_index_1000', con=conn)\n",
    "df.head(10000).to_sql(name='tb_index_10000', con=conn)\n",
    "df.head(100000).to_sql(name='tb_index_100000', con=conn)\n",
    "df.head(400000).to_sql(name='tb_index_400000', con=conn)\n",
    "\n",
    "cur.close()\n",
    "conn.close()"
   ]
  },
  {
   "cell_type": "code",
   "execution_count": 22,
   "metadata": {
    "ExecuteTime": {
     "end_time": "2021-04-22T10:32:52.468332Z",
     "start_time": "2021-04-22T10:32:52.462313Z"
    }
   },
   "outputs": [
    {
     "data": {
      "text/plain": [
       "468967"
      ]
     },
     "execution_count": 22,
     "metadata": {},
     "output_type": "execute_result"
    }
   ],
   "source": [
    "len(df)"
   ]
  },
  {
   "cell_type": "markdown",
   "metadata": {},
   "source": [
    "### Basic Update Using slqite"
   ]
  },
  {
   "cell_type": "markdown",
   "metadata": {},
   "source": [
    "Get the database rows"
   ]
  },
  {
   "cell_type": "code",
   "execution_count": 6,
   "metadata": {
    "ExecuteTime": {
     "end_time": "2021-04-22T11:09:26.586131Z",
     "start_time": "2021-04-22T11:09:26.036917Z"
    }
   },
   "outputs": [],
   "source": [
    "conn = sqlite3.connect('data/database.db')\n",
    "cur = conn.cursor()\n",
    "\n",
    "rows_1000   = cur.execute(\"SELECT address,uuid FROM tb_basic_1000;\").fetchall()\n",
    "rows_10000  = cur.execute(\"SELECT address,uuid FROM tb_basic_10000;\").fetchall()\n",
    "rows_100000 = cur.execute(\"SELECT address,uuid FROM tb_basic_100000;\").fetchall()\n",
    "rows_400000 = cur.execute(\"SELECT address,uuid FROM tb_basic_400000;\").fetchall()\n",
    "\n",
    "cur.close()\n",
    "conn.close()"
   ]
  },
  {
   "cell_type": "code",
   "execution_count": null,
   "metadata": {},
   "outputs": [],
   "source": [
    "sample_100000 = random.sample(rows_100000, 1000)"
   ]
  },
  {
   "cell_type": "markdown",
   "metadata": {},
   "source": [
    "- update 1000 rows in 1000 row db\n",
    "- update 1000 rows in 10,000 row db\n",
    "- update 1000 rows in 100,000 row db"
   ]
  },
  {
   "cell_type": "markdown",
   "metadata": {},
   "source": [
    "### Basic"
   ]
  },
  {
   "cell_type": "code",
   "execution_count": 7,
   "metadata": {
    "ExecuteTime": {
     "end_time": "2021-04-22T11:09:30.130471Z",
     "start_time": "2021-04-22T11:09:30.037977Z"
    }
   },
   "outputs": [],
   "source": [
    "update_address_sql = '''UPDATE tb_basic_1000 SET address=? WHERE uuid=?'''\n",
    "conn = sqlite3.connect('data/database.db')\n",
    "with conn:\n",
    "    cur = conn.cursor()\n",
    "    for row in rows_1000:\n",
    "        statement_payload = (row[0].lower(), row[1])\n",
    "        cur.execute(update_address_sql, statement_payload)\n",
    "    cur.close()\n",
    "conn.close()"
   ]
  },
  {
   "cell_type": "code",
   "execution_count": 8,
   "metadata": {
    "ExecuteTime": {
     "end_time": "2021-04-22T11:09:31.053894Z",
     "start_time": "2021-04-22T11:09:30.236373Z"
    }
   },
   "outputs": [],
   "source": [
    "update_address_sql = '''UPDATE tb_basic_10000 SET address=? WHERE uuid=?'''\n",
    "conn = sqlite3.connect('data/database.db')\n",
    "with conn:\n",
    "    cur = conn.cursor()\n",
    "    for row in rows_1000:\n",
    "        statement_payload = (row[0].lower(), row[1])\n",
    "        cur.execute(update_address_sql, statement_payload)\n",
    "    cur.close()\n",
    "conn.close()"
   ]
  },
  {
   "cell_type": "code",
   "execution_count": 9,
   "metadata": {
    "ExecuteTime": {
     "end_time": "2021-04-22T11:09:43.910847Z",
     "start_time": "2021-04-22T11:09:31.055475Z"
    }
   },
   "outputs": [],
   "source": [
    "update_address_sql = '''UPDATE tb_basic_100000 SET address=? WHERE uuid=?'''\n",
    "conn = sqlite3.connect('data/database.db')\n",
    "with conn:\n",
    "    cur = conn.cursor()\n",
    "    for row in rows_1000:\n",
    "        statement_payload = (row[0].lower(), row[1])\n",
    "        cur.execute(update_address_sql, statement_payload)\n",
    "    cur.close()\n",
    "conn.close()"
   ]
  },
  {
   "cell_type": "code",
   "execution_count": 10,
   "metadata": {
    "ExecuteTime": {
     "end_time": "2021-04-22T11:10:36.604430Z",
     "start_time": "2021-04-22T11:09:43.912856Z"
    }
   },
   "outputs": [],
   "source": [
    "update_address_sql = '''UPDATE tb_basic_400000 SET address=? WHERE uuid=?'''\n",
    "conn = sqlite3.connect('data/database.db')\n",
    "with conn:\n",
    "    cur = conn.cursor()\n",
    "    for row in rows_1000:\n",
    "        statement_payload = (row[0].lower(), row[1])\n",
    "        cur.execute(update_address_sql, statement_payload)\n",
    "    cur.close()\n",
    "conn.close()"
   ]
  },
  {
   "cell_type": "markdown",
   "metadata": {},
   "source": [
    "### Indexed"
   ]
  },
  {
   "cell_type": "code",
   "execution_count": 47,
   "metadata": {
    "ExecuteTime": {
     "end_time": "2021-04-23T09:15:46.298457Z",
     "start_time": "2021-04-23T09:15:46.289343Z"
    }
   },
   "outputs": [],
   "source": [
    "update_address_sql = '''UPDATE tb_index_1000 SET address=? WHERE uuid=?'''\n",
    "conn = sqlite3.connect('data/database.db')\n",
    "with conn:\n",
    "    cur = conn.cursor()\n",
    "    for row in rows_1000:\n",
    "        statement_payload = (row[0].lower(), row[1])\n",
    "        cur.execute(update_address_sql, statement_payload)\n",
    "    cur.close()\n",
    "conn.close()"
   ]
  },
  {
   "cell_type": "code",
   "execution_count": 48,
   "metadata": {
    "ExecuteTime": {
     "end_time": "2021-04-23T09:15:46.559042Z",
     "start_time": "2021-04-23T09:15:46.547604Z"
    }
   },
   "outputs": [],
   "source": [
    "update_address_sql = '''UPDATE tb_index_10000 SET address=? WHERE uuid=?'''\n",
    "conn = sqlite3.connect('data/database.db')\n",
    "with conn:\n",
    "    cur = conn.cursor()\n",
    "    for row in rows_1000:\n",
    "        statement_payload = (row[0].lower(), row[1])\n",
    "        cur.execute(update_address_sql, statement_payload)\n",
    "    cur.close()\n",
    "conn.close()"
   ]
  },
  {
   "cell_type": "code",
   "execution_count": 49,
   "metadata": {
    "ExecuteTime": {
     "end_time": "2021-04-23T09:15:46.923874Z",
     "start_time": "2021-04-23T09:15:46.859317Z"
    }
   },
   "outputs": [],
   "source": [
    "update_address_sql = '''UPDATE tb_index_100000 SET address=? WHERE uuid=?'''\n",
    "conn = sqlite3.connect('data/database.db')\n",
    "with conn:\n",
    "    cur = conn.cursor()\n",
    "    for row in rows_1000:\n",
    "        statement_payload = (row[0].lower(), row[1])\n",
    "        cur.execute(update_address_sql, statement_payload)\n",
    "    cur.close()\n",
    "conn.close()"
   ]
  },
  {
   "cell_type": "code",
   "execution_count": 50,
   "metadata": {
    "ExecuteTime": {
     "end_time": "2021-04-23T09:15:48.689107Z",
     "start_time": "2021-04-23T09:15:48.675083Z"
    }
   },
   "outputs": [],
   "source": [
    "update_address_sql = '''UPDATE tb_index_400000 SET address=? WHERE uuid=?'''\n",
    "conn = sqlite3.connect('data/database.db')\n",
    "with conn:\n",
    "    cur = conn.cursor()\n",
    "    for row in rows_1000:\n",
    "        statement_payload = (row[0].lower(), row[1])\n",
    "        cur.execute(update_address_sql, statement_payload)\n",
    "    cur.close()\n",
    "conn.close()"
   ]
  },
  {
   "cell_type": "code",
   "execution_count": 51,
   "metadata": {
    "ExecuteTime": {
     "end_time": "2021-04-23T09:15:51.408518Z",
     "start_time": "2021-04-23T09:15:49.387116Z"
    }
   },
   "outputs": [],
   "source": [
    "update_address_sql = '''UPDATE tb_index_400000 SET address=? WHERE uuid=?'''\n",
    "conn = sqlite3.connect('data/database.db')\n",
    "with conn:\n",
    "    cur = conn.cursor()\n",
    "    for row in rows_400000:\n",
    "        statement_payload = (row[0].lower(), row[1])\n",
    "        cur.execute(update_address_sql, statement_payload)\n",
    "    cur.close()\n",
    "conn.close()"
   ]
  },
  {
   "cell_type": "markdown",
   "metadata": {},
   "source": [
    "### Primary Key"
   ]
  },
  {
   "cell_type": "code",
   "execution_count": 59,
   "metadata": {
    "ExecuteTime": {
     "end_time": "2021-04-23T09:21:36.864513Z",
     "start_time": "2021-04-23T09:21:36.856280Z"
    }
   },
   "outputs": [],
   "source": [
    "update_address_sql = '''UPDATE tb_basic_1000 SET address=? WHERE uuid=?'''\n",
    "conn = sqlite3.connect('data/database.db')\n",
    "with conn:\n",
    "    cur = conn.cursor()\n",
    "    for row in rows_1000:\n",
    "        statement_payload = (row[0].lower(), row[1])\n",
    "        cur.execute(update_address_sql, statement_payload)\n",
    "    cur.close()\n",
    "conn.close()"
   ]
  },
  {
   "cell_type": "code",
   "execution_count": 62,
   "metadata": {
    "ExecuteTime": {
     "end_time": "2021-04-23T09:22:03.387145Z",
     "start_time": "2021-04-23T09:22:03.376376Z"
    }
   },
   "outputs": [],
   "source": [
    "update_address_sql = '''UPDATE tb_basic_400000 SET address=? WHERE uuid=?'''\n",
    "conn = sqlite3.connect('data/database.db')\n",
    "with conn:\n",
    "    cur = conn.cursor()\n",
    "    for row in rows_1000:\n",
    "        statement_payload = (row[0].lower(), row[1])\n",
    "        cur.execute(update_address_sql, statement_payload)\n",
    "    cur.close()\n",
    "conn.close()"
   ]
  },
  {
   "cell_type": "code",
   "execution_count": 46,
   "metadata": {
    "ExecuteTime": {
     "end_time": "2021-04-23T08:58:57.053732Z",
     "start_time": "2021-04-23T08:58:56.700561Z"
    }
   },
   "outputs": [],
   "source": [
    "update_address_sql = '''UPDATE tb_basic_100000 SET address=? WHERE uuid=?'''\n",
    "conn = sqlite3.connect('data/database.db')\n",
    "with conn:\n",
    "    cur = conn.cursor()\n",
    "    for row in rows_100000:\n",
    "        statement_payload = (row[0].lower(), row[1])\n",
    "        cur.execute(update_address_sql, statement_payload)\n",
    "    cur.close()\n",
    "conn.close()"
   ]
  },
  {
   "cell_type": "code",
   "execution_count": 58,
   "metadata": {
    "ExecuteTime": {
     "end_time": "2021-04-23T09:20:00.165703Z",
     "start_time": "2021-04-23T09:20:00.154743Z"
    }
   },
   "outputs": [],
   "source": [
    "update_address_sql = '''UPDATE tb_basic_400000 SET address=? WHERE uuid=?'''\n",
    "conn = sqlite3.connect('data/database.db')\n",
    "with conn:\n",
    "    cur = conn.cursor()\n",
    "    for row in rows_1000:\n",
    "        statement_payload = (row[0].lower(), row[1])\n",
    "        cur.execute(update_address_sql, statement_payload)\n",
    "    cur.close()\n",
    "conn.close()"
   ]
  },
  {
   "cell_type": "markdown",
   "metadata": {},
   "source": [
    "### UNIQUE Indexed"
   ]
  },
  {
   "cell_type": "code",
   "execution_count": 18,
   "metadata": {
    "ExecuteTime": {
     "end_time": "2021-04-22T11:10:56.167094Z",
     "start_time": "2021-04-22T11:10:54.201980Z"
    }
   },
   "outputs": [],
   "source": [
    "update_address_sql = '''UPDATE tb_unique_index_400000 SET address=? WHERE uuid=?'''\n",
    "conn = sqlite3.connect('data/database.db')\n",
    "with conn:\n",
    "    cur = conn.cursor()\n",
    "    for row in rows_400000:\n",
    "        statement_payload = (row[0].lower(), row[1])\n",
    "        cur.execute(update_address_sql, statement_payload)\n",
    "    cur.close()\n",
    "conn.close()"
   ]
  },
  {
   "cell_type": "markdown",
   "metadata": {},
   "source": [
    "### Pandas"
   ]
  },
  {
   "cell_type": "markdown",
   "metadata": {},
   "source": [
    "### .apply() - updates all rows"
   ]
  },
  {
   "cell_type": "code",
   "execution_count": 77,
   "metadata": {
    "ExecuteTime": {
     "end_time": "2021-04-23T09:34:46.580005Z",
     "start_time": "2021-04-23T09:34:46.519316Z"
    }
   },
   "outputs": [],
   "source": [
    "table = \"tb_basic_1000\"\n",
    "conn = sqlite3.connect('data/database.db')\n",
    "df = pd.read_sql_query(f'''SELECT * FROM {table}''', conn)\n",
    "df['address'] = df['address'].apply(lambda x: x.upper())\n",
    "cur = conn.cursor()\n",
    "cur.execute(f\"DROP TABLE IF EXISTS {table};\")\n",
    "df.to_sql(name=table, con=conn, index=False)\n",
    "cur.close()\n",
    "conn.close()"
   ]
  },
  {
   "cell_type": "code",
   "execution_count": 78,
   "metadata": {
    "ExecuteTime": {
     "end_time": "2021-04-23T09:35:04.649243Z",
     "start_time": "2021-04-23T09:35:04.531045Z"
    }
   },
   "outputs": [],
   "source": [
    "table = \"tb_basic_10000\"\n",
    "conn = sqlite3.connect('data/database.db')\n",
    "df = pd.read_sql_query(f'''SELECT * FROM {table}''', conn)\n",
    "df['address'] = df['address'].apply(lambda x: x.upper())\n",
    "cur = conn.cursor()\n",
    "cur.execute(f\"DROP TABLE IF EXISTS {table};\")\n",
    "df.to_sql(name=table, con=conn, index=False)\n",
    "cur.close()\n",
    "conn.close()"
   ]
  },
  {
   "cell_type": "code",
   "execution_count": 79,
   "metadata": {
    "ExecuteTime": {
     "end_time": "2021-04-23T09:35:05.672374Z",
     "start_time": "2021-04-23T09:35:04.685678Z"
    }
   },
   "outputs": [],
   "source": [
    "table = \"tb_basic_100000\"\n",
    "conn = sqlite3.connect('data/database.db')\n",
    "df = pd.read_sql_query(f'''SELECT * FROM {table}''', conn)\n",
    "df['address'] = df['address'].apply(lambda x: x.upper())\n",
    "cur = conn.cursor()\n",
    "cur.execute(f\"DROP TABLE IF EXISTS {table};\")\n",
    "df.to_sql(name=table, con=conn, index=False)\n",
    "cur.close()\n",
    "conn.close()"
   ]
  },
  {
   "cell_type": "code",
   "execution_count": 80,
   "metadata": {
    "ExecuteTime": {
     "end_time": "2021-04-23T09:35:44.995108Z",
     "start_time": "2021-04-23T09:35:40.616683Z"
    }
   },
   "outputs": [],
   "source": [
    "table = \"tb_basic_400000\"\n",
    "conn = sqlite3.connect('data/database.db')\n",
    "df = pd.read_sql_query(f'''SELECT * FROM {table}''', conn)\n",
    "df['address'] = df['address'].apply(lambda x: x.upper())\n",
    "cur = conn.cursor()\n",
    "cur.execute(f\"DROP TABLE IF EXISTS {table};\")\n",
    "df.to_sql(name=table, con=conn, index=False)\n",
    "cur.close()\n",
    "conn.close()"
   ]
  },
  {
   "cell_type": "markdown",
   "metadata": {},
   "source": [
    "### update 1000 rows: loc"
   ]
  },
  {
   "cell_type": "code",
   "execution_count": 81,
   "metadata": {
    "ExecuteTime": {
     "end_time": "2021-04-23T09:41:49.515568Z",
     "start_time": "2021-04-23T09:41:48.963403Z"
    }
   },
   "outputs": [],
   "source": [
    "table = \"tb_basic_1000\"\n",
    "conn = sqlite3.connect('data/database.db')\n",
    "df = pd.read_sql_query(f'''SELECT * FROM {table}''', conn)\n",
    "\n",
    "for row in rows_1000:\n",
    "    df.loc[df['uuid'] == row[1], 'address'] = row[0].upper()\n",
    "\n",
    "cur = conn.cursor()\n",
    "cur.execute(f\"DROP TABLE IF EXISTS {table};\")\n",
    "df.to_sql(name=table, con=conn, index=False)\n",
    "cur.close()\n",
    "conn.close()"
   ]
  },
  {
   "cell_type": "code",
   "execution_count": 82,
   "metadata": {
    "ExecuteTime": {
     "end_time": "2021-04-23T09:42:04.035383Z",
     "start_time": "2021-04-23T09:42:02.825095Z"
    }
   },
   "outputs": [],
   "source": [
    "table = \"tb_basic_10000\"\n",
    "conn = sqlite3.connect('data/database.db')\n",
    "df = pd.read_sql_query(f'''SELECT * FROM {table}''', conn)\n",
    "\n",
    "for row in rows_1000:\n",
    "    df.loc[df['uuid'] == row[1], 'address'] = row[0].upper()\n",
    "\n",
    "cur = conn.cursor()\n",
    "cur.execute(f\"DROP TABLE IF EXISTS {table};\")\n",
    "df.to_sql(name=table, con=conn, index=False)\n",
    "cur.close()\n",
    "conn.close()"
   ]
  },
  {
   "cell_type": "code",
   "execution_count": 83,
   "metadata": {
    "ExecuteTime": {
     "end_time": "2021-04-23T09:42:16.902419Z",
     "start_time": "2021-04-23T09:42:07.835975Z"
    }
   },
   "outputs": [],
   "source": [
    "table = \"tb_basic_100000\"\n",
    "conn = sqlite3.connect('data/database.db')\n",
    "df = pd.read_sql_query(f'''SELECT * FROM {table}''', conn)\n",
    "\n",
    "for row in rows_1000:\n",
    "    df.loc[df['uuid'] == row[1], 'address'] = row[0].upper()\n",
    "\n",
    "cur = conn.cursor()\n",
    "cur.execute(f\"DROP TABLE IF EXISTS {table};\")\n",
    "df.to_sql(name=table, con=conn, index=False)\n",
    "cur.close()\n",
    "conn.close()"
   ]
  },
  {
   "cell_type": "code",
   "execution_count": 84,
   "metadata": {
    "ExecuteTime": {
     "end_time": "2021-04-23T09:43:00.144462Z",
     "start_time": "2021-04-23T09:42:22.419379Z"
    }
   },
   "outputs": [],
   "source": [
    "table = \"tb_basic_400000\"\n",
    "conn = sqlite3.connect('data/database.db')\n",
    "df = pd.read_sql_query(f'''SELECT * FROM {table}''', conn)\n",
    "\n",
    "for row in rows_1000:\n",
    "    df.loc[df['uuid'] == row[1], 'address'] = row[0].upper()\n",
    "\n",
    "cur = conn.cursor()\n",
    "cur.execute(f\"DROP TABLE IF EXISTS {table};\")\n",
    "df.to_sql(name=table, con=conn, index=False)\n",
    "cur.close()\n",
    "conn.close()"
   ]
  },
  {
   "cell_type": "markdown",
   "metadata": {},
   "source": [
    "### update 1000 rows: set index and at"
   ]
  },
  {
   "cell_type": "code",
   "execution_count": 99,
   "metadata": {
    "ExecuteTime": {
     "end_time": "2021-04-23T09:47:00.975942Z",
     "start_time": "2021-04-23T09:47:00.777916Z"
    }
   },
   "outputs": [],
   "source": [
    "table = \"tb_basic_1000\"\n",
    "conn = sqlite3.connect('data/database.db')\n",
    "df = pd.read_sql_query(f'''SELECT * FROM {table}''', conn)\n",
    "\n",
    "df.set_index('uuid', inplace=True)\n",
    "for row in rows_1000:\n",
    "    df.at[row[1], 'address'] = row[0].upper()\n",
    "\n",
    "cur = conn.cursor()\n",
    "cur.execute(f\"DROP TABLE IF EXISTS {table};\")\n",
    "df.to_sql(name=table, con=conn)\n",
    "cur.close()\n",
    "conn.close()"
   ]
  },
  {
   "cell_type": "code",
   "execution_count": 100,
   "metadata": {
    "ExecuteTime": {
     "end_time": "2021-04-23T09:47:01.129601Z",
     "start_time": "2021-04-23T09:47:00.977994Z"
    }
   },
   "outputs": [],
   "source": [
    "table = \"tb_basic_10000\"\n",
    "conn = sqlite3.connect('data/database.db')\n",
    "df = pd.read_sql_query(f'''SELECT * FROM {table}''', conn)\n",
    "\n",
    "df.set_index('uuid', inplace=True)\n",
    "for row in rows_1000:\n",
    "    df.at[row[1], 'address'] = row[0].upper()\n",
    "\n",
    "cur = conn.cursor()\n",
    "cur.execute(f\"DROP TABLE IF EXISTS {table};\")\n",
    "df.to_sql(name=table, con=conn)\n",
    "cur.close()\n",
    "conn.close()"
   ]
  },
  {
   "cell_type": "code",
   "execution_count": 101,
   "metadata": {
    "ExecuteTime": {
     "end_time": "2021-04-23T09:47:02.433227Z",
     "start_time": "2021-04-23T09:47:01.131337Z"
    }
   },
   "outputs": [],
   "source": [
    "table = \"tb_basic_100000\"\n",
    "conn = sqlite3.connect('data/database.db')\n",
    "df = pd.read_sql_query(f'''SELECT * FROM {table}''', conn)\n",
    "\n",
    "df.set_index('uuid', inplace=True)\n",
    "for row in rows_1000:\n",
    "    df.at[row[1], 'address'] = row[0].upper()\n",
    "\n",
    "cur = conn.cursor()\n",
    "cur.execute(f\"DROP TABLE IF EXISTS {table};\")\n",
    "df.to_sql(name=table, con=conn)\n",
    "cur.close()\n",
    "conn.close()"
   ]
  },
  {
   "cell_type": "code",
   "execution_count": 102,
   "metadata": {
    "ExecuteTime": {
     "end_time": "2021-04-23T09:47:08.858773Z",
     "start_time": "2021-04-23T09:47:02.434891Z"
    }
   },
   "outputs": [],
   "source": [
    "table = \"tb_basic_400000\"\n",
    "conn = sqlite3.connect('data/database.db')\n",
    "df = pd.read_sql_query(f'''SELECT * FROM {table}''', conn)\n",
    "\n",
    "df.set_index('uuid', inplace=True)\n",
    "for row in rows_1000:\n",
    "    df.at[row[1], 'address'] = row[0].upper()\n",
    "\n",
    "cur = conn.cursor()\n",
    "cur.execute(f\"DROP TABLE IF EXISTS {table};\")\n",
    "df.to_sql(name=table, con=conn)\n",
    "cur.close()\n",
    "conn.close()"
   ]
  },
  {
   "cell_type": "code",
   "execution_count": null,
   "metadata": {},
   "outputs": [],
   "source": []
  },
  {
   "cell_type": "code",
   "execution_count": null,
   "metadata": {},
   "outputs": [],
   "source": []
  },
  {
   "cell_type": "markdown",
   "metadata": {},
   "source": [
    "### Scratchpad"
   ]
  },
  {
   "cell_type": "code",
   "execution_count": null,
   "metadata": {},
   "outputs": [],
   "source": []
  }
 ],
 "metadata": {
  "kernelspec": {
   "display_name": "Python 3",
   "language": "python",
   "name": "python3"
  },
  "language_info": {
   "codemirror_mode": {
    "name": "ipython",
    "version": 3
   },
   "file_extension": ".py",
   "mimetype": "text/x-python",
   "name": "python",
   "nbconvert_exporter": "python",
   "pygments_lexer": "ipython3",
   "version": "3.8.5"
  }
 },
 "nbformat": 4,
 "nbformat_minor": 4
}
