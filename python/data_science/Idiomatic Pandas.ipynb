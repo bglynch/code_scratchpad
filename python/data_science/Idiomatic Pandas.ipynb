{
 "cells": [
  {
   "cell_type": "markdown",
   "metadata": {
    "heading_collapsed": true
   },
   "source": [
    "## Configure Options and Settings at Interpreter Startup"
   ]
  },
  {
   "cell_type": "code",
   "execution_count": 1,
   "metadata": {
    "ExecuteTime": {
     "end_time": "2020-11-03T11:03:14.505976Z",
     "start_time": "2020-11-03T11:03:14.186862Z"
    },
    "hidden": true
   },
   "outputs": [],
   "source": [
    "import pandas"
   ]
  },
  {
   "cell_type": "code",
   "execution_count": null,
   "metadata": {
    "hidden": true
   },
   "outputs": [],
   "source": [
    "def start():\n",
    "    options = {\n",
    "        'display':{\n",
    "            'max_columns':None,\n",
    "            'max_colwidth':25,\n",
    "            'expand_frame_repr':False,\n",
    "            'max_rows':14,\n",
    "            'max_seq_items':50,\n",
    "            'precision':4,\n",
    "            'show_dimensions':False\n",
    "        },\n",
    "        'mode':{\n",
    "            'chained_assignment':None\n",
    "        }\n",
    "    }\n",
    "    for category, option in options.items():\n",
    "        for op, value in options.items():\n",
    "            pd.set_option(f'{category}.{op}', value)"
   ]
  },
  {
   "cell_type": "markdown",
   "metadata": {
    "heading_collapsed": true
   },
   "source": [
    "## Make Toy Data Structures With Pandas' Testing Module"
   ]
  },
  {
   "cell_type": "code",
   "execution_count": 3,
   "metadata": {
    "ExecuteTime": {
     "end_time": "2020-11-03T11:12:04.263588Z",
     "start_time": "2020-11-03T11:12:04.168924Z"
    },
    "hidden": true
   },
   "outputs": [
    {
     "data": {
      "text/html": [
       "<div>\n",
       "<style scoped>\n",
       "    .dataframe tbody tr th:only-of-type {\n",
       "        vertical-align: middle;\n",
       "    }\n",
       "\n",
       "    .dataframe tbody tr th {\n",
       "        vertical-align: top;\n",
       "    }\n",
       "\n",
       "    .dataframe thead th {\n",
       "        text-align: right;\n",
       "    }\n",
       "</style>\n",
       "<table border=\"1\" class=\"dataframe\">\n",
       "  <thead>\n",
       "    <tr style=\"text-align: right;\">\n",
       "      <th></th>\n",
       "      <th>A</th>\n",
       "      <th>B</th>\n",
       "      <th>C</th>\n",
       "      <th>D</th>\n",
       "    </tr>\n",
       "  </thead>\n",
       "  <tbody>\n",
       "    <tr>\n",
       "      <th>2000-01-31</th>\n",
       "      <td>0.357440</td>\n",
       "      <td>0.266873</td>\n",
       "      <td>0.353728</td>\n",
       "      <td>-0.536561</td>\n",
       "    </tr>\n",
       "    <tr>\n",
       "      <th>2000-02-29</th>\n",
       "      <td>0.377538</td>\n",
       "      <td>-0.480331</td>\n",
       "      <td>-0.433926</td>\n",
       "      <td>-0.886787</td>\n",
       "    </tr>\n",
       "    <tr>\n",
       "      <th>2000-03-31</th>\n",
       "      <td>1.382338</td>\n",
       "      <td>0.300781</td>\n",
       "      <td>-0.498028</td>\n",
       "      <td>0.107101</td>\n",
       "    </tr>\n",
       "    <tr>\n",
       "      <th>2000-04-30</th>\n",
       "      <td>1.175549</td>\n",
       "      <td>-0.179054</td>\n",
       "      <td>0.228771</td>\n",
       "      <td>-0.740890</td>\n",
       "    </tr>\n",
       "    <tr>\n",
       "      <th>2000-05-31</th>\n",
       "      <td>-0.939276</td>\n",
       "      <td>1.183669</td>\n",
       "      <td>-0.650078</td>\n",
       "      <td>-0.075697</td>\n",
       "    </tr>\n",
       "  </tbody>\n",
       "</table>\n",
       "</div>"
      ],
      "text/plain": [
       "                   A         B         C         D\n",
       "2000-01-31  0.357440  0.266873  0.353728 -0.536561\n",
       "2000-02-29  0.377538 -0.480331 -0.433926 -0.886787\n",
       "2000-03-31  1.382338  0.300781 -0.498028  0.107101\n",
       "2000-04-30  1.175549 -0.179054  0.228771 -0.740890\n",
       "2000-05-31 -0.939276  1.183669 -0.650078 -0.075697"
      ]
     },
     "execution_count": 3,
     "metadata": {},
     "output_type": "execute_result"
    }
   ],
   "source": [
    "import pandas.util.testing as tm\n",
    "import numpy as np\n",
    "\n",
    "tm.N, tm.K = 15,3\n",
    "np.random.seed(444)\n",
    "tm.makeTimeDataFrame(freq='M').head()"
   ]
  },
  {
   "cell_type": "code",
   "execution_count": 4,
   "metadata": {
    "ExecuteTime": {
     "end_time": "2020-11-03T11:12:40.016441Z",
     "start_time": "2020-11-03T11:12:40.000607Z"
    },
    "hidden": true
   },
   "outputs": [
    {
     "data": {
      "text/html": [
       "<div>\n",
       "<style scoped>\n",
       "    .dataframe tbody tr th:only-of-type {\n",
       "        vertical-align: middle;\n",
       "    }\n",
       "\n",
       "    .dataframe tbody tr th {\n",
       "        vertical-align: top;\n",
       "    }\n",
       "\n",
       "    .dataframe thead th {\n",
       "        text-align: right;\n",
       "    }\n",
       "</style>\n",
       "<table border=\"1\" class=\"dataframe\">\n",
       "  <thead>\n",
       "    <tr style=\"text-align: right;\">\n",
       "      <th></th>\n",
       "      <th>A</th>\n",
       "      <th>B</th>\n",
       "      <th>C</th>\n",
       "      <th>D</th>\n",
       "    </tr>\n",
       "  </thead>\n",
       "  <tbody>\n",
       "    <tr>\n",
       "      <th>b8jgVbQbug</th>\n",
       "      <td>-0.748504</td>\n",
       "      <td>-0.099509</td>\n",
       "      <td>-0.060078</td>\n",
       "      <td>0.035310</td>\n",
       "    </tr>\n",
       "    <tr>\n",
       "      <th>OKCyyhkEvY</th>\n",
       "      <td>0.498427</td>\n",
       "      <td>0.798287</td>\n",
       "      <td>-0.169375</td>\n",
       "      <td>-1.487501</td>\n",
       "    </tr>\n",
       "    <tr>\n",
       "      <th>RtcTWq0AMT</th>\n",
       "      <td>-0.148212</td>\n",
       "      <td>0.507709</td>\n",
       "      <td>-0.089451</td>\n",
       "      <td>-0.716834</td>\n",
       "    </tr>\n",
       "    <tr>\n",
       "      <th>vtdamOujY0</th>\n",
       "      <td>-0.348742</td>\n",
       "      <td>0.273927</td>\n",
       "      <td>1.551892</td>\n",
       "      <td>-0.054453</td>\n",
       "    </tr>\n",
       "    <tr>\n",
       "      <th>tW49Zqe3lC</th>\n",
       "      <td>0.161808</td>\n",
       "      <td>0.839752</td>\n",
       "      <td>0.690683</td>\n",
       "      <td>1.536011</td>\n",
       "    </tr>\n",
       "    <tr>\n",
       "      <th>YS55K1HAQ9</th>\n",
       "      <td>-0.741327</td>\n",
       "      <td>-0.832826</td>\n",
       "      <td>-0.004938</td>\n",
       "      <td>-1.347949</td>\n",
       "    </tr>\n",
       "    <tr>\n",
       "      <th>VqoFBJHR6Y</th>\n",
       "      <td>1.260449</td>\n",
       "      <td>-0.971597</td>\n",
       "      <td>0.393538</td>\n",
       "      <td>0.079307</td>\n",
       "    </tr>\n",
       "    <tr>\n",
       "      <th>26geH1wGRS</th>\n",
       "      <td>-0.145185</td>\n",
       "      <td>-0.474486</td>\n",
       "      <td>0.876715</td>\n",
       "      <td>1.376789</td>\n",
       "    </tr>\n",
       "    <tr>\n",
       "      <th>e9rN6H4BgQ</th>\n",
       "      <td>0.624359</td>\n",
       "      <td>-2.646801</td>\n",
       "      <td>-0.276459</td>\n",
       "      <td>-0.655241</td>\n",
       "    </tr>\n",
       "    <tr>\n",
       "      <th>j0qdIMVG9P</th>\n",
       "      <td>-0.314556</td>\n",
       "      <td>0.988053</td>\n",
       "      <td>-0.626824</td>\n",
       "      <td>1.045932</td>\n",
       "    </tr>\n",
       "    <tr>\n",
       "      <th>W4eEnVRpUa</th>\n",
       "      <td>-0.294092</td>\n",
       "      <td>-0.574055</td>\n",
       "      <td>-0.126882</td>\n",
       "      <td>-0.832263</td>\n",
       "    </tr>\n",
       "    <tr>\n",
       "      <th>g9dcLMeEwp</th>\n",
       "      <td>-1.145200</td>\n",
       "      <td>0.719129</td>\n",
       "      <td>-1.431411</td>\n",
       "      <td>0.574797</td>\n",
       "    </tr>\n",
       "    <tr>\n",
       "      <th>fbQ5SmEblH</th>\n",
       "      <td>1.232365</td>\n",
       "      <td>-3.023766</td>\n",
       "      <td>1.369466</td>\n",
       "      <td>0.727424</td>\n",
       "    </tr>\n",
       "    <tr>\n",
       "      <th>FukISKX7Bc</th>\n",
       "      <td>0.545466</td>\n",
       "      <td>-1.134132</td>\n",
       "      <td>-0.195613</td>\n",
       "      <td>0.441846</td>\n",
       "    </tr>\n",
       "    <tr>\n",
       "      <th>v1D3x3mSBd</th>\n",
       "      <td>-0.142989</td>\n",
       "      <td>-0.496520</td>\n",
       "      <td>0.842665</td>\n",
       "      <td>0.647239</td>\n",
       "    </tr>\n",
       "    <tr>\n",
       "      <th>C92gaoGuTZ</th>\n",
       "      <td>0.156838</td>\n",
       "      <td>-0.905341</td>\n",
       "      <td>-0.816806</td>\n",
       "      <td>0.486804</td>\n",
       "    </tr>\n",
       "    <tr>\n",
       "      <th>OncIUMQ0MG</th>\n",
       "      <td>0.291622</td>\n",
       "      <td>1.308434</td>\n",
       "      <td>-0.396708</td>\n",
       "      <td>-0.101601</td>\n",
       "    </tr>\n",
       "    <tr>\n",
       "      <th>cjg4OYRn3P</th>\n",
       "      <td>1.534490</td>\n",
       "      <td>0.498369</td>\n",
       "      <td>1.557061</td>\n",
       "      <td>-0.220957</td>\n",
       "    </tr>\n",
       "    <tr>\n",
       "      <th>A91kkyVnjM</th>\n",
       "      <td>-0.144171</td>\n",
       "      <td>0.013184</td>\n",
       "      <td>0.180707</td>\n",
       "      <td>-0.154393</td>\n",
       "    </tr>\n",
       "    <tr>\n",
       "      <th>PC6KJIgjri</th>\n",
       "      <td>0.628601</td>\n",
       "      <td>0.891404</td>\n",
       "      <td>-2.091995</td>\n",
       "      <td>-0.446889</td>\n",
       "    </tr>\n",
       "    <tr>\n",
       "      <th>HxWofnDpB9</th>\n",
       "      <td>0.238085</td>\n",
       "      <td>0.765255</td>\n",
       "      <td>0.390771</td>\n",
       "      <td>-0.591394</td>\n",
       "    </tr>\n",
       "    <tr>\n",
       "      <th>ae6iCBBSZJ</th>\n",
       "      <td>-0.993296</td>\n",
       "      <td>2.429083</td>\n",
       "      <td>0.210066</td>\n",
       "      <td>1.569966</td>\n",
       "    </tr>\n",
       "    <tr>\n",
       "      <th>olYO5Q7EtO</th>\n",
       "      <td>0.951548</td>\n",
       "      <td>-2.553379</td>\n",
       "      <td>-0.111895</td>\n",
       "      <td>-0.786958</td>\n",
       "    </tr>\n",
       "    <tr>\n",
       "      <th>0gnjjKRCKR</th>\n",
       "      <td>0.140468</td>\n",
       "      <td>-0.394286</td>\n",
       "      <td>-0.200544</td>\n",
       "      <td>-0.373663</td>\n",
       "    </tr>\n",
       "    <tr>\n",
       "      <th>H6biVpIW2p</th>\n",
       "      <td>1.249455</td>\n",
       "      <td>-0.941172</td>\n",
       "      <td>-0.704849</td>\n",
       "      <td>-0.175217</td>\n",
       "    </tr>\n",
       "    <tr>\n",
       "      <th>rSKC0woKFi</th>\n",
       "      <td>-1.160131</td>\n",
       "      <td>-1.113729</td>\n",
       "      <td>0.792240</td>\n",
       "      <td>-1.250650</td>\n",
       "    </tr>\n",
       "    <tr>\n",
       "      <th>BMUGYjLpYu</th>\n",
       "      <td>0.007133</td>\n",
       "      <td>0.064256</td>\n",
       "      <td>-0.919008</td>\n",
       "      <td>0.061109</td>\n",
       "    </tr>\n",
       "    <tr>\n",
       "      <th>dzYVrdHBpz</th>\n",
       "      <td>-0.512102</td>\n",
       "      <td>-0.335753</td>\n",
       "      <td>0.438087</td>\n",
       "      <td>1.634261</td>\n",
       "    </tr>\n",
       "    <tr>\n",
       "      <th>R7LJ3VjWJ0</th>\n",
       "      <td>-0.848129</td>\n",
       "      <td>-1.372349</td>\n",
       "      <td>-0.072164</td>\n",
       "      <td>-0.329870</td>\n",
       "    </tr>\n",
       "    <tr>\n",
       "      <th>wCWyMFEcAw</th>\n",
       "      <td>0.399670</td>\n",
       "      <td>0.521934</td>\n",
       "      <td>-0.068731</td>\n",
       "      <td>0.054510</td>\n",
       "    </tr>\n",
       "  </tbody>\n",
       "</table>\n",
       "</div>"
      ],
      "text/plain": [
       "                   A         B         C         D\n",
       "b8jgVbQbug -0.748504 -0.099509 -0.060078  0.035310\n",
       "OKCyyhkEvY  0.498427  0.798287 -0.169375 -1.487501\n",
       "RtcTWq0AMT -0.148212  0.507709 -0.089451 -0.716834\n",
       "vtdamOujY0 -0.348742  0.273927  1.551892 -0.054453\n",
       "tW49Zqe3lC  0.161808  0.839752  0.690683  1.536011\n",
       "YS55K1HAQ9 -0.741327 -0.832826 -0.004938 -1.347949\n",
       "VqoFBJHR6Y  1.260449 -0.971597  0.393538  0.079307\n",
       "26geH1wGRS -0.145185 -0.474486  0.876715  1.376789\n",
       "e9rN6H4BgQ  0.624359 -2.646801 -0.276459 -0.655241\n",
       "j0qdIMVG9P -0.314556  0.988053 -0.626824  1.045932\n",
       "W4eEnVRpUa -0.294092 -0.574055 -0.126882 -0.832263\n",
       "g9dcLMeEwp -1.145200  0.719129 -1.431411  0.574797\n",
       "fbQ5SmEblH  1.232365 -3.023766  1.369466  0.727424\n",
       "FukISKX7Bc  0.545466 -1.134132 -0.195613  0.441846\n",
       "v1D3x3mSBd -0.142989 -0.496520  0.842665  0.647239\n",
       "C92gaoGuTZ  0.156838 -0.905341 -0.816806  0.486804\n",
       "OncIUMQ0MG  0.291622  1.308434 -0.396708 -0.101601\n",
       "cjg4OYRn3P  1.534490  0.498369  1.557061 -0.220957\n",
       "A91kkyVnjM -0.144171  0.013184  0.180707 -0.154393\n",
       "PC6KJIgjri  0.628601  0.891404 -2.091995 -0.446889\n",
       "HxWofnDpB9  0.238085  0.765255  0.390771 -0.591394\n",
       "ae6iCBBSZJ -0.993296  2.429083  0.210066  1.569966\n",
       "olYO5Q7EtO  0.951548 -2.553379 -0.111895 -0.786958\n",
       "0gnjjKRCKR  0.140468 -0.394286 -0.200544 -0.373663\n",
       "H6biVpIW2p  1.249455 -0.941172 -0.704849 -0.175217\n",
       "rSKC0woKFi -1.160131 -1.113729  0.792240 -1.250650\n",
       "BMUGYjLpYu  0.007133  0.064256 -0.919008  0.061109\n",
       "dzYVrdHBpz -0.512102 -0.335753  0.438087  1.634261\n",
       "R7LJ3VjWJ0 -0.848129 -1.372349 -0.072164 -0.329870\n",
       "wCWyMFEcAw  0.399670  0.521934 -0.068731  0.054510"
      ]
     },
     "execution_count": 4,
     "metadata": {},
     "output_type": "execute_result"
    }
   ],
   "source": [
    "tm.makeDataFrame()"
   ]
  },
  {
   "cell_type": "code",
   "execution_count": 6,
   "metadata": {
    "ExecuteTime": {
     "end_time": "2020-11-03T11:13:28.718991Z",
     "start_time": "2020-11-03T11:13:28.714038Z"
    },
    "hidden": true
   },
   "outputs": [
    {
     "data": {
      "text/plain": [
       "['makeBoolIndex',\n",
       " 'makeCategoricalIndex',\n",
       " 'makeCustomDataframe',\n",
       " 'makeCustomIndex',\n",
       " 'makeDataFrame',\n",
       " 'makeDateIndex',\n",
       " 'makeFloatIndex',\n",
       " 'makeFloatSeries',\n",
       " 'makeIntIndex',\n",
       " 'makeIntervalIndex',\n",
       " 'makeMissingDataframe',\n",
       " 'makeMixedDataFrame',\n",
       " 'makeMultiIndex',\n",
       " 'makeObjectSeries',\n",
       " 'makePeriodFrame',\n",
       " 'makePeriodIndex',\n",
       " 'makePeriodSeries',\n",
       " 'makeRangeIndex',\n",
       " 'makeStringIndex',\n",
       " 'makeStringSeries',\n",
       " 'makeTimeDataFrame',\n",
       " 'makeTimeSeries',\n",
       " 'makeTimedeltaIndex',\n",
       " 'makeUIntIndex',\n",
       " 'makeUnicodeIndex']"
      ]
     },
     "execution_count": 6,
     "metadata": {},
     "output_type": "execute_result"
    }
   ],
   "source": [
    "[i for i in dir(tm) if i.startswith('make')]"
   ]
  },
  {
   "cell_type": "markdown",
   "metadata": {
    "heading_collapsed": true
   },
   "source": [
    "## Take Advantage of Accessor Methods"
   ]
  },
  {
   "cell_type": "code",
   "execution_count": 7,
   "metadata": {
    "ExecuteTime": {
     "end_time": "2020-11-03T11:14:24.527496Z",
     "start_time": "2020-11-03T11:14:24.524728Z"
    },
    "hidden": true
   },
   "outputs": [],
   "source": [
    "import pandas as pd"
   ]
  },
  {
   "cell_type": "code",
   "execution_count": 8,
   "metadata": {
    "ExecuteTime": {
     "end_time": "2020-11-03T11:14:32.089220Z",
     "start_time": "2020-11-03T11:14:32.085283Z"
    },
    "hidden": true
   },
   "outputs": [
    {
     "data": {
      "text/plain": [
       "{'cat', 'dt', 'sparse', 'str'}"
      ]
     },
     "execution_count": 8,
     "metadata": {},
     "output_type": "execute_result"
    }
   ],
   "source": [
    "# these are the Accessor methods\n",
    "# str => string\n",
    "# dt  => date time\n",
    "# cat => categorical\n",
    "pd.Series._accessors"
   ]
  },
  {
   "cell_type": "markdown",
   "metadata": {
    "hidden": true
   },
   "source": [
    "### str"
   ]
  },
  {
   "cell_type": "code",
   "execution_count": 9,
   "metadata": {
    "ExecuteTime": {
     "end_time": "2020-11-03T11:16:14.963239Z",
     "start_time": "2020-11-03T11:16:14.959112Z"
    },
    "hidden": true
   },
   "outputs": [],
   "source": [
    "addr = pd.Series([\n",
    "    'Washington, D.C. 20003',\n",
    "    'Brooklyn, NY 11211-1755',\n",
    "    'Omaha, NE 68154',\n",
    "    'Pittsburgh, PA 15211'\n",
    "])"
   ]
  },
  {
   "cell_type": "code",
   "execution_count": 10,
   "metadata": {
    "ExecuteTime": {
     "end_time": "2020-11-03T11:16:42.255272Z",
     "start_time": "2020-11-03T11:16:42.250165Z"
    },
    "hidden": true,
    "scrolled": true
   },
   "outputs": [
    {
     "data": {
      "text/plain": [
       "0     WASHINGTON, D.C. 20003\n",
       "1    BROOKLYN, NY 11211-1755\n",
       "2            OMAHA, NE 68154\n",
       "3       PITTSBURGH, PA 15211\n",
       "dtype: object"
      ]
     },
     "execution_count": 10,
     "metadata": {},
     "output_type": "execute_result"
    }
   ],
   "source": [
    "addr.str.upper()"
   ]
  },
  {
   "cell_type": "code",
   "execution_count": 11,
   "metadata": {
    "ExecuteTime": {
     "end_time": "2020-11-03T11:17:48.631503Z",
     "start_time": "2020-11-03T11:17:48.626465Z"
    },
    "hidden": true
   },
   "outputs": [
    {
     "data": {
      "text/plain": [
       "0    5\n",
       "1    9\n",
       "2    5\n",
       "3    5\n",
       "dtype: int64"
      ]
     },
     "execution_count": 11,
     "metadata": {},
     "output_type": "execute_result"
    }
   ],
   "source": [
    "addr.str.count(r'\\d')"
   ]
  },
  {
   "cell_type": "markdown",
   "metadata": {
    "hidden": true
   },
   "source": [
    "### dt"
   ]
  },
  {
   "cell_type": "code",
   "execution_count": 13,
   "metadata": {
    "ExecuteTime": {
     "end_time": "2020-11-03T11:19:39.290674Z",
     "start_time": "2020-11-03T11:19:39.285223Z"
    },
    "hidden": true
   },
   "outputs": [
    {
     "data": {
      "text/plain": [
       "0   2019-03-31\n",
       "1   2019-06-30\n",
       "2   2019-09-30\n",
       "3   2019-12-31\n",
       "4   2020-03-31\n",
       "5   2020-06-30\n",
       "6   2020-09-30\n",
       "7   2020-12-31\n",
       "8   2021-03-31\n",
       "dtype: datetime64[ns]"
      ]
     },
     "execution_count": 13,
     "metadata": {},
     "output_type": "execute_result"
    }
   ],
   "source": [
    "# create dataframe with dates\n",
    "daterng = pd.Series(pd.date_range('2019', periods=9, freq='Q'))\n",
    "daterng"
   ]
  },
  {
   "cell_type": "code",
   "execution_count": 14,
   "metadata": {
    "ExecuteTime": {
     "end_time": "2020-11-03T11:19:53.972681Z",
     "start_time": "2020-11-03T11:19:53.966657Z"
    },
    "hidden": true
   },
   "outputs": [
    {
     "data": {
      "text/plain": [
       "0       Sunday\n",
       "1       Sunday\n",
       "2       Monday\n",
       "3      Tuesday\n",
       "4      Tuesday\n",
       "5      Tuesday\n",
       "6    Wednesday\n",
       "7     Thursday\n",
       "8    Wednesday\n",
       "dtype: object"
      ]
     },
     "execution_count": 14,
     "metadata": {},
     "output_type": "execute_result"
    }
   ],
   "source": [
    "# view day name\n",
    "daterng.dt.day_name()"
   ]
  },
  {
   "cell_type": "code",
   "execution_count": 16,
   "metadata": {
    "ExecuteTime": {
     "end_time": "2020-11-03T11:20:52.338636Z",
     "start_time": "2020-11-03T11:20:52.332806Z"
    },
    "hidden": true
   },
   "outputs": [
    {
     "data": {
      "text/plain": [
       "2   2019-09-30\n",
       "3   2019-12-31\n",
       "6   2020-09-30\n",
       "7   2020-12-31\n",
       "dtype: datetime64[ns]"
      ]
     },
     "execution_count": 16,
     "metadata": {},
     "output_type": "execute_result"
    }
   ],
   "source": [
    "# view dates that are in the 3rd and 4th quarter\n",
    "daterng[daterng.dt.quarter > 2]"
   ]
  },
  {
   "cell_type": "code",
   "execution_count": 18,
   "metadata": {
    "ExecuteTime": {
     "end_time": "2020-11-03T11:21:46.159495Z",
     "start_time": "2020-11-03T11:21:46.153765Z"
    },
    "hidden": true
   },
   "outputs": [
    {
     "data": {
      "text/plain": [
       "3   2019-12-31\n",
       "7   2020-12-31\n",
       "dtype: datetime64[ns]"
      ]
     },
     "execution_count": 18,
     "metadata": {},
     "output_type": "execute_result"
    }
   ],
   "source": [
    "# view end of year dates\n",
    "daterng[daterng.dt.is_year_end]"
   ]
  },
  {
   "cell_type": "markdown",
   "metadata": {
    "heading_collapsed": true
   },
   "source": [
    "## Create a DatetimeIndex From Component Columns"
   ]
  },
  {
   "cell_type": "code",
   "execution_count": 20,
   "metadata": {
    "ExecuteTime": {
     "end_time": "2020-11-03T11:24:39.520497Z",
     "start_time": "2020-11-03T11:24:39.508073Z"
    },
    "hidden": true
   },
   "outputs": [
    {
     "data": {
      "text/html": [
       "<div>\n",
       "<style scoped>\n",
       "    .dataframe tbody tr th:only-of-type {\n",
       "        vertical-align: middle;\n",
       "    }\n",
       "\n",
       "    .dataframe tbody tr th {\n",
       "        vertical-align: top;\n",
       "    }\n",
       "\n",
       "    .dataframe thead th {\n",
       "        text-align: right;\n",
       "    }\n",
       "</style>\n",
       "<table border=\"1\" class=\"dataframe\">\n",
       "  <thead>\n",
       "    <tr style=\"text-align: right;\">\n",
       "      <th></th>\n",
       "      <th>year</th>\n",
       "      <th>month</th>\n",
       "      <th>day</th>\n",
       "    </tr>\n",
       "  </thead>\n",
       "  <tbody>\n",
       "    <tr>\n",
       "      <th>0</th>\n",
       "      <td>2019</td>\n",
       "      <td>1</td>\n",
       "      <td>1</td>\n",
       "    </tr>\n",
       "    <tr>\n",
       "      <th>1</th>\n",
       "      <td>2019</td>\n",
       "      <td>1</td>\n",
       "      <td>2</td>\n",
       "    </tr>\n",
       "    <tr>\n",
       "      <th>2</th>\n",
       "      <td>2019</td>\n",
       "      <td>1</td>\n",
       "      <td>3</td>\n",
       "    </tr>\n",
       "    <tr>\n",
       "      <th>3</th>\n",
       "      <td>2019</td>\n",
       "      <td>2</td>\n",
       "      <td>1</td>\n",
       "    </tr>\n",
       "    <tr>\n",
       "      <th>4</th>\n",
       "      <td>2019</td>\n",
       "      <td>2</td>\n",
       "      <td>2</td>\n",
       "    </tr>\n",
       "    <tr>\n",
       "      <th>5</th>\n",
       "      <td>2019</td>\n",
       "      <td>2</td>\n",
       "      <td>3</td>\n",
       "    </tr>\n",
       "    <tr>\n",
       "      <th>6</th>\n",
       "      <td>2020</td>\n",
       "      <td>1</td>\n",
       "      <td>1</td>\n",
       "    </tr>\n",
       "    <tr>\n",
       "      <th>7</th>\n",
       "      <td>2020</td>\n",
       "      <td>1</td>\n",
       "      <td>2</td>\n",
       "    </tr>\n",
       "    <tr>\n",
       "      <th>8</th>\n",
       "      <td>2020</td>\n",
       "      <td>1</td>\n",
       "      <td>3</td>\n",
       "    </tr>\n",
       "    <tr>\n",
       "      <th>9</th>\n",
       "      <td>2020</td>\n",
       "      <td>2</td>\n",
       "      <td>1</td>\n",
       "    </tr>\n",
       "    <tr>\n",
       "      <th>10</th>\n",
       "      <td>2020</td>\n",
       "      <td>2</td>\n",
       "      <td>2</td>\n",
       "    </tr>\n",
       "    <tr>\n",
       "      <th>11</th>\n",
       "      <td>2020</td>\n",
       "      <td>2</td>\n",
       "      <td>3</td>\n",
       "    </tr>\n",
       "  </tbody>\n",
       "</table>\n",
       "</div>"
      ],
      "text/plain": [
       "    year  month  day\n",
       "0   2019      1    1\n",
       "1   2019      1    2\n",
       "2   2019      1    3\n",
       "3   2019      2    1\n",
       "4   2019      2    2\n",
       "5   2019      2    3\n",
       "6   2020      1    1\n",
       "7   2020      1    2\n",
       "8   2020      1    3\n",
       "9   2020      2    1\n",
       "10  2020      2    2\n",
       "11  2020      2    3"
      ]
     },
     "execution_count": 20,
     "metadata": {},
     "output_type": "execute_result"
    }
   ],
   "source": [
    "import pandas as pd\n",
    "import numpy as np\n",
    "from itertools import product\n",
    "\n",
    "datecols = ['year', 'month', 'day']\n",
    "df = pd.DataFrame(list(product([2019, 2020], [1,2], [1,2,3])), columns=datecols)\n",
    "df"
   ]
  },
  {
   "cell_type": "code",
   "execution_count": 21,
   "metadata": {
    "ExecuteTime": {
     "end_time": "2020-11-03T11:25:18.286537Z",
     "start_time": "2020-11-03T11:25:18.276543Z"
    },
    "hidden": true
   },
   "outputs": [
    {
     "data": {
      "text/html": [
       "<div>\n",
       "<style scoped>\n",
       "    .dataframe tbody tr th:only-of-type {\n",
       "        vertical-align: middle;\n",
       "    }\n",
       "\n",
       "    .dataframe tbody tr th {\n",
       "        vertical-align: top;\n",
       "    }\n",
       "\n",
       "    .dataframe thead th {\n",
       "        text-align: right;\n",
       "    }\n",
       "</style>\n",
       "<table border=\"1\" class=\"dataframe\">\n",
       "  <thead>\n",
       "    <tr style=\"text-align: right;\">\n",
       "      <th></th>\n",
       "      <th>year</th>\n",
       "      <th>month</th>\n",
       "      <th>day</th>\n",
       "      <th>data</th>\n",
       "    </tr>\n",
       "  </thead>\n",
       "  <tbody>\n",
       "    <tr>\n",
       "      <th>0</th>\n",
       "      <td>2019</td>\n",
       "      <td>1</td>\n",
       "      <td>1</td>\n",
       "      <td>-0.261110</td>\n",
       "    </tr>\n",
       "    <tr>\n",
       "      <th>1</th>\n",
       "      <td>2019</td>\n",
       "      <td>1</td>\n",
       "      <td>2</td>\n",
       "      <td>0.028835</td>\n",
       "    </tr>\n",
       "    <tr>\n",
       "      <th>2</th>\n",
       "      <td>2019</td>\n",
       "      <td>1</td>\n",
       "      <td>3</td>\n",
       "      <td>0.122392</td>\n",
       "    </tr>\n",
       "    <tr>\n",
       "      <th>3</th>\n",
       "      <td>2019</td>\n",
       "      <td>2</td>\n",
       "      <td>1</td>\n",
       "      <td>-0.438345</td>\n",
       "    </tr>\n",
       "    <tr>\n",
       "      <th>4</th>\n",
       "      <td>2019</td>\n",
       "      <td>2</td>\n",
       "      <td>2</td>\n",
       "      <td>0.612122</td>\n",
       "    </tr>\n",
       "    <tr>\n",
       "      <th>5</th>\n",
       "      <td>2019</td>\n",
       "      <td>2</td>\n",
       "      <td>3</td>\n",
       "      <td>-2.506080</td>\n",
       "    </tr>\n",
       "    <tr>\n",
       "      <th>6</th>\n",
       "      <td>2020</td>\n",
       "      <td>1</td>\n",
       "      <td>1</td>\n",
       "      <td>-1.040233</td>\n",
       "    </tr>\n",
       "    <tr>\n",
       "      <th>7</th>\n",
       "      <td>2020</td>\n",
       "      <td>1</td>\n",
       "      <td>2</td>\n",
       "      <td>-0.967498</td>\n",
       "    </tr>\n",
       "    <tr>\n",
       "      <th>8</th>\n",
       "      <td>2020</td>\n",
       "      <td>1</td>\n",
       "      <td>3</td>\n",
       "      <td>0.595033</td>\n",
       "    </tr>\n",
       "    <tr>\n",
       "      <th>9</th>\n",
       "      <td>2020</td>\n",
       "      <td>2</td>\n",
       "      <td>1</td>\n",
       "      <td>0.873375</td>\n",
       "    </tr>\n",
       "    <tr>\n",
       "      <th>10</th>\n",
       "      <td>2020</td>\n",
       "      <td>2</td>\n",
       "      <td>2</td>\n",
       "      <td>-0.892723</td>\n",
       "    </tr>\n",
       "    <tr>\n",
       "      <th>11</th>\n",
       "      <td>2020</td>\n",
       "      <td>2</td>\n",
       "      <td>3</td>\n",
       "      <td>2.196084</td>\n",
       "    </tr>\n",
       "  </tbody>\n",
       "</table>\n",
       "</div>"
      ],
      "text/plain": [
       "    year  month  day      data\n",
       "0   2019      1    1 -0.261110\n",
       "1   2019      1    2  0.028835\n",
       "2   2019      1    3  0.122392\n",
       "3   2019      2    1 -0.438345\n",
       "4   2019      2    2  0.612122\n",
       "5   2019      2    3 -2.506080\n",
       "6   2020      1    1 -1.040233\n",
       "7   2020      1    2 -0.967498\n",
       "8   2020      1    3  0.595033\n",
       "9   2020      2    1  0.873375\n",
       "10  2020      2    2 -0.892723\n",
       "11  2020      2    3  2.196084"
      ]
     },
     "execution_count": 21,
     "metadata": {},
     "output_type": "execute_result"
    }
   ],
   "source": [
    "df['data'] = np.random.randn(len(df))\n",
    "df"
   ]
  },
  {
   "cell_type": "code",
   "execution_count": 23,
   "metadata": {
    "ExecuteTime": {
     "end_time": "2020-11-03T11:26:28.048582Z",
     "start_time": "2020-11-03T11:26:28.037088Z"
    },
    "hidden": true
   },
   "outputs": [
    {
     "data": {
      "text/html": [
       "<div>\n",
       "<style scoped>\n",
       "    .dataframe tbody tr th:only-of-type {\n",
       "        vertical-align: middle;\n",
       "    }\n",
       "\n",
       "    .dataframe tbody tr th {\n",
       "        vertical-align: top;\n",
       "    }\n",
       "\n",
       "    .dataframe thead th {\n",
       "        text-align: right;\n",
       "    }\n",
       "</style>\n",
       "<table border=\"1\" class=\"dataframe\">\n",
       "  <thead>\n",
       "    <tr style=\"text-align: right;\">\n",
       "      <th></th>\n",
       "      <th>year</th>\n",
       "      <th>month</th>\n",
       "      <th>day</th>\n",
       "      <th>data</th>\n",
       "    </tr>\n",
       "  </thead>\n",
       "  <tbody>\n",
       "    <tr>\n",
       "      <th>2019-01-01</th>\n",
       "      <td>2019</td>\n",
       "      <td>1</td>\n",
       "      <td>1</td>\n",
       "      <td>-0.261110</td>\n",
       "    </tr>\n",
       "    <tr>\n",
       "      <th>2019-01-02</th>\n",
       "      <td>2019</td>\n",
       "      <td>1</td>\n",
       "      <td>2</td>\n",
       "      <td>0.028835</td>\n",
       "    </tr>\n",
       "    <tr>\n",
       "      <th>2019-01-03</th>\n",
       "      <td>2019</td>\n",
       "      <td>1</td>\n",
       "      <td>3</td>\n",
       "      <td>0.122392</td>\n",
       "    </tr>\n",
       "    <tr>\n",
       "      <th>2019-02-01</th>\n",
       "      <td>2019</td>\n",
       "      <td>2</td>\n",
       "      <td>1</td>\n",
       "      <td>-0.438345</td>\n",
       "    </tr>\n",
       "    <tr>\n",
       "      <th>2019-02-02</th>\n",
       "      <td>2019</td>\n",
       "      <td>2</td>\n",
       "      <td>2</td>\n",
       "      <td>0.612122</td>\n",
       "    </tr>\n",
       "    <tr>\n",
       "      <th>2019-02-03</th>\n",
       "      <td>2019</td>\n",
       "      <td>2</td>\n",
       "      <td>3</td>\n",
       "      <td>-2.506080</td>\n",
       "    </tr>\n",
       "    <tr>\n",
       "      <th>2020-01-01</th>\n",
       "      <td>2020</td>\n",
       "      <td>1</td>\n",
       "      <td>1</td>\n",
       "      <td>-1.040233</td>\n",
       "    </tr>\n",
       "    <tr>\n",
       "      <th>2020-01-02</th>\n",
       "      <td>2020</td>\n",
       "      <td>1</td>\n",
       "      <td>2</td>\n",
       "      <td>-0.967498</td>\n",
       "    </tr>\n",
       "    <tr>\n",
       "      <th>2020-01-03</th>\n",
       "      <td>2020</td>\n",
       "      <td>1</td>\n",
       "      <td>3</td>\n",
       "      <td>0.595033</td>\n",
       "    </tr>\n",
       "    <tr>\n",
       "      <th>2020-02-01</th>\n",
       "      <td>2020</td>\n",
       "      <td>2</td>\n",
       "      <td>1</td>\n",
       "      <td>0.873375</td>\n",
       "    </tr>\n",
       "    <tr>\n",
       "      <th>2020-02-02</th>\n",
       "      <td>2020</td>\n",
       "      <td>2</td>\n",
       "      <td>2</td>\n",
       "      <td>-0.892723</td>\n",
       "    </tr>\n",
       "    <tr>\n",
       "      <th>2020-02-03</th>\n",
       "      <td>2020</td>\n",
       "      <td>2</td>\n",
       "      <td>3</td>\n",
       "      <td>2.196084</td>\n",
       "    </tr>\n",
       "  </tbody>\n",
       "</table>\n",
       "</div>"
      ],
      "text/plain": [
       "            year  month  day      data\n",
       "2019-01-01  2019      1    1 -0.261110\n",
       "2019-01-02  2019      1    2  0.028835\n",
       "2019-01-03  2019      1    3  0.122392\n",
       "2019-02-01  2019      2    1 -0.438345\n",
       "2019-02-02  2019      2    2  0.612122\n",
       "2019-02-03  2019      2    3 -2.506080\n",
       "2020-01-01  2020      1    1 -1.040233\n",
       "2020-01-02  2020      1    2 -0.967498\n",
       "2020-01-03  2020      1    3  0.595033\n",
       "2020-02-01  2020      2    1  0.873375\n",
       "2020-02-02  2020      2    2 -0.892723\n",
       "2020-02-03  2020      2    3  2.196084"
      ]
     },
     "execution_count": 23,
     "metadata": {},
     "output_type": "execute_result"
    }
   ],
   "source": [
    "# create date column from other columns\n",
    "df.index = pd.to_datetime(df[datecols])\n",
    "df"
   ]
  },
  {
   "cell_type": "code",
   "execution_count": 24,
   "metadata": {
    "ExecuteTime": {
     "end_time": "2020-11-03T11:27:24.396518Z",
     "start_time": "2020-11-03T11:27:24.390294Z"
    },
    "hidden": true
   },
   "outputs": [
    {
     "data": {
      "text/plain": [
       "2019-01-01   -0.261110\n",
       "2019-01-02    0.028835\n",
       "2019-01-03    0.122392\n",
       "2019-02-01   -0.438345\n",
       "2019-02-02    0.612122\n",
       "2019-02-03   -2.506080\n",
       "2020-01-01   -1.040233\n",
       "2020-01-02   -0.967498\n",
       "2020-01-03    0.595033\n",
       "2020-02-01    0.873375\n",
       "2020-02-02   -0.892723\n",
       "2020-02-03    2.196084\n",
       "Name: data, dtype: float64"
      ]
     },
     "execution_count": 24,
     "metadata": {},
     "output_type": "execute_result"
    }
   ],
   "source": [
    "df = df.drop(datecols, axis=1).squeeze()\n",
    "df"
   ]
  },
  {
   "cell_type": "markdown",
   "metadata": {},
   "source": [
    "## Use Categorical Data to Save Time and Space"
   ]
  },
  {
   "cell_type": "code",
   "execution_count": 25,
   "metadata": {
    "ExecuteTime": {
     "end_time": "2020-11-03T11:30:35.547104Z",
     "start_time": "2020-11-03T11:30:35.543851Z"
    }
   },
   "outputs": [],
   "source": [
    "colors = pd.Series([\n",
    "    'periwinkle',\n",
    "    'mint green',\n",
    "    'burnt orange',\n",
    "    'periwinkle',\n",
    "    'burnt orange',\n",
    "    'rose',\n",
    "    'rose',\n",
    "    'mint green',\n",
    "    'rose',\n",
    "    'navy'    \n",
    "])"
   ]
  },
  {
   "cell_type": "code",
   "execution_count": 26,
   "metadata": {
    "ExecuteTime": {
     "end_time": "2020-11-03T11:30:51.220352Z",
     "start_time": "2020-11-03T11:30:51.215737Z"
    }
   },
   "outputs": [
    {
     "data": {
      "text/plain": [
       "0      periwinkle\n",
       "1      mint green\n",
       "2    burnt orange\n",
       "3      periwinkle\n",
       "4    burnt orange\n",
       "5            rose\n",
       "6            rose\n",
       "7      mint green\n",
       "8            rose\n",
       "9            navy\n",
       "dtype: object"
      ]
     },
     "execution_count": 26,
     "metadata": {},
     "output_type": "execute_result"
    }
   ],
   "source": [
    "colors"
   ]
  },
  {
   "cell_type": "code",
   "execution_count": 27,
   "metadata": {
    "ExecuteTime": {
     "end_time": "2020-11-03T11:31:35.031187Z",
     "start_time": "2020-11-03T11:31:35.026061Z"
    }
   },
   "outputs": [
    {
     "data": {
      "text/plain": [
       "{'periwinkle': 0, 'mint green': 1, 'burnt orange': 2, 'rose': 3, 'navy': 4}"
      ]
     },
     "execution_count": 27,
     "metadata": {},
     "output_type": "execute_result"
    }
   ],
   "source": [
    "# create a mapper funciton \n",
    "mapper = {v: k for k,v in enumerate(colors.unique())}\n",
    "mapper"
   ]
  },
  {
   "cell_type": "code",
   "execution_count": 28,
   "metadata": {
    "ExecuteTime": {
     "end_time": "2020-11-03T11:32:02.909685Z",
     "start_time": "2020-11-03T11:32:02.904122Z"
    }
   },
   "outputs": [
    {
     "data": {
      "text/plain": [
       "0    0\n",
       "1    1\n",
       "2    2\n",
       "3    0\n",
       "4    2\n",
       "5    3\n",
       "6    3\n",
       "7    1\n",
       "8    3\n",
       "9    4\n",
       "dtype: int64"
      ]
     },
     "execution_count": 28,
     "metadata": {},
     "output_type": "execute_result"
    }
   ],
   "source": [
    "# map the colors column\n",
    "as_int = colors.map(mapper)\n",
    "as_int"
   ]
  },
  {
   "cell_type": "code",
   "execution_count": 29,
   "metadata": {
    "ExecuteTime": {
     "end_time": "2020-11-03T11:34:43.395886Z",
     "start_time": "2020-11-03T11:34:43.388482Z"
    }
   },
   "outputs": [
    {
     "data": {
      "text/plain": [
       "0      periwinkle\n",
       "1      mint green\n",
       "2    burnt orange\n",
       "3      periwinkle\n",
       "4    burnt orange\n",
       "5            rose\n",
       "6            rose\n",
       "7      mint green\n",
       "8            rose\n",
       "9            navy\n",
       "dtype: category\n",
       "Categories (5, object): ['burnt orange', 'mint green', 'navy', 'periwinkle', 'rose']"
      ]
     },
     "execution_count": 29,
     "metadata": {},
     "output_type": "execute_result"
    }
   ],
   "source": [
    "ccolors = colors.astype('category')\n",
    "ccolors"
   ]
  },
  {
   "cell_type": "code",
   "execution_count": 31,
   "metadata": {
    "ExecuteTime": {
     "end_time": "2020-11-03T11:36:45.998751Z",
     "start_time": "2020-11-03T11:36:45.993907Z"
    }
   },
   "outputs": [
    {
     "data": {
      "text/plain": [
       "0    3\n",
       "1    1\n",
       "2    0\n",
       "3    3\n",
       "4    0\n",
       "5    4\n",
       "6    4\n",
       "7    1\n",
       "8    4\n",
       "9    2\n",
       "dtype: int8"
      ]
     },
     "execution_count": 31,
     "metadata": {},
     "output_type": "execute_result"
    }
   ],
   "source": [
    "ccolors.cat.codes"
   ]
  },
  {
   "cell_type": "code",
   "execution_count": 32,
   "metadata": {
    "ExecuteTime": {
     "end_time": "2020-11-03T11:38:19.633782Z",
     "start_time": "2020-11-03T11:38:19.617180Z"
    },
    "scrolled": true
   },
   "outputs": [
    {
     "ename": "ValueError",
     "evalue": "Cannot setitem on a Categorical with a new category, set the categories first",
     "output_type": "error",
     "traceback": [
      "\u001b[0;31m---------------------------------------------------------------------------\u001b[0m",
      "\u001b[0;31mValueError\u001b[0m                                Traceback (most recent call last)",
      "\u001b[0;32m<ipython-input-32-f3cac669e137>\u001b[0m in \u001b[0;36m<module>\u001b[0;34m\u001b[0m\n\u001b[1;32m      1\u001b[0m \u001b[0;31m# cannot just add new cat to df\u001b[0m\u001b[0;34m\u001b[0m\u001b[0;34m\u001b[0m\u001b[0;34m\u001b[0m\u001b[0m\n\u001b[0;32m----> 2\u001b[0;31m \u001b[0mccolors\u001b[0m\u001b[0;34m.\u001b[0m\u001b[0miloc\u001b[0m\u001b[0;34m[\u001b[0m\u001b[0;36m5\u001b[0m\u001b[0;34m]\u001b[0m \u001b[0;34m=\u001b[0m \u001b[0;34m'olive green'\u001b[0m\u001b[0;34m\u001b[0m\u001b[0;34m\u001b[0m\u001b[0m\n\u001b[0m",
      "\u001b[0;32m~/Desktop/code_scratchpad/python/data-science/venv/lib/python3.8/site-packages/pandas/core/indexing.py\u001b[0m in \u001b[0;36m__setitem__\u001b[0;34m(self, key, value)\u001b[0m\n\u001b[1;32m    668\u001b[0m \u001b[0;34m\u001b[0m\u001b[0m\n\u001b[1;32m    669\u001b[0m         \u001b[0miloc\u001b[0m \u001b[0;34m=\u001b[0m \u001b[0mself\u001b[0m \u001b[0;32mif\u001b[0m \u001b[0mself\u001b[0m\u001b[0;34m.\u001b[0m\u001b[0mname\u001b[0m \u001b[0;34m==\u001b[0m \u001b[0;34m\"iloc\"\u001b[0m \u001b[0;32melse\u001b[0m \u001b[0mself\u001b[0m\u001b[0;34m.\u001b[0m\u001b[0mobj\u001b[0m\u001b[0;34m.\u001b[0m\u001b[0miloc\u001b[0m\u001b[0;34m\u001b[0m\u001b[0;34m\u001b[0m\u001b[0m\n\u001b[0;32m--> 670\u001b[0;31m         \u001b[0miloc\u001b[0m\u001b[0;34m.\u001b[0m\u001b[0m_setitem_with_indexer\u001b[0m\u001b[0;34m(\u001b[0m\u001b[0mindexer\u001b[0m\u001b[0;34m,\u001b[0m \u001b[0mvalue\u001b[0m\u001b[0;34m)\u001b[0m\u001b[0;34m\u001b[0m\u001b[0;34m\u001b[0m\u001b[0m\n\u001b[0m\u001b[1;32m    671\u001b[0m \u001b[0;34m\u001b[0m\u001b[0m\n\u001b[1;32m    672\u001b[0m     \u001b[0;32mdef\u001b[0m \u001b[0m_validate_key\u001b[0m\u001b[0;34m(\u001b[0m\u001b[0mself\u001b[0m\u001b[0;34m,\u001b[0m \u001b[0mkey\u001b[0m\u001b[0;34m,\u001b[0m \u001b[0maxis\u001b[0m\u001b[0;34m:\u001b[0m \u001b[0mint\u001b[0m\u001b[0;34m)\u001b[0m\u001b[0;34m:\u001b[0m\u001b[0;34m\u001b[0m\u001b[0;34m\u001b[0m\u001b[0m\n",
      "\u001b[0;32m~/Desktop/code_scratchpad/python/data-science/venv/lib/python3.8/site-packages/pandas/core/indexing.py\u001b[0m in \u001b[0;36m_setitem_with_indexer\u001b[0;34m(self, indexer, value)\u001b[0m\n\u001b[1;32m   1798\u001b[0m             \u001b[0;31m# actually do the set\u001b[0m\u001b[0;34m\u001b[0m\u001b[0;34m\u001b[0m\u001b[0;34m\u001b[0m\u001b[0m\n\u001b[1;32m   1799\u001b[0m             \u001b[0mself\u001b[0m\u001b[0;34m.\u001b[0m\u001b[0mobj\u001b[0m\u001b[0;34m.\u001b[0m\u001b[0m_consolidate_inplace\u001b[0m\u001b[0;34m(\u001b[0m\u001b[0;34m)\u001b[0m\u001b[0;34m\u001b[0m\u001b[0;34m\u001b[0m\u001b[0m\n\u001b[0;32m-> 1800\u001b[0;31m             \u001b[0mself\u001b[0m\u001b[0;34m.\u001b[0m\u001b[0mobj\u001b[0m\u001b[0;34m.\u001b[0m\u001b[0m_mgr\u001b[0m \u001b[0;34m=\u001b[0m \u001b[0mself\u001b[0m\u001b[0;34m.\u001b[0m\u001b[0mobj\u001b[0m\u001b[0;34m.\u001b[0m\u001b[0m_mgr\u001b[0m\u001b[0;34m.\u001b[0m\u001b[0msetitem\u001b[0m\u001b[0;34m(\u001b[0m\u001b[0mindexer\u001b[0m\u001b[0;34m=\u001b[0m\u001b[0mindexer\u001b[0m\u001b[0;34m,\u001b[0m \u001b[0mvalue\u001b[0m\u001b[0;34m=\u001b[0m\u001b[0mvalue\u001b[0m\u001b[0;34m)\u001b[0m\u001b[0;34m\u001b[0m\u001b[0;34m\u001b[0m\u001b[0m\n\u001b[0m\u001b[1;32m   1801\u001b[0m             \u001b[0mself\u001b[0m\u001b[0;34m.\u001b[0m\u001b[0mobj\u001b[0m\u001b[0;34m.\u001b[0m\u001b[0m_maybe_update_cacher\u001b[0m\u001b[0;34m(\u001b[0m\u001b[0mclear\u001b[0m\u001b[0;34m=\u001b[0m\u001b[0;32mTrue\u001b[0m\u001b[0;34m)\u001b[0m\u001b[0;34m\u001b[0m\u001b[0;34m\u001b[0m\u001b[0m\n\u001b[1;32m   1802\u001b[0m \u001b[0;34m\u001b[0m\u001b[0m\n",
      "\u001b[0;32m~/Desktop/code_scratchpad/python/data-science/venv/lib/python3.8/site-packages/pandas/core/internals/managers.py\u001b[0m in \u001b[0;36msetitem\u001b[0;34m(self, indexer, value)\u001b[0m\n\u001b[1;32m    532\u001b[0m \u001b[0;34m\u001b[0m\u001b[0m\n\u001b[1;32m    533\u001b[0m     \u001b[0;32mdef\u001b[0m \u001b[0msetitem\u001b[0m\u001b[0;34m(\u001b[0m\u001b[0mself\u001b[0m\u001b[0;34m,\u001b[0m \u001b[0mindexer\u001b[0m\u001b[0;34m,\u001b[0m \u001b[0mvalue\u001b[0m\u001b[0;34m)\u001b[0m \u001b[0;34m->\u001b[0m \u001b[0;34m\"BlockManager\"\u001b[0m\u001b[0;34m:\u001b[0m\u001b[0;34m\u001b[0m\u001b[0;34m\u001b[0m\u001b[0m\n\u001b[0;32m--> 534\u001b[0;31m         \u001b[0;32mreturn\u001b[0m \u001b[0mself\u001b[0m\u001b[0;34m.\u001b[0m\u001b[0mapply\u001b[0m\u001b[0;34m(\u001b[0m\u001b[0;34m\"setitem\"\u001b[0m\u001b[0;34m,\u001b[0m \u001b[0mindexer\u001b[0m\u001b[0;34m=\u001b[0m\u001b[0mindexer\u001b[0m\u001b[0;34m,\u001b[0m \u001b[0mvalue\u001b[0m\u001b[0;34m=\u001b[0m\u001b[0mvalue\u001b[0m\u001b[0;34m)\u001b[0m\u001b[0;34m\u001b[0m\u001b[0;34m\u001b[0m\u001b[0m\n\u001b[0m\u001b[1;32m    535\u001b[0m \u001b[0;34m\u001b[0m\u001b[0m\n\u001b[1;32m    536\u001b[0m     def putmask(\n",
      "\u001b[0;32m~/Desktop/code_scratchpad/python/data-science/venv/lib/python3.8/site-packages/pandas/core/internals/managers.py\u001b[0m in \u001b[0;36mapply\u001b[0;34m(self, f, align_keys, **kwargs)\u001b[0m\n\u001b[1;32m    404\u001b[0m                 \u001b[0mapplied\u001b[0m \u001b[0;34m=\u001b[0m \u001b[0mb\u001b[0m\u001b[0;34m.\u001b[0m\u001b[0mapply\u001b[0m\u001b[0;34m(\u001b[0m\u001b[0mf\u001b[0m\u001b[0;34m,\u001b[0m \u001b[0;34m**\u001b[0m\u001b[0mkwargs\u001b[0m\u001b[0;34m)\u001b[0m\u001b[0;34m\u001b[0m\u001b[0;34m\u001b[0m\u001b[0m\n\u001b[1;32m    405\u001b[0m             \u001b[0;32melse\u001b[0m\u001b[0;34m:\u001b[0m\u001b[0;34m\u001b[0m\u001b[0;34m\u001b[0m\u001b[0m\n\u001b[0;32m--> 406\u001b[0;31m                 \u001b[0mapplied\u001b[0m \u001b[0;34m=\u001b[0m \u001b[0mgetattr\u001b[0m\u001b[0;34m(\u001b[0m\u001b[0mb\u001b[0m\u001b[0;34m,\u001b[0m \u001b[0mf\u001b[0m\u001b[0;34m)\u001b[0m\u001b[0;34m(\u001b[0m\u001b[0;34m**\u001b[0m\u001b[0mkwargs\u001b[0m\u001b[0;34m)\u001b[0m\u001b[0;34m\u001b[0m\u001b[0;34m\u001b[0m\u001b[0m\n\u001b[0m\u001b[1;32m    407\u001b[0m             \u001b[0mresult_blocks\u001b[0m \u001b[0;34m=\u001b[0m \u001b[0m_extend_blocks\u001b[0m\u001b[0;34m(\u001b[0m\u001b[0mapplied\u001b[0m\u001b[0;34m,\u001b[0m \u001b[0mresult_blocks\u001b[0m\u001b[0;34m)\u001b[0m\u001b[0;34m\u001b[0m\u001b[0;34m\u001b[0m\u001b[0m\n\u001b[1;32m    408\u001b[0m \u001b[0;34m\u001b[0m\u001b[0m\n",
      "\u001b[0;32m~/Desktop/code_scratchpad/python/data-science/venv/lib/python3.8/site-packages/pandas/core/internals/blocks.py\u001b[0m in \u001b[0;36msetitem\u001b[0;34m(self, indexer, value)\u001b[0m\n\u001b[1;32m   1686\u001b[0m \u001b[0;34m\u001b[0m\u001b[0m\n\u001b[1;32m   1687\u001b[0m         \u001b[0mcheck_setitem_lengths\u001b[0m\u001b[0;34m(\u001b[0m\u001b[0mindexer\u001b[0m\u001b[0;34m,\u001b[0m \u001b[0mvalue\u001b[0m\u001b[0;34m,\u001b[0m \u001b[0mself\u001b[0m\u001b[0;34m.\u001b[0m\u001b[0mvalues\u001b[0m\u001b[0;34m)\u001b[0m\u001b[0;34m\u001b[0m\u001b[0;34m\u001b[0m\u001b[0m\n\u001b[0;32m-> 1688\u001b[0;31m         \u001b[0mself\u001b[0m\u001b[0;34m.\u001b[0m\u001b[0mvalues\u001b[0m\u001b[0;34m[\u001b[0m\u001b[0mindexer\u001b[0m\u001b[0;34m]\u001b[0m \u001b[0;34m=\u001b[0m \u001b[0mvalue\u001b[0m\u001b[0;34m\u001b[0m\u001b[0;34m\u001b[0m\u001b[0m\n\u001b[0m\u001b[1;32m   1689\u001b[0m         \u001b[0;32mreturn\u001b[0m \u001b[0mself\u001b[0m\u001b[0;34m\u001b[0m\u001b[0;34m\u001b[0m\u001b[0m\n\u001b[1;32m   1690\u001b[0m \u001b[0;34m\u001b[0m\u001b[0m\n",
      "\u001b[0;32m~/Desktop/code_scratchpad/python/data-science/venv/lib/python3.8/site-packages/pandas/core/arrays/categorical.py\u001b[0m in \u001b[0;36m__setitem__\u001b[0;34m(self, key, value)\u001b[0m\n\u001b[1;32m   2008\u001b[0m         \u001b[0;31m# something to np.nan\u001b[0m\u001b[0;34m\u001b[0m\u001b[0;34m\u001b[0m\u001b[0;34m\u001b[0m\u001b[0m\n\u001b[1;32m   2009\u001b[0m         \u001b[0;32mif\u001b[0m \u001b[0mlen\u001b[0m\u001b[0;34m(\u001b[0m\u001b[0mto_add\u001b[0m\u001b[0;34m)\u001b[0m \u001b[0;32mand\u001b[0m \u001b[0;32mnot\u001b[0m \u001b[0misna\u001b[0m\u001b[0;34m(\u001b[0m\u001b[0mto_add\u001b[0m\u001b[0;34m)\u001b[0m\u001b[0;34m.\u001b[0m\u001b[0mall\u001b[0m\u001b[0;34m(\u001b[0m\u001b[0;34m)\u001b[0m\u001b[0;34m:\u001b[0m\u001b[0;34m\u001b[0m\u001b[0;34m\u001b[0m\u001b[0m\n\u001b[0;32m-> 2010\u001b[0;31m             raise ValueError(\n\u001b[0m\u001b[1;32m   2011\u001b[0m                 \u001b[0;34m\"Cannot setitem on a Categorical with a new \"\u001b[0m\u001b[0;34m\u001b[0m\u001b[0;34m\u001b[0m\u001b[0m\n\u001b[1;32m   2012\u001b[0m                 \u001b[0;34m\"category, set the categories first\"\u001b[0m\u001b[0;34m\u001b[0m\u001b[0;34m\u001b[0m\u001b[0m\n",
      "\u001b[0;31mValueError\u001b[0m: Cannot setitem on a Categorical with a new category, set the categories first"
     ]
    }
   ],
   "source": [
    "# cannot just add new cat to df\n",
    "ccolors.iloc[5] = 'olive green'"
   ]
  },
  {
   "cell_type": "code",
   "execution_count": 33,
   "metadata": {
    "ExecuteTime": {
     "end_time": "2020-11-03T11:38:47.374673Z",
     "start_time": "2020-11-03T11:38:47.371109Z"
    }
   },
   "outputs": [],
   "source": [
    "ccolors = ccolors.cat.add_categories(['olive green'])"
   ]
  },
  {
   "cell_type": "code",
   "execution_count": 34,
   "metadata": {
    "ExecuteTime": {
     "end_time": "2020-11-03T11:38:52.637977Z",
     "start_time": "2020-11-03T11:38:52.634430Z"
    }
   },
   "outputs": [],
   "source": [
    "ccolors.iloc[5] = 'olive green'"
   ]
  },
  {
   "cell_type": "code",
   "execution_count": 35,
   "metadata": {
    "ExecuteTime": {
     "end_time": "2020-11-03T11:38:55.713150Z",
     "start_time": "2020-11-03T11:38:55.707831Z"
    }
   },
   "outputs": [
    {
     "data": {
      "text/plain": [
       "0      periwinkle\n",
       "1      mint green\n",
       "2    burnt orange\n",
       "3      periwinkle\n",
       "4    burnt orange\n",
       "5     olive green\n",
       "6            rose\n",
       "7      mint green\n",
       "8            rose\n",
       "9            navy\n",
       "dtype: category\n",
       "Categories (6, object): ['burnt orange', 'mint green', 'navy', 'periwinkle', 'rose', 'olive green']"
      ]
     },
     "execution_count": 35,
     "metadata": {},
     "output_type": "execute_result"
    }
   ],
   "source": [
    "ccolors"
   ]
  },
  {
   "cell_type": "markdown",
   "metadata": {},
   "source": [
    "## Introspect Groupby Objects via Iteration"
   ]
  },
  {
   "cell_type": "code",
   "execution_count": 36,
   "metadata": {
    "ExecuteTime": {
     "end_time": "2020-11-03T11:43:44.515393Z",
     "start_time": "2020-11-03T11:43:43.297706Z"
    }
   },
   "outputs": [
    {
     "data": {
      "text/html": [
       "<div>\n",
       "<style scoped>\n",
       "    .dataframe tbody tr th:only-of-type {\n",
       "        vertical-align: middle;\n",
       "    }\n",
       "\n",
       "    .dataframe tbody tr th {\n",
       "        vertical-align: top;\n",
       "    }\n",
       "\n",
       "    .dataframe thead th {\n",
       "        text-align: right;\n",
       "    }\n",
       "</style>\n",
       "<table border=\"1\" class=\"dataframe\">\n",
       "  <thead>\n",
       "    <tr style=\"text-align: right;\">\n",
       "      <th></th>\n",
       "      <th>sex</th>\n",
       "      <th>length</th>\n",
       "      <th>diam</th>\n",
       "      <th>height</th>\n",
       "      <th>weight</th>\n",
       "      <th>rings</th>\n",
       "    </tr>\n",
       "  </thead>\n",
       "  <tbody>\n",
       "    <tr>\n",
       "      <th>0</th>\n",
       "      <td>M</td>\n",
       "      <td>0.455</td>\n",
       "      <td>0.365</td>\n",
       "      <td>0.095</td>\n",
       "      <td>0.5140</td>\n",
       "      <td>15</td>\n",
       "    </tr>\n",
       "    <tr>\n",
       "      <th>1</th>\n",
       "      <td>M</td>\n",
       "      <td>0.350</td>\n",
       "      <td>0.265</td>\n",
       "      <td>0.090</td>\n",
       "      <td>0.2255</td>\n",
       "      <td>7</td>\n",
       "    </tr>\n",
       "    <tr>\n",
       "      <th>2</th>\n",
       "      <td>F</td>\n",
       "      <td>0.530</td>\n",
       "      <td>0.420</td>\n",
       "      <td>0.135</td>\n",
       "      <td>0.6770</td>\n",
       "      <td>9</td>\n",
       "    </tr>\n",
       "    <tr>\n",
       "      <th>3</th>\n",
       "      <td>M</td>\n",
       "      <td>0.440</td>\n",
       "      <td>0.365</td>\n",
       "      <td>0.125</td>\n",
       "      <td>0.5160</td>\n",
       "      <td>10</td>\n",
       "    </tr>\n",
       "    <tr>\n",
       "      <th>4</th>\n",
       "      <td>I</td>\n",
       "      <td>0.330</td>\n",
       "      <td>0.255</td>\n",
       "      <td>0.080</td>\n",
       "      <td>0.2050</td>\n",
       "      <td>7</td>\n",
       "    </tr>\n",
       "    <tr>\n",
       "      <th>...</th>\n",
       "      <td>...</td>\n",
       "      <td>...</td>\n",
       "      <td>...</td>\n",
       "      <td>...</td>\n",
       "      <td>...</td>\n",
       "      <td>...</td>\n",
       "    </tr>\n",
       "    <tr>\n",
       "      <th>4172</th>\n",
       "      <td>F</td>\n",
       "      <td>0.565</td>\n",
       "      <td>0.450</td>\n",
       "      <td>0.165</td>\n",
       "      <td>0.8870</td>\n",
       "      <td>11</td>\n",
       "    </tr>\n",
       "    <tr>\n",
       "      <th>4173</th>\n",
       "      <td>M</td>\n",
       "      <td>0.590</td>\n",
       "      <td>0.440</td>\n",
       "      <td>0.135</td>\n",
       "      <td>0.9660</td>\n",
       "      <td>10</td>\n",
       "    </tr>\n",
       "    <tr>\n",
       "      <th>4174</th>\n",
       "      <td>M</td>\n",
       "      <td>0.600</td>\n",
       "      <td>0.475</td>\n",
       "      <td>0.205</td>\n",
       "      <td>1.1760</td>\n",
       "      <td>9</td>\n",
       "    </tr>\n",
       "    <tr>\n",
       "      <th>4175</th>\n",
       "      <td>F</td>\n",
       "      <td>0.625</td>\n",
       "      <td>0.485</td>\n",
       "      <td>0.150</td>\n",
       "      <td>1.0945</td>\n",
       "      <td>10</td>\n",
       "    </tr>\n",
       "    <tr>\n",
       "      <th>4176</th>\n",
       "      <td>M</td>\n",
       "      <td>0.710</td>\n",
       "      <td>0.555</td>\n",
       "      <td>0.195</td>\n",
       "      <td>1.9485</td>\n",
       "      <td>12</td>\n",
       "    </tr>\n",
       "  </tbody>\n",
       "</table>\n",
       "<p>4177 rows × 6 columns</p>\n",
       "</div>"
      ],
      "text/plain": [
       "     sex  length   diam  height  weight  rings\n",
       "0      M   0.455  0.365   0.095  0.5140     15\n",
       "1      M   0.350  0.265   0.090  0.2255      7\n",
       "2      F   0.530  0.420   0.135  0.6770      9\n",
       "3      M   0.440  0.365   0.125  0.5160     10\n",
       "4      I   0.330  0.255   0.080  0.2050      7\n",
       "...   ..     ...    ...     ...     ...    ...\n",
       "4172   F   0.565  0.450   0.165  0.8870     11\n",
       "4173   M   0.590  0.440   0.135  0.9660     10\n",
       "4174   M   0.600  0.475   0.205  1.1760      9\n",
       "4175   F   0.625  0.485   0.150  1.0945     10\n",
       "4176   M   0.710  0.555   0.195  1.9485     12\n",
       "\n",
       "[4177 rows x 6 columns]"
      ]
     },
     "execution_count": 36,
     "metadata": {},
     "output_type": "execute_result"
    }
   ],
   "source": [
    "url = 'https://archive.ics.uci.edu/ml/machine-learning-databases/abalone/abalone.data'\n",
    "cols = ['sex', 'length', 'diam', 'height', 'weight', 'rings']\n",
    "abalone = pd.read_csv(url, usecols=[0,1,2,3,4,8], names=cols)\n",
    "abalone"
   ]
  },
  {
   "cell_type": "code",
   "execution_count": 40,
   "metadata": {
    "ExecuteTime": {
     "end_time": "2020-11-03T11:47:24.139663Z",
     "start_time": "2020-11-03T11:47:24.116453Z"
    }
   },
   "outputs": [
    {
     "data": {
      "text/html": [
       "<div>\n",
       "<style scoped>\n",
       "    .dataframe tbody tr th:only-of-type {\n",
       "        vertical-align: middle;\n",
       "    }\n",
       "\n",
       "    .dataframe tbody tr th {\n",
       "        vertical-align: top;\n",
       "    }\n",
       "\n",
       "    .dataframe thead th {\n",
       "        text-align: right;\n",
       "    }\n",
       "</style>\n",
       "<table border=\"1\" class=\"dataframe\">\n",
       "  <thead>\n",
       "    <tr style=\"text-align: right;\">\n",
       "      <th></th>\n",
       "      <th>sex</th>\n",
       "      <th>length</th>\n",
       "      <th>diam</th>\n",
       "      <th>height</th>\n",
       "      <th>weight</th>\n",
       "      <th>rings</th>\n",
       "      <th>ring_quartile</th>\n",
       "    </tr>\n",
       "  </thead>\n",
       "  <tbody>\n",
       "    <tr>\n",
       "      <th>0</th>\n",
       "      <td>M</td>\n",
       "      <td>0.455</td>\n",
       "      <td>0.365</td>\n",
       "      <td>0.095</td>\n",
       "      <td>0.5140</td>\n",
       "      <td>15</td>\n",
       "      <td>4</td>\n",
       "    </tr>\n",
       "    <tr>\n",
       "      <th>1</th>\n",
       "      <td>M</td>\n",
       "      <td>0.350</td>\n",
       "      <td>0.265</td>\n",
       "      <td>0.090</td>\n",
       "      <td>0.2255</td>\n",
       "      <td>7</td>\n",
       "      <td>1</td>\n",
       "    </tr>\n",
       "    <tr>\n",
       "      <th>2</th>\n",
       "      <td>F</td>\n",
       "      <td>0.530</td>\n",
       "      <td>0.420</td>\n",
       "      <td>0.135</td>\n",
       "      <td>0.6770</td>\n",
       "      <td>9</td>\n",
       "      <td>2</td>\n",
       "    </tr>\n",
       "    <tr>\n",
       "      <th>3</th>\n",
       "      <td>M</td>\n",
       "      <td>0.440</td>\n",
       "      <td>0.365</td>\n",
       "      <td>0.125</td>\n",
       "      <td>0.5160</td>\n",
       "      <td>10</td>\n",
       "      <td>3</td>\n",
       "    </tr>\n",
       "    <tr>\n",
       "      <th>4</th>\n",
       "      <td>I</td>\n",
       "      <td>0.330</td>\n",
       "      <td>0.255</td>\n",
       "      <td>0.080</td>\n",
       "      <td>0.2050</td>\n",
       "      <td>7</td>\n",
       "      <td>1</td>\n",
       "    </tr>\n",
       "    <tr>\n",
       "      <th>...</th>\n",
       "      <td>...</td>\n",
       "      <td>...</td>\n",
       "      <td>...</td>\n",
       "      <td>...</td>\n",
       "      <td>...</td>\n",
       "      <td>...</td>\n",
       "      <td>...</td>\n",
       "    </tr>\n",
       "    <tr>\n",
       "      <th>4172</th>\n",
       "      <td>F</td>\n",
       "      <td>0.565</td>\n",
       "      <td>0.450</td>\n",
       "      <td>0.165</td>\n",
       "      <td>0.8870</td>\n",
       "      <td>11</td>\n",
       "      <td>3</td>\n",
       "    </tr>\n",
       "    <tr>\n",
       "      <th>4173</th>\n",
       "      <td>M</td>\n",
       "      <td>0.590</td>\n",
       "      <td>0.440</td>\n",
       "      <td>0.135</td>\n",
       "      <td>0.9660</td>\n",
       "      <td>10</td>\n",
       "      <td>3</td>\n",
       "    </tr>\n",
       "    <tr>\n",
       "      <th>4174</th>\n",
       "      <td>M</td>\n",
       "      <td>0.600</td>\n",
       "      <td>0.475</td>\n",
       "      <td>0.205</td>\n",
       "      <td>1.1760</td>\n",
       "      <td>9</td>\n",
       "      <td>2</td>\n",
       "    </tr>\n",
       "    <tr>\n",
       "      <th>4175</th>\n",
       "      <td>F</td>\n",
       "      <td>0.625</td>\n",
       "      <td>0.485</td>\n",
       "      <td>0.150</td>\n",
       "      <td>1.0945</td>\n",
       "      <td>10</td>\n",
       "      <td>3</td>\n",
       "    </tr>\n",
       "    <tr>\n",
       "      <th>4176</th>\n",
       "      <td>M</td>\n",
       "      <td>0.710</td>\n",
       "      <td>0.555</td>\n",
       "      <td>0.195</td>\n",
       "      <td>1.9485</td>\n",
       "      <td>12</td>\n",
       "      <td>4</td>\n",
       "    </tr>\n",
       "  </tbody>\n",
       "</table>\n",
       "<p>4177 rows × 7 columns</p>\n",
       "</div>"
      ],
      "text/plain": [
       "     sex  length   diam  height  weight  rings ring_quartile\n",
       "0      M   0.455  0.365   0.095  0.5140     15             4\n",
       "1      M   0.350  0.265   0.090  0.2255      7             1\n",
       "2      F   0.530  0.420   0.135  0.6770      9             2\n",
       "3      M   0.440  0.365   0.125  0.5160     10             3\n",
       "4      I   0.330  0.255   0.080  0.2050      7             1\n",
       "...   ..     ...    ...     ...     ...    ...           ...\n",
       "4172   F   0.565  0.450   0.165  0.8870     11             3\n",
       "4173   M   0.590  0.440   0.135  0.9660     10             3\n",
       "4174   M   0.600  0.475   0.205  1.1760      9             2\n",
       "4175   F   0.625  0.485   0.150  1.0945     10             3\n",
       "4176   M   0.710  0.555   0.195  1.9485     12             4\n",
       "\n",
       "[4177 rows x 7 columns]"
      ]
     },
     "execution_count": 40,
     "metadata": {},
     "output_type": "execute_result"
    }
   ],
   "source": [
    "# create column by splitting rings into 4 buckets\n",
    "abalone['ring_quartile'] = pd.qcut(abalone['rings'], q=4, labels=range(1,5))\n",
    "abalone"
   ]
  },
  {
   "cell_type": "code",
   "execution_count": 42,
   "metadata": {
    "ExecuteTime": {
     "end_time": "2020-11-03T11:47:54.598266Z",
     "start_time": "2020-11-03T11:47:54.593317Z"
    }
   },
   "outputs": [
    {
     "data": {
      "text/plain": [
       "<pandas.core.groupby.generic.DataFrameGroupBy object at 0x133b6f220>"
      ]
     },
     "execution_count": 42,
     "metadata": {},
     "output_type": "execute_result"
    }
   ],
   "source": [
    "grouped = abalone.groupby('ring_quartile')\n",
    "grouped"
   ]
  },
  {
   "cell_type": "code",
   "execution_count": 43,
   "metadata": {
    "ExecuteTime": {
     "end_time": "2020-11-03T11:49:49.392827Z",
     "start_time": "2020-11-03T11:49:49.368103Z"
    }
   },
   "outputs": [
    {
     "name": "stdout",
     "output_type": "stream",
     "text": [
      "Ring Quartile: 1\n",
      "----------------\n",
      "     sex  length   diam  height  weight  rings ring_quartile\n",
      "2619   M   0.690  0.540   0.185  1.7100      8             1\n",
      "1044   M   0.690  0.525   0.175  1.7005      8             1\n",
      "1026   M   0.645  0.520   0.175  1.5610      8             1\n",
      "\n",
      "Ring Quartile: 2\n",
      "----------------\n",
      "     sex  length  diam  height  weight  rings ring_quartile\n",
      "2811   M   0.725  0.57   0.190  2.3305      9             2\n",
      "1426   F   0.745  0.57   0.215  2.2500      9             2\n",
      "1821   F   0.720  0.55   0.195  2.0730      9             2\n",
      "\n",
      "Ring Quartile: 3\n",
      "----------------\n",
      "     sex  length  diam  height  weight  rings ring_quartile\n",
      "1209   F   0.780  0.63   0.215   2.657     11             3\n",
      "1051   F   0.735  0.60   0.220   2.555     11             3\n",
      "3715   M   0.780  0.60   0.210   2.548     11             3\n",
      "\n",
      "Ring Quartile: 4\n",
      "----------------\n",
      "     sex  length   diam  height  weight  rings ring_quartile\n",
      "891    M   0.730  0.595    0.23  2.8255     17             4\n",
      "1763   M   0.775  0.630    0.25  2.7795     12             4\n",
      "165    M   0.725  0.570    0.19  2.5500     14             4\n",
      "\n"
     ]
    }
   ],
   "source": [
    "for index, frame in grouped:\n",
    "    print(f'Ring Quartile: {index}')\n",
    "    print('-'*16)\n",
    "    # show the largest 3 by weight\n",
    "    print(frame.nlargest(3, 'weight'), end=\"\\n\\n\")"
   ]
  },
  {
   "cell_type": "code",
   "execution_count": 46,
   "metadata": {
    "ExecuteTime": {
     "end_time": "2020-11-03T11:52:05.576721Z",
     "start_time": "2020-11-03T11:52:05.573155Z"
    }
   },
   "outputs": [
    {
     "data": {
      "text/plain": [
       "dict_keys([1, 2, 3, 4])"
      ]
     },
     "execution_count": 46,
     "metadata": {},
     "output_type": "execute_result"
    }
   ],
   "source": [
    "# view the group keys\n",
    "grouped.groups.keys()"
   ]
  },
  {
   "cell_type": "code",
   "execution_count": 48,
   "metadata": {
    "ExecuteTime": {
     "end_time": "2020-11-03T11:52:29.542101Z",
     "start_time": "2020-11-03T11:52:29.524718Z"
    }
   },
   "outputs": [
    {
     "data": {
      "text/html": [
       "<div>\n",
       "<style scoped>\n",
       "    .dataframe tbody tr th:only-of-type {\n",
       "        vertical-align: middle;\n",
       "    }\n",
       "\n",
       "    .dataframe tbody tr th {\n",
       "        vertical-align: top;\n",
       "    }\n",
       "\n",
       "    .dataframe thead th {\n",
       "        text-align: right;\n",
       "    }\n",
       "</style>\n",
       "<table border=\"1\" class=\"dataframe\">\n",
       "  <thead>\n",
       "    <tr style=\"text-align: right;\">\n",
       "      <th></th>\n",
       "      <th>sex</th>\n",
       "      <th>length</th>\n",
       "      <th>diam</th>\n",
       "      <th>height</th>\n",
       "      <th>weight</th>\n",
       "      <th>rings</th>\n",
       "      <th>ring_quartile</th>\n",
       "    </tr>\n",
       "  </thead>\n",
       "  <tbody>\n",
       "    <tr>\n",
       "      <th>2</th>\n",
       "      <td>F</td>\n",
       "      <td>0.530</td>\n",
       "      <td>0.420</td>\n",
       "      <td>0.135</td>\n",
       "      <td>0.6770</td>\n",
       "      <td>9</td>\n",
       "      <td>2</td>\n",
       "    </tr>\n",
       "    <tr>\n",
       "      <th>8</th>\n",
       "      <td>M</td>\n",
       "      <td>0.475</td>\n",
       "      <td>0.370</td>\n",
       "      <td>0.125</td>\n",
       "      <td>0.5095</td>\n",
       "      <td>9</td>\n",
       "      <td>2</td>\n",
       "    </tr>\n",
       "    <tr>\n",
       "      <th>19</th>\n",
       "      <td>M</td>\n",
       "      <td>0.450</td>\n",
       "      <td>0.320</td>\n",
       "      <td>0.100</td>\n",
       "      <td>0.3810</td>\n",
       "      <td>9</td>\n",
       "      <td>2</td>\n",
       "    </tr>\n",
       "    <tr>\n",
       "      <th>23</th>\n",
       "      <td>F</td>\n",
       "      <td>0.550</td>\n",
       "      <td>0.415</td>\n",
       "      <td>0.135</td>\n",
       "      <td>0.7635</td>\n",
       "      <td>9</td>\n",
       "      <td>2</td>\n",
       "    </tr>\n",
       "    <tr>\n",
       "      <th>39</th>\n",
       "      <td>M</td>\n",
       "      <td>0.355</td>\n",
       "      <td>0.290</td>\n",
       "      <td>0.090</td>\n",
       "      <td>0.3275</td>\n",
       "      <td>9</td>\n",
       "      <td>2</td>\n",
       "    </tr>\n",
       "    <tr>\n",
       "      <th>...</th>\n",
       "      <td>...</td>\n",
       "      <td>...</td>\n",
       "      <td>...</td>\n",
       "      <td>...</td>\n",
       "      <td>...</td>\n",
       "      <td>...</td>\n",
       "      <td>...</td>\n",
       "    </tr>\n",
       "    <tr>\n",
       "      <th>4134</th>\n",
       "      <td>F</td>\n",
       "      <td>0.595</td>\n",
       "      <td>0.455</td>\n",
       "      <td>0.140</td>\n",
       "      <td>0.9140</td>\n",
       "      <td>9</td>\n",
       "      <td>2</td>\n",
       "    </tr>\n",
       "    <tr>\n",
       "      <th>4136</th>\n",
       "      <td>F</td>\n",
       "      <td>0.615</td>\n",
       "      <td>0.495</td>\n",
       "      <td>0.155</td>\n",
       "      <td>1.0805</td>\n",
       "      <td>9</td>\n",
       "      <td>2</td>\n",
       "    </tr>\n",
       "    <tr>\n",
       "      <th>4159</th>\n",
       "      <td>F</td>\n",
       "      <td>0.560</td>\n",
       "      <td>0.440</td>\n",
       "      <td>0.135</td>\n",
       "      <td>0.8025</td>\n",
       "      <td>9</td>\n",
       "      <td>2</td>\n",
       "    </tr>\n",
       "    <tr>\n",
       "      <th>4167</th>\n",
       "      <td>M</td>\n",
       "      <td>0.500</td>\n",
       "      <td>0.380</td>\n",
       "      <td>0.125</td>\n",
       "      <td>0.5770</td>\n",
       "      <td>9</td>\n",
       "      <td>2</td>\n",
       "    </tr>\n",
       "    <tr>\n",
       "      <th>4174</th>\n",
       "      <td>M</td>\n",
       "      <td>0.600</td>\n",
       "      <td>0.475</td>\n",
       "      <td>0.205</td>\n",
       "      <td>1.1760</td>\n",
       "      <td>9</td>\n",
       "      <td>2</td>\n",
       "    </tr>\n",
       "  </tbody>\n",
       "</table>\n",
       "<p>689 rows × 7 columns</p>\n",
       "</div>"
      ],
      "text/plain": [
       "     sex  length   diam  height  weight  rings ring_quartile\n",
       "2      F   0.530  0.420   0.135  0.6770      9             2\n",
       "8      M   0.475  0.370   0.125  0.5095      9             2\n",
       "19     M   0.450  0.320   0.100  0.3810      9             2\n",
       "23     F   0.550  0.415   0.135  0.7635      9             2\n",
       "39     M   0.355  0.290   0.090  0.3275      9             2\n",
       "...   ..     ...    ...     ...     ...    ...           ...\n",
       "4134   F   0.595  0.455   0.140  0.9140      9             2\n",
       "4136   F   0.615  0.495   0.155  1.0805      9             2\n",
       "4159   F   0.560  0.440   0.135  0.8025      9             2\n",
       "4167   M   0.500  0.380   0.125  0.5770      9             2\n",
       "4174   M   0.600  0.475   0.205  1.1760      9             2\n",
       "\n",
       "[689 rows x 7 columns]"
      ]
     },
     "execution_count": 48,
     "metadata": {},
     "output_type": "execute_result"
    }
   ],
   "source": [
    "# get group\n",
    "grouped.get_group(2)"
   ]
  },
  {
   "cell_type": "code",
   "execution_count": 52,
   "metadata": {
    "ExecuteTime": {
     "end_time": "2020-11-03T11:53:50.297457Z",
     "start_time": "2020-11-03T11:53:50.279497Z"
    }
   },
   "outputs": [
    {
     "name": "stderr",
     "output_type": "stream",
     "text": [
      "<ipython-input-52-6242fd306bc9>:2: FutureWarning: Indexing with multiple keys (implicitly converted to a tuple of keys) will be deprecated, use a list instead.\n",
      "  grouped['height', 'weight'].agg(['mean', 'median'])\n"
     ]
    },
    {
     "data": {
      "text/html": [
       "<div>\n",
       "<style scoped>\n",
       "    .dataframe tbody tr th:only-of-type {\n",
       "        vertical-align: middle;\n",
       "    }\n",
       "\n",
       "    .dataframe tbody tr th {\n",
       "        vertical-align: top;\n",
       "    }\n",
       "\n",
       "    .dataframe thead tr th {\n",
       "        text-align: left;\n",
       "    }\n",
       "\n",
       "    .dataframe thead tr:last-of-type th {\n",
       "        text-align: right;\n",
       "    }\n",
       "</style>\n",
       "<table border=\"1\" class=\"dataframe\">\n",
       "  <thead>\n",
       "    <tr>\n",
       "      <th></th>\n",
       "      <th colspan=\"2\" halign=\"left\">height</th>\n",
       "      <th colspan=\"2\" halign=\"left\">weight</th>\n",
       "    </tr>\n",
       "    <tr>\n",
       "      <th></th>\n",
       "      <th>mean</th>\n",
       "      <th>median</th>\n",
       "      <th>mean</th>\n",
       "      <th>median</th>\n",
       "    </tr>\n",
       "    <tr>\n",
       "      <th>ring_quartile</th>\n",
       "      <th></th>\n",
       "      <th></th>\n",
       "      <th></th>\n",
       "      <th></th>\n",
       "    </tr>\n",
       "  </thead>\n",
       "  <tbody>\n",
       "    <tr>\n",
       "      <th>1</th>\n",
       "      <td>0.106596</td>\n",
       "      <td>0.105</td>\n",
       "      <td>0.432374</td>\n",
       "      <td>0.3685</td>\n",
       "    </tr>\n",
       "    <tr>\n",
       "      <th>2</th>\n",
       "      <td>0.142721</td>\n",
       "      <td>0.145</td>\n",
       "      <td>0.852013</td>\n",
       "      <td>0.8440</td>\n",
       "    </tr>\n",
       "    <tr>\n",
       "      <th>3</th>\n",
       "      <td>0.157203</td>\n",
       "      <td>0.155</td>\n",
       "      <td>1.066880</td>\n",
       "      <td>1.0645</td>\n",
       "    </tr>\n",
       "    <tr>\n",
       "      <th>4</th>\n",
       "      <td>0.164813</td>\n",
       "      <td>0.165</td>\n",
       "      <td>1.114892</td>\n",
       "      <td>1.0655</td>\n",
       "    </tr>\n",
       "  </tbody>\n",
       "</table>\n",
       "</div>"
      ],
      "text/plain": [
       "                 height           weight        \n",
       "                   mean median      mean  median\n",
       "ring_quartile                                   \n",
       "1              0.106596  0.105  0.432374  0.3685\n",
       "2              0.142721  0.145  0.852013  0.8440\n",
       "3              0.157203  0.155  1.066880  1.0645\n",
       "4              0.164813  0.165  1.114892  1.0655"
      ]
     },
     "execution_count": 52,
     "metadata": {},
     "output_type": "execute_result"
    }
   ],
   "source": [
    "# aggregate function on groups\n",
    "grouped['height', 'weight'].agg(['mean', 'median'])"
   ]
  },
  {
   "cell_type": "markdown",
   "metadata": {},
   "source": [
    "## Mapping Trick for Membership Binning"
   ]
  },
  {
   "cell_type": "code",
   "execution_count": 53,
   "metadata": {
    "ExecuteTime": {
     "end_time": "2020-11-03T11:55:41.482047Z",
     "start_time": "2020-11-03T11:55:41.478236Z"
    }
   },
   "outputs": [],
   "source": [
    "countries = pd.Series([\n",
    "    'United States',\n",
    "    'Canada',\n",
    "    'Mexico',\n",
    "    'Belgium',\n",
    "    'United Kingdom',\n",
    "    'Thailand'\n",
    "])\n",
    "\n",
    "groups = {\n",
    "    'North America': ('United States', 'Canada', 'Mexico', 'Greenland'),\n",
    "    'Europe': ('France', 'Germany', 'United Kingdom', 'Belgium')\n",
    "}"
   ]
  },
  {
   "cell_type": "code",
   "execution_count": 54,
   "metadata": {
    "ExecuteTime": {
     "end_time": "2020-11-03T11:56:36.718521Z",
     "start_time": "2020-11-03T11:56:36.715769Z"
    }
   },
   "outputs": [],
   "source": [
    "from typing import Any"
   ]
  },
  {
   "cell_type": "code",
   "execution_count": 56,
   "metadata": {
    "ExecuteTime": {
     "end_time": "2020-11-03T11:59:40.492295Z",
     "start_time": "2020-11-03T11:59:40.488375Z"
    }
   },
   "outputs": [],
   "source": [
    "def membership_map(s: pd.Series, groups: dict, fillvalue: Any=-1) -> pd.Series:\n",
    "    groups = {x: k for k,v in groups.items() for x in v}\n",
    "    return s.map(groups).fillna(fillvalue)"
   ]
  },
  {
   "cell_type": "code",
   "execution_count": 57,
   "metadata": {
    "ExecuteTime": {
     "end_time": "2020-11-03T12:00:37.060001Z",
     "start_time": "2020-11-03T12:00:37.054171Z"
    }
   },
   "outputs": [
    {
     "data": {
      "text/plain": [
       "0    North America\n",
       "1    North America\n",
       "2    North America\n",
       "3           Europe\n",
       "4           Europe\n",
       "5            other\n",
       "dtype: object"
      ]
     },
     "execution_count": 57,
     "metadata": {},
     "output_type": "execute_result"
    }
   ],
   "source": [
    "membership_map(countries, groups, fillvalue='other')"
   ]
  },
  {
   "cell_type": "markdown",
   "metadata": {},
   "source": [
    "## How Pandas Uses Boolean Operators"
   ]
  },
  {
   "cell_type": "code",
   "execution_count": 58,
   "metadata": {
    "ExecuteTime": {
     "end_time": "2020-11-03T12:04:38.026884Z",
     "start_time": "2020-11-03T12:04:38.022841Z"
    },
    "collapsed": true
   },
   "outputs": [
    {
     "ename": "SyntaxError",
     "evalue": "invalid syntax (<ipython-input-58-b536fa7f6a53>, line 1)",
     "output_type": "error",
     "traceback": [
      "\u001b[0;36m  File \u001b[0;32m\"<ipython-input-58-b536fa7f6a53>\"\u001b[0;36m, line \u001b[0;32m1\u001b[0m\n\u001b[0;31m    and, not, or  # boolean operators\u001b[0m\n\u001b[0m    ^\u001b[0m\n\u001b[0;31mSyntaxError\u001b[0m\u001b[0;31m:\u001b[0m invalid syntax\n"
     ]
    }
   ],
   "source": [
    "and, not, or  # boolean operators\n",
    "\n",
    "<, <=, >, >=, !=, ==  # arithmetic operators\n",
    "\n",
    "&, |, ~  # bitwise operators"
   ]
  },
  {
   "cell_type": "code",
   "execution_count": 59,
   "metadata": {
    "ExecuteTime": {
     "end_time": "2020-11-03T12:05:23.690234Z",
     "start_time": "2020-11-03T12:05:23.686049Z"
    }
   },
   "outputs": [
    {
     "data": {
      "text/plain": [
       "False"
      ]
     },
     "execution_count": 59,
     "metadata": {},
     "output_type": "execute_result"
    }
   ],
   "source": [
    "4 < 3 and 5 > 4"
   ]
  },
  {
   "cell_type": "code",
   "execution_count": 60,
   "metadata": {
    "ExecuteTime": {
     "end_time": "2020-11-03T12:05:38.867900Z",
     "start_time": "2020-11-03T12:05:38.863995Z"
    }
   },
   "outputs": [
    {
     "data": {
      "text/plain": [
       "True"
      ]
     },
     "execution_count": 60,
     "metadata": {},
     "output_type": "execute_result"
    }
   ],
   "source": [
    "4 < (3 and 5) > 4"
   ]
  },
  {
   "cell_type": "code",
   "execution_count": 61,
   "metadata": {
    "ExecuteTime": {
     "end_time": "2020-11-03T12:06:24.669927Z",
     "start_time": "2020-11-03T12:06:24.663847Z"
    }
   },
   "outputs": [
    {
     "data": {
      "text/plain": [
       "0     True\n",
       "1    False\n",
       "2    False\n",
       "dtype: bool"
      ]
     },
     "execution_count": 61,
     "metadata": {},
     "output_type": "execute_result"
    }
   ],
   "source": [
    "pd.Series([True, True, False]) & pd.Series([True, False, False])"
   ]
  },
  {
   "cell_type": "code",
   "execution_count": 62,
   "metadata": {
    "ExecuteTime": {
     "end_time": "2020-11-03T12:06:41.514834Z",
     "start_time": "2020-11-03T12:06:41.505298Z"
    }
   },
   "outputs": [
    {
     "ename": "ValueError",
     "evalue": "The truth value of a Series is ambiguous. Use a.empty, a.bool(), a.item(), a.any() or a.all().",
     "output_type": "error",
     "traceback": [
      "\u001b[0;31m---------------------------------------------------------------------------\u001b[0m",
      "\u001b[0;31mValueError\u001b[0m                                Traceback (most recent call last)",
      "\u001b[0;32m<ipython-input-62-3cc8bdb112a0>\u001b[0m in \u001b[0;36m<module>\u001b[0;34m\u001b[0m\n\u001b[0;32m----> 1\u001b[0;31m \u001b[0mpd\u001b[0m\u001b[0;34m.\u001b[0m\u001b[0mSeries\u001b[0m\u001b[0;34m(\u001b[0m\u001b[0;34m[\u001b[0m\u001b[0;32mTrue\u001b[0m\u001b[0;34m,\u001b[0m \u001b[0;32mTrue\u001b[0m\u001b[0;34m,\u001b[0m \u001b[0;32mFalse\u001b[0m\u001b[0;34m]\u001b[0m\u001b[0;34m)\u001b[0m \u001b[0;32mand\u001b[0m \u001b[0mpd\u001b[0m\u001b[0;34m.\u001b[0m\u001b[0mSeries\u001b[0m\u001b[0;34m(\u001b[0m\u001b[0;34m[\u001b[0m\u001b[0;32mTrue\u001b[0m\u001b[0;34m,\u001b[0m \u001b[0;32mFalse\u001b[0m\u001b[0;34m,\u001b[0m \u001b[0;32mFalse\u001b[0m\u001b[0;34m]\u001b[0m\u001b[0;34m)\u001b[0m\u001b[0;34m\u001b[0m\u001b[0;34m\u001b[0m\u001b[0m\n\u001b[0m",
      "\u001b[0;32m~/Desktop/code_scratchpad/python/data-science/venv/lib/python3.8/site-packages/pandas/core/generic.py\u001b[0m in \u001b[0;36m__nonzero__\u001b[0;34m(self)\u001b[0m\n\u001b[1;32m   1327\u001b[0m \u001b[0;34m\u001b[0m\u001b[0m\n\u001b[1;32m   1328\u001b[0m     \u001b[0;32mdef\u001b[0m \u001b[0m__nonzero__\u001b[0m\u001b[0;34m(\u001b[0m\u001b[0mself\u001b[0m\u001b[0;34m)\u001b[0m\u001b[0;34m:\u001b[0m\u001b[0;34m\u001b[0m\u001b[0;34m\u001b[0m\u001b[0m\n\u001b[0;32m-> 1329\u001b[0;31m         raise ValueError(\n\u001b[0m\u001b[1;32m   1330\u001b[0m             \u001b[0;34mf\"The truth value of a {type(self).__name__} is ambiguous. \"\u001b[0m\u001b[0;34m\u001b[0m\u001b[0;34m\u001b[0m\u001b[0m\n\u001b[1;32m   1331\u001b[0m             \u001b[0;34m\"Use a.empty, a.bool(), a.item(), a.any() or a.all().\"\u001b[0m\u001b[0;34m\u001b[0m\u001b[0;34m\u001b[0m\u001b[0m\n",
      "\u001b[0;31mValueError\u001b[0m: The truth value of a Series is ambiguous. Use a.empty, a.bool(), a.item(), a.any() or a.all()."
     ]
    }
   ],
   "source": [
    "pd.Series([True, True, False]) and pd.Series([True, False, False])"
   ]
  },
  {
   "cell_type": "code",
   "execution_count": 64,
   "metadata": {
    "ExecuteTime": {
     "end_time": "2020-11-03T12:07:46.696222Z",
     "start_time": "2020-11-03T12:07:46.691159Z"
    }
   },
   "outputs": [
    {
     "data": {
      "text/plain": [
       "0    0\n",
       "1    1\n",
       "2    2\n",
       "3    3\n",
       "4    4\n",
       "5    5\n",
       "6    6\n",
       "7    7\n",
       "8    8\n",
       "9    9\n",
       "dtype: int64"
      ]
     },
     "execution_count": 64,
     "metadata": {},
     "output_type": "execute_result"
    }
   ],
   "source": [
    "s = pd.Series(range(10))\n",
    "s"
   ]
  },
  {
   "cell_type": "code",
   "execution_count": 68,
   "metadata": {
    "ExecuteTime": {
     "end_time": "2020-11-03T12:08:22.102171Z",
     "start_time": "2020-11-03T12:08:22.093855Z"
    }
   },
   "outputs": [
    {
     "ename": "ValueError",
     "evalue": "The truth value of a Series is ambiguous. Use a.empty, a.bool(), a.item(), a.any() or a.all().",
     "output_type": "error",
     "traceback": [
      "\u001b[0;31m---------------------------------------------------------------------------\u001b[0m",
      "\u001b[0;31mValueError\u001b[0m                                Traceback (most recent call last)",
      "\u001b[0;32m<ipython-input-68-7f0c8295dcbf>\u001b[0m in \u001b[0;36m<module>\u001b[0;34m\u001b[0m\n\u001b[0;32m----> 1\u001b[0;31m \u001b[0ms\u001b[0m \u001b[0;34m%\u001b[0m \u001b[0;36m2\u001b[0m \u001b[0;34m==\u001b[0m \u001b[0;36m0\u001b[0m \u001b[0;34m&\u001b[0m \u001b[0ms\u001b[0m \u001b[0;34m>\u001b[0m \u001b[0;36m3\u001b[0m\u001b[0;34m\u001b[0m\u001b[0;34m\u001b[0m\u001b[0m\n\u001b[0m",
      "\u001b[0;32m~/Desktop/code_scratchpad/python/data-science/venv/lib/python3.8/site-packages/pandas/core/generic.py\u001b[0m in \u001b[0;36m__nonzero__\u001b[0;34m(self)\u001b[0m\n\u001b[1;32m   1327\u001b[0m \u001b[0;34m\u001b[0m\u001b[0m\n\u001b[1;32m   1328\u001b[0m     \u001b[0;32mdef\u001b[0m \u001b[0m__nonzero__\u001b[0m\u001b[0;34m(\u001b[0m\u001b[0mself\u001b[0m\u001b[0;34m)\u001b[0m\u001b[0;34m:\u001b[0m\u001b[0;34m\u001b[0m\u001b[0;34m\u001b[0m\u001b[0m\n\u001b[0;32m-> 1329\u001b[0;31m         raise ValueError(\n\u001b[0m\u001b[1;32m   1330\u001b[0m             \u001b[0;34mf\"The truth value of a {type(self).__name__} is ambiguous. \"\u001b[0m\u001b[0;34m\u001b[0m\u001b[0;34m\u001b[0m\u001b[0m\n\u001b[1;32m   1331\u001b[0m             \u001b[0;34m\"Use a.empty, a.bool(), a.item(), a.any() or a.all().\"\u001b[0m\u001b[0;34m\u001b[0m\u001b[0;34m\u001b[0m\u001b[0m\n",
      "\u001b[0;31mValueError\u001b[0m: The truth value of a Series is ambiguous. Use a.empty, a.bool(), a.item(), a.any() or a.all()."
     ]
    }
   ],
   "source": [
    "s % 2 == 0 & s > 3"
   ]
  },
  {
   "cell_type": "code",
   "execution_count": 69,
   "metadata": {
    "ExecuteTime": {
     "end_time": "2020-11-03T12:09:32.997037Z",
     "start_time": "2020-11-03T12:09:32.991441Z"
    }
   },
   "outputs": [
    {
     "data": {
      "text/plain": [
       "0    False\n",
       "1    False\n",
       "2    False\n",
       "3    False\n",
       "4     True\n",
       "5    False\n",
       "6     True\n",
       "7    False\n",
       "8     True\n",
       "9    False\n",
       "dtype: bool"
      ]
     },
     "execution_count": 69,
     "metadata": {},
     "output_type": "execute_result"
    }
   ],
   "source": [
    "(s % 2 == 0) & (s > 3)"
   ]
  },
  {
   "cell_type": "markdown",
   "metadata": {},
   "source": [
    "## Load Data From the Clipboard"
   ]
  },
  {
   "cell_type": "code",
   "execution_count": 72,
   "metadata": {
    "ExecuteTime": {
     "end_time": "2020-11-03T12:11:43.014136Z",
     "start_time": "2020-11-03T12:11:42.964880Z"
    }
   },
   "outputs": [
    {
     "data": {
      "text/html": [
       "<div>\n",
       "<style scoped>\n",
       "    .dataframe tbody tr th:only-of-type {\n",
       "        vertical-align: middle;\n",
       "    }\n",
       "\n",
       "    .dataframe tbody tr th {\n",
       "        vertical-align: top;\n",
       "    }\n",
       "\n",
       "    .dataframe thead th {\n",
       "        text-align: right;\n",
       "    }\n",
       "</style>\n",
       "<table border=\"1\" class=\"dataframe\">\n",
       "  <thead>\n",
       "    <tr style=\"text-align: right;\">\n",
       "      <th></th>\n",
       "      <th>Lynch</th>\n",
       "      <th>GPS</th>\n",
       "      <th>some</th>\n",
       "    </tr>\n",
       "  </thead>\n",
       "  <tbody>\n",
       "    <tr>\n",
       "      <th>0</th>\n",
       "      <td>94.92</td>\n",
       "      <td>132.274</td>\n",
       "      <td>37.354</td>\n",
       "    </tr>\n",
       "    <tr>\n",
       "      <th>1</th>\n",
       "      <td>101.15</td>\n",
       "      <td>138.626</td>\n",
       "      <td>37.476</td>\n",
       "    </tr>\n",
       "  </tbody>\n",
       "</table>\n",
       "</div>"
      ],
      "text/plain": [
       "    Lynch      GPS    some\n",
       "0   94.92  132.274  37.354\n",
       "1  101.15  138.626  37.476"
      ]
     },
     "execution_count": 72,
     "metadata": {},
     "output_type": "execute_result"
    }
   ],
   "source": [
    "# just need to go to excel or google sheet and do ctrl+c\n",
    "df = pd.read_clipboard(\n",
    "    na_values=[None],\n",
    ")\n",
    "df"
   ]
  },
  {
   "cell_type": "markdown",
   "metadata": {},
   "source": [
    "## Write Pandas Objects Directly to Compressed Formats"
   ]
  },
  {
   "cell_type": "code",
   "execution_count": 73,
   "metadata": {
    "ExecuteTime": {
     "end_time": "2020-11-03T12:14:04.422435Z",
     "start_time": "2020-11-03T12:14:03.212480Z"
    }
   },
   "outputs": [],
   "source": [
    "url = 'https://archive.ics.uci.edu/ml/machine-learning-databases/abalone/abalone.data'\n",
    "cols = ['sex', 'length', 'diam', 'height', 'weight', 'rings']\n",
    "abalone = pd.read_csv(url, usecols=[0,1,2,3,4,8], names=cols)"
   ]
  },
  {
   "cell_type": "code",
   "execution_count": 74,
   "metadata": {
    "ExecuteTime": {
     "end_time": "2020-11-03T12:15:36.528918Z",
     "start_time": "2020-11-03T12:15:36.464513Z"
    }
   },
   "outputs": [],
   "source": [
    "abalone.to_json('df.json.gz', orient='records', lines=True, compression='gzip')"
   ]
  },
  {
   "cell_type": "code",
   "execution_count": 75,
   "metadata": {
    "ExecuteTime": {
     "end_time": "2020-11-03T12:16:07.986068Z",
     "start_time": "2020-11-03T12:16:07.976642Z"
    }
   },
   "outputs": [],
   "source": [
    "abalone.to_json('df.json', orient='records', lines=True)"
   ]
  },
  {
   "cell_type": "code",
   "execution_count": 81,
   "metadata": {
    "ExecuteTime": {
     "end_time": "2020-11-03T12:18:48.848335Z",
     "start_time": "2020-11-03T12:18:48.843893Z"
    }
   },
   "outputs": [
    {
     "name": "stdout",
     "output_type": "stream",
     "text": [
      "Uncompressed: 330723\n",
      "Compressed: 33388\n",
      "Ratio: 10.095457527900994% the size of uncompressed\n"
     ]
    }
   ],
   "source": [
    "import os\n",
    "\n",
    "# check size difference of compression\n",
    "print(f\"Uncompressed: {os.path.getsize('df.json')}\")\n",
    "print(f\"Compressed: {os.path.getsize('df.json.gz')}\")\n",
    "print(f\"Ratio: {(os.path.getsize('df.json.gz')/os.path.getsize('df.json'))*100}% the size of uncompressed\")"
   ]
  },
  {
   "cell_type": "code",
   "execution_count": null,
   "metadata": {},
   "outputs": [],
   "source": []
  }
 ],
 "metadata": {
  "kernelspec": {
   "display_name": "Python 3",
   "language": "python",
   "name": "python3"
  },
  "language_info": {
   "codemirror_mode": {
    "name": "ipython",
    "version": 3
   },
   "file_extension": ".py",
   "mimetype": "text/x-python",
   "name": "python",
   "nbconvert_exporter": "python",
   "pygments_lexer": "ipython3",
   "version": "3.8.5"
  }
 },
 "nbformat": 4,
 "nbformat_minor": 4
}
