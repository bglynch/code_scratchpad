{
 "cells": [
  {
   "cell_type": "code",
   "execution_count": 11,
   "metadata": {
    "ExecuteTime": {
     "end_time": "2020-11-02T16:04:03.107750Z",
     "start_time": "2020-11-02T16:04:03.104762Z"
    }
   },
   "outputs": [],
   "source": [
    "import csv"
   ]
  },
  {
   "cell_type": "markdown",
   "metadata": {},
   "source": [
    "## Reading files"
   ]
  },
  {
   "cell_type": "code",
   "execution_count": 14,
   "metadata": {
    "ExecuteTime": {
     "end_time": "2020-11-02T16:04:16.655965Z",
     "start_time": "2020-11-02T16:04:16.650238Z"
    }
   },
   "outputs": [
    {
     "name": "stdout",
     "output_type": "stream",
     "text": [
      "Column names are \n",
      "\tname,department,birthday month\n",
      "\tJohn Smith works in the Accounting department, and was born in November\n",
      "\tErica Meyers works in the IT department, and was born in March\n",
      "Processed 3 lines.\n"
     ]
    }
   ],
   "source": [
    "# read using csv.reader\n",
    "with open('employee_birthday.csv') as csv_file:\n",
    "    csv_reader = csv.reader(csv_file, delimiter=',')\n",
    "    line_count = 0\n",
    "    for row in csv_reader:\n",
    "        if line_count ==0:\n",
    "            print(f'Column names are \\n\\t{\",\".join(row)}')\n",
    "            line_count += 1\n",
    "        else:\n",
    "            print(f'\\t{row[0]} works in the {row[1]} department, and was born in {row[2]}')\n",
    "            line_count += 1\n",
    "    print(f'Processed {line_count} lines.')"
   ]
  },
  {
   "cell_type": "code",
   "execution_count": 15,
   "metadata": {
    "ExecuteTime": {
     "end_time": "2020-11-02T16:04:34.645505Z",
     "start_time": "2020-11-02T16:04:34.639677Z"
    }
   },
   "outputs": [
    {
     "name": "stdout",
     "output_type": "stream",
     "text": [
      "Column names are \n",
      "\tname,department,birthday month\n",
      "\tJohn Smith works in the Accounting department, and was born in November\n",
      "\tErica Meyers works in the IT department, and was born in March\n",
      "Processed 3 lines.\n"
     ]
    }
   ],
   "source": [
    "# read using csv.DictReader\n",
    "with open('employee_birthday.csv') as csv_file:\n",
    "    csv_reader = csv.DictReader(csv_file, delimiter=',')\n",
    "    line_count = 0\n",
    "    for row in csv_reader:\n",
    "        if line_count ==0:\n",
    "            print(f'Column names are \\n\\t{\",\".join(row)}')\n",
    "            line_count += 1\n",
    "        print(f'\\t{row[\"name\"]} works in the {row[\"department\"]} department, and was born in {row[\"birthday month\"]}')\n",
    "        line_count += 1\n",
    "    print(f'Processed {line_count} lines.')"
   ]
  },
  {
   "cell_type": "markdown",
   "metadata": {},
   "source": [
    "## Reading files - advanced"
   ]
  },
  {
   "cell_type": "code",
   "execution_count": 17,
   "metadata": {
    "ExecuteTime": {
     "end_time": "2020-11-02T16:10:52.975998Z",
     "start_time": "2020-11-02T16:10:52.970506Z"
    }
   },
   "outputs": [
    {
     "name": "stdout",
     "output_type": "stream",
     "text": [
      "Column names are \n",
      "\tname,address,date joined\n",
      "\tJohn Smith works in the 1234 Somewhere, Cork department, and was born in Jan 01\n",
      "\tErica Meyers works in the 5678 Elsewhere, Dublin department, and was born in Feb 02\n",
      "Processed 3 lines.\n"
     ]
    }
   ],
   "source": [
    "# use different delimiter\n",
    "with open('different_delim.csv') as csv_file:\n",
    "    csv_reader = csv.reader(csv_file, delimiter='|')\n",
    "    line_count = 0\n",
    "    for row in csv_reader:\n",
    "        if line_count ==0:\n",
    "            print(f'Column names are \\n\\t{\",\".join(row)}')\n",
    "            line_count += 1\n",
    "        else:\n",
    "            print(f'\\t{row[0]} works in the {row[1]} department, and was born in {row[2]}')\n",
    "            line_count += 1\n",
    "    print(f'Processed {line_count} lines.')"
   ]
  },
  {
   "cell_type": "code",
   "execution_count": 19,
   "metadata": {
    "ExecuteTime": {
     "end_time": "2020-11-02T16:12:50.072862Z",
     "start_time": "2020-11-02T16:12:50.067132Z"
    }
   },
   "outputs": [
    {
     "name": "stdout",
     "output_type": "stream",
     "text": [
      "Column names are \n",
      "\tname,address,date joined\n",
      "\tJohn Smith works in the 1234 Somewhere, Cork department, and was born in Jan 01\n",
      "\tErica Meyers works in the 5678 Elsewhere, Dublin department, and was born in Feb 02\n",
      "Processed 3 lines.\n"
     ]
    }
   ],
   "source": [
    "# use quote charater\n",
    "with open('quote_wrapping.csv') as csv_file:\n",
    "    csv_reader = csv.reader(csv_file, delimiter=',', quotechar='\"')\n",
    "    line_count = 0\n",
    "    for row in csv_reader:\n",
    "        if line_count ==0:\n",
    "            print(f'Column names are \\n\\t{\",\".join(row)}')\n",
    "            line_count += 1\n",
    "        else:\n",
    "            print(f'\\t{row[0]} works in the {row[1]} department, and was born in {row[2]}')\n",
    "            line_count += 1\n",
    "    print(f'Processed {line_count} lines.')"
   ]
  },
  {
   "cell_type": "code",
   "execution_count": 22,
   "metadata": {
    "ExecuteTime": {
     "end_time": "2020-11-02T16:15:25.741094Z",
     "start_time": "2020-11-02T16:15:25.735443Z"
    }
   },
   "outputs": [
    {
     "name": "stdout",
     "output_type": "stream",
     "text": [
      "Column names are \n",
      "\tname,address,date joined\n",
      "\tJohn Smith works in the 1234 Somewhere, Cork department, and was born in Jan 01\n",
      "\tErica Meyers works in the 5678 Elsewhere, Dublin department, and was born in Feb 02\n",
      "Processed 3 lines.\n"
     ]
    }
   ],
   "source": [
    "# use excape charater\n",
    "with open('excape_char.csv') as csv_file:\n",
    "    csv_reader = csv.reader(csv_file, delimiter=',', escapechar='|')\n",
    "    line_count = 0\n",
    "    for row in csv_reader:\n",
    "        if line_count ==0:\n",
    "            print(f'Column names are \\n\\t{\",\".join(row)}')\n",
    "            line_count += 1\n",
    "        else:\n",
    "            print(f'\\t{row[0]} works in the {row[1]} department, and was born in {row[2]}')\n",
    "            line_count += 1\n",
    "    print(f'Processed {line_count} lines.')"
   ]
  },
  {
   "cell_type": "markdown",
   "metadata": {},
   "source": [
    "## Writing files"
   ]
  },
  {
   "cell_type": "code",
   "execution_count": 23,
   "metadata": {
    "ExecuteTime": {
     "end_time": "2020-11-02T16:19:07.839377Z",
     "start_time": "2020-11-02T16:19:07.835634Z"
    }
   },
   "outputs": [],
   "source": [
    "# csv.writer\n",
    "with open('employee_file.csv', mode='w') as employee_file:\n",
    "    employee_writer = csv.writer(employee_file, delimiter=',', quotechar='\"', quoting=csv.QUOTE_MINIMAL)\n",
    "    \n",
    "    employee_writer.writerow(['John Smith', 'Accounting', 'November'])\n",
    "    employee_writer.writerow(['Veb Smite', 'IT', 'March'])"
   ]
  },
  {
   "cell_type": "code",
   "execution_count": 24,
   "metadata": {
    "ExecuteTime": {
     "end_time": "2020-11-02T16:22:30.830590Z",
     "start_time": "2020-11-02T16:22:30.826694Z"
    }
   },
   "outputs": [],
   "source": [
    "# csv.DictWriter\n",
    "with open('employee_file_dict.csv', mode='w') as employee_file:\n",
    "    fieldnames = ['name', 'dept', 'birth_month']\n",
    "    employee_writer = csv.DictWriter(employee_file, fieldnames=fieldnames)\n",
    "    \n",
    "    employee_writer.writeheader()\n",
    "    employee_writer.writerow({'name':'John Smith', 'dept':'Accounting', 'birth_month':'November'})\n",
    "    employee_writer.writerow({'name':'Veb Smite', 'dept':'IT', 'birth_month':'March'})"
   ]
  },
  {
   "cell_type": "markdown",
   "metadata": {},
   "source": [
    "## Reading CSVs With Pandas"
   ]
  },
  {
   "cell_type": "code",
   "execution_count": 25,
   "metadata": {
    "ExecuteTime": {
     "end_time": "2020-11-02T16:23:49.178870Z",
     "start_time": "2020-11-02T16:23:48.798843Z"
    }
   },
   "outputs": [
    {
     "name": "stdout",
     "output_type": "stream",
     "text": [
      "             Name Hire Date   Salary  Sick Days remaining\n",
      "0  Graham Chapman  03/15/14  50000.0                   10\n",
      "1     John Cleese  06/01/15  65000.0                    8\n",
      "2       Eric Idle  05/12/14  45000.0                   10\n",
      "3     Terry Jones  11/01/13  70000.0                    3\n",
      "4   Terry Gilliam  08/12/14  48000.0                    7\n",
      "5   Michael Palin  05/23/13  66000.0                    8\n"
     ]
    }
   ],
   "source": [
    "import pandas as pd\n",
    "\n",
    "data_frame = pd.read_csv('hrdata.csv')\n",
    "print(data_frame)"
   ]
  },
  {
   "cell_type": "code",
   "execution_count": 27,
   "metadata": {
    "ExecuteTime": {
     "end_time": "2020-11-02T16:25:03.548324Z",
     "start_time": "2020-11-02T16:25:03.534242Z"
    }
   },
   "outputs": [
    {
     "name": "stdout",
     "output_type": "stream",
     "text": [
      "                Hire Date   Salary  Sick Days remaining\n",
      "Name                                                   \n",
      "Graham Chapman 2014-03-15  50000.0                   10\n",
      "John Cleese    2015-06-01  65000.0                    8\n",
      "Eric Idle      2014-05-12  45000.0                   10\n",
      "Terry Jones    2013-11-01  70000.0                    3\n",
      "Terry Gilliam  2014-08-12  48000.0                    7\n",
      "Michael Palin  2013-05-23  66000.0                    8\n"
     ]
    }
   ],
   "source": [
    "data_frame = pd.read_csv('hrdata.csv', index_col='Name', parse_dates=['Hire Date'])\n",
    "print(data_frame)"
   ]
  },
  {
   "cell_type": "code",
   "execution_count": 29,
   "metadata": {
    "ExecuteTime": {
     "end_time": "2020-11-02T16:26:39.048930Z",
     "start_time": "2020-11-02T16:26:39.038303Z"
    }
   },
   "outputs": [
    {
     "name": "stdout",
     "output_type": "stream",
     "text": [
      "                    Hired   Salary  Sick Days\n",
      "Employee                                     \n",
      "Graham Chapman 2014-03-15  50000.0         10\n",
      "John Cleese    2015-06-01  65000.0          8\n",
      "Eric Idle      2014-05-12  45000.0         10\n",
      "Terry Jones    2013-11-01  70000.0          3\n",
      "Terry Gilliam  2014-08-12  48000.0          7\n",
      "Michael Palin  2013-05-23  66000.0          8\n"
     ]
    }
   ],
   "source": [
    "# import and change col names\n",
    "data_frame = pd.read_csv('hrdata.csv', \n",
    "                         index_col='Employee', \n",
    "                         parse_dates=['Hired'],\n",
    "                         header=0,\n",
    "                         names=['Employee', 'Hired', 'Salary', 'Sick Days']\n",
    "                        )\n",
    "print(data_frame)"
   ]
  },
  {
   "cell_type": "markdown",
   "metadata": {},
   "source": [
    "## Writing CSVs With Pandas"
   ]
  },
  {
   "cell_type": "code",
   "execution_count": 31,
   "metadata": {
    "ExecuteTime": {
     "end_time": "2020-11-02T16:29:29.889220Z",
     "start_time": "2020-11-02T16:29:29.872462Z"
    }
   },
   "outputs": [
    {
     "name": "stdout",
     "output_type": "stream",
     "text": [
      "                    Hired   Salary  Sick Days\n",
      "Employee                                     \n",
      "Graham Chapman 2014-03-15  50000.0         10\n",
      "John Cleese    2015-06-01  65000.0          8\n",
      "Eric Idle      2014-05-12  45000.0         10\n",
      "Terry Jones    2013-11-01  70000.0          3\n",
      "Terry Gilliam  2014-08-12  48000.0          7\n",
      "Michael Palin  2013-05-23  66000.0          8\n"
     ]
    }
   ],
   "source": [
    "df = pd.read_csv('hrdata.csv', \n",
    "                         index_col='Employee', \n",
    "                         parse_dates=['Hired'],\n",
    "                         header=0,\n",
    "                         names=['Employee', 'Hired', 'Salary', 'Sick Days']\n",
    "                        )\n",
    "print(df)\n",
    "\n",
    "df.loc['Cookie Cat'] = ['2016-07-04', 20000.00, 0]\n",
    "\n",
    "df.to_csv('hrdata_modified.csv')"
   ]
  },
  {
   "cell_type": "code",
   "execution_count": null,
   "metadata": {},
   "outputs": [],
   "source": []
  }
 ],
 "metadata": {
  "kernelspec": {
   "display_name": "Python 3",
   "language": "python",
   "name": "python3"
  },
  "language_info": {
   "codemirror_mode": {
    "name": "ipython",
    "version": 3
   },
   "file_extension": ".py",
   "mimetype": "text/x-python",
   "name": "python",
   "nbconvert_exporter": "python",
   "pygments_lexer": "ipython3",
   "version": "3.8.5"
  }
 },
 "nbformat": 4,
 "nbformat_minor": 4
}
